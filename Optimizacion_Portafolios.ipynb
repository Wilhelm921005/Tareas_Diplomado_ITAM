{
 "cells": [
  {
   "cell_type": "code",
   "execution_count": 1,
   "metadata": {},
   "outputs": [],
   "source": [
    "import pandas as pd\n",
    "import numpy as np\n",
    "import matplotlib.pyplot as plt\n",
    "import seaborn as sn"
   ]
  },
  {
   "cell_type": "code",
   "execution_count": 2,
   "metadata": {},
   "outputs": [],
   "source": [
    "market = pd.read_excel(\"./Prueba.xlsx\",parse_dates=[\"DATE\"],index_col=\"DATE\")"
   ]
  },
  {
   "cell_type": "code",
   "execution_count": 3,
   "metadata": {},
   "outputs": [
    {
     "data": {
      "text/html": [
       "<div>\n",
       "<style scoped>\n",
       "    .dataframe tbody tr th:only-of-type {\n",
       "        vertical-align: middle;\n",
       "    }\n",
       "\n",
       "    .dataframe tbody tr th {\n",
       "        vertical-align: top;\n",
       "    }\n",
       "\n",
       "    .dataframe thead th {\n",
       "        text-align: right;\n",
       "    }\n",
       "</style>\n",
       "<table border=\"1\" class=\"dataframe\">\n",
       "  <thead>\n",
       "    <tr style=\"text-align: right;\">\n",
       "      <th></th>\n",
       "      <th>KIMBERA MF Equity</th>\n",
       "      <th>GAPB MF Equity</th>\n",
       "      <th>CEMEXCPO MF Equity</th>\n",
       "      <th>ASURB MF Equity</th>\n",
       "      <th>GFNORTEO MF Equity</th>\n",
       "      <th>KOFUBL MF Equity</th>\n",
       "      <th>AC* MF Equity</th>\n",
       "      <th>LABB MF Equity</th>\n",
       "      <th>FEMSAUBD MF Equity</th>\n",
       "      <th>OMAB MF Equity</th>\n",
       "      <th>...</th>\n",
       "      <th>MEGACPO MF Equity</th>\n",
       "      <th>GCC* MF Equity</th>\n",
       "      <th>BIMBOA MF Equity</th>\n",
       "      <th>GMEXICOB MF Equity</th>\n",
       "      <th>GCARSOA1 MF Equity</th>\n",
       "      <th>TLEVICPO MF Equity</th>\n",
       "      <th>ALFAA MF Equity</th>\n",
       "      <th>BSMXB MF Equity</th>\n",
       "      <th>PINFRA* MF Equity</th>\n",
       "      <th>MEXBOL INDEX</th>\n",
       "    </tr>\n",
       "    <tr>\n",
       "      <th>DATE</th>\n",
       "      <th></th>\n",
       "      <th></th>\n",
       "      <th></th>\n",
       "      <th></th>\n",
       "      <th></th>\n",
       "      <th></th>\n",
       "      <th></th>\n",
       "      <th></th>\n",
       "      <th></th>\n",
       "      <th></th>\n",
       "      <th></th>\n",
       "      <th></th>\n",
       "      <th></th>\n",
       "      <th></th>\n",
       "      <th></th>\n",
       "      <th></th>\n",
       "      <th></th>\n",
       "      <th></th>\n",
       "      <th></th>\n",
       "      <th></th>\n",
       "      <th></th>\n",
       "    </tr>\n",
       "  </thead>\n",
       "  <tbody>\n",
       "    <tr>\n",
       "      <td>2016-01-01</td>\n",
       "      <td>40.37</td>\n",
       "      <td>152.05</td>\n",
       "      <td>8.72</td>\n",
       "      <td>243.89</td>\n",
       "      <td>94.99</td>\n",
       "      <td>123.90</td>\n",
       "      <td>104.68</td>\n",
       "      <td>13.85</td>\n",
       "      <td>161.63</td>\n",
       "      <td>83.61</td>\n",
       "      <td>...</td>\n",
       "      <td>64.19</td>\n",
       "      <td>44.81</td>\n",
       "      <td>45.95</td>\n",
       "      <td>36.79</td>\n",
       "      <td>70.98</td>\n",
       "      <td>94.34</td>\n",
       "      <td>34.10</td>\n",
       "      <td>30.25</td>\n",
       "      <td>202.73</td>\n",
       "      <td>42977.50</td>\n",
       "    </tr>\n",
       "    <tr>\n",
       "      <td>2016-01-04</td>\n",
       "      <td>39.16</td>\n",
       "      <td>148.57</td>\n",
       "      <td>8.43</td>\n",
       "      <td>238.29</td>\n",
       "      <td>91.79</td>\n",
       "      <td>120.29</td>\n",
       "      <td>102.09</td>\n",
       "      <td>14.41</td>\n",
       "      <td>157.62</td>\n",
       "      <td>81.77</td>\n",
       "      <td>...</td>\n",
       "      <td>64.45</td>\n",
       "      <td>43.51</td>\n",
       "      <td>45.02</td>\n",
       "      <td>35.71</td>\n",
       "      <td>69.83</td>\n",
       "      <td>92.62</td>\n",
       "      <td>33.74</td>\n",
       "      <td>29.46</td>\n",
       "      <td>202.93</td>\n",
       "      <td>42113.70</td>\n",
       "    </tr>\n",
       "    <tr>\n",
       "      <td>2016-01-05</td>\n",
       "      <td>38.89</td>\n",
       "      <td>147.93</td>\n",
       "      <td>8.31</td>\n",
       "      <td>233.03</td>\n",
       "      <td>91.72</td>\n",
       "      <td>118.82</td>\n",
       "      <td>101.12</td>\n",
       "      <td>13.77</td>\n",
       "      <td>157.80</td>\n",
       "      <td>81.58</td>\n",
       "      <td>...</td>\n",
       "      <td>63.16</td>\n",
       "      <td>43.51</td>\n",
       "      <td>45.77</td>\n",
       "      <td>36.45</td>\n",
       "      <td>70.70</td>\n",
       "      <td>91.89</td>\n",
       "      <td>33.99</td>\n",
       "      <td>29.72</td>\n",
       "      <td>203.56</td>\n",
       "      <td>42041.68</td>\n",
       "    </tr>\n",
       "    <tr>\n",
       "      <td>2016-01-06</td>\n",
       "      <td>39.13</td>\n",
       "      <td>146.99</td>\n",
       "      <td>8.29</td>\n",
       "      <td>231.97</td>\n",
       "      <td>91.63</td>\n",
       "      <td>120.32</td>\n",
       "      <td>102.50</td>\n",
       "      <td>13.65</td>\n",
       "      <td>156.37</td>\n",
       "      <td>82.03</td>\n",
       "      <td>...</td>\n",
       "      <td>63.27</td>\n",
       "      <td>43.51</td>\n",
       "      <td>45.97</td>\n",
       "      <td>35.57</td>\n",
       "      <td>70.47</td>\n",
       "      <td>90.41</td>\n",
       "      <td>33.65</td>\n",
       "      <td>29.67</td>\n",
       "      <td>199.80</td>\n",
       "      <td>41691.19</td>\n",
       "    </tr>\n",
       "    <tr>\n",
       "      <td>2016-01-07</td>\n",
       "      <td>39.16</td>\n",
       "      <td>141.32</td>\n",
       "      <td>7.64</td>\n",
       "      <td>230.71</td>\n",
       "      <td>89.54</td>\n",
       "      <td>120.20</td>\n",
       "      <td>101.16</td>\n",
       "      <td>13.25</td>\n",
       "      <td>155.14</td>\n",
       "      <td>80.94</td>\n",
       "      <td>...</td>\n",
       "      <td>62.78</td>\n",
       "      <td>42.76</td>\n",
       "      <td>46.18</td>\n",
       "      <td>35.01</td>\n",
       "      <td>68.15</td>\n",
       "      <td>90.23</td>\n",
       "      <td>31.46</td>\n",
       "      <td>28.50</td>\n",
       "      <td>196.75</td>\n",
       "      <td>40661.57</td>\n",
       "    </tr>\n",
       "  </tbody>\n",
       "</table>\n",
       "<p>5 rows × 36 columns</p>\n",
       "</div>"
      ],
      "text/plain": [
       "            KIMBERA MF Equity  GAPB MF Equity  CEMEXCPO MF Equity  \\\n",
       "DATE                                                                \n",
       "2016-01-01              40.37          152.05                8.72   \n",
       "2016-01-04              39.16          148.57                8.43   \n",
       "2016-01-05              38.89          147.93                8.31   \n",
       "2016-01-06              39.13          146.99                8.29   \n",
       "2016-01-07              39.16          141.32                7.64   \n",
       "\n",
       "            ASURB MF Equity  GFNORTEO MF Equity  KOFUBL MF Equity  \\\n",
       "DATE                                                                \n",
       "2016-01-01           243.89               94.99            123.90   \n",
       "2016-01-04           238.29               91.79            120.29   \n",
       "2016-01-05           233.03               91.72            118.82   \n",
       "2016-01-06           231.97               91.63            120.32   \n",
       "2016-01-07           230.71               89.54            120.20   \n",
       "\n",
       "            AC* MF Equity  LABB MF Equity  FEMSAUBD MF Equity  OMAB MF Equity  \\\n",
       "DATE                                                                            \n",
       "2016-01-01         104.68           13.85              161.63           83.61   \n",
       "2016-01-04         102.09           14.41              157.62           81.77   \n",
       "2016-01-05         101.12           13.77              157.80           81.58   \n",
       "2016-01-06         102.50           13.65              156.37           82.03   \n",
       "2016-01-07         101.16           13.25              155.14           80.94   \n",
       "\n",
       "            ...  MEGACPO MF Equity  GCC* MF Equity  BIMBOA MF Equity  \\\n",
       "DATE        ...                                                        \n",
       "2016-01-01  ...              64.19           44.81             45.95   \n",
       "2016-01-04  ...              64.45           43.51             45.02   \n",
       "2016-01-05  ...              63.16           43.51             45.77   \n",
       "2016-01-06  ...              63.27           43.51             45.97   \n",
       "2016-01-07  ...              62.78           42.76             46.18   \n",
       "\n",
       "            GMEXICOB MF Equity  GCARSOA1 MF Equity  TLEVICPO MF Equity  \\\n",
       "DATE                                                                     \n",
       "2016-01-01               36.79               70.98               94.34   \n",
       "2016-01-04               35.71               69.83               92.62   \n",
       "2016-01-05               36.45               70.70               91.89   \n",
       "2016-01-06               35.57               70.47               90.41   \n",
       "2016-01-07               35.01               68.15               90.23   \n",
       "\n",
       "            ALFAA MF Equity  BSMXB MF Equity  PINFRA* MF Equity  MEXBOL INDEX  \n",
       "DATE                                                                           \n",
       "2016-01-01            34.10            30.25             202.73      42977.50  \n",
       "2016-01-04            33.74            29.46             202.93      42113.70  \n",
       "2016-01-05            33.99            29.72             203.56      42041.68  \n",
       "2016-01-06            33.65            29.67             199.80      41691.19  \n",
       "2016-01-07            31.46            28.50             196.75      40661.57  \n",
       "\n",
       "[5 rows x 36 columns]"
      ]
     },
     "execution_count": 3,
     "metadata": {},
     "output_type": "execute_result"
    }
   ],
   "source": [
    "market.head()"
   ]
  },
  {
   "cell_type": "code",
   "execution_count": 4,
   "metadata": {},
   "outputs": [
    {
     "data": {
      "text/html": [
       "<div>\n",
       "<style scoped>\n",
       "    .dataframe tbody tr th:only-of-type {\n",
       "        vertical-align: middle;\n",
       "    }\n",
       "\n",
       "    .dataframe tbody tr th {\n",
       "        vertical-align: top;\n",
       "    }\n",
       "\n",
       "    .dataframe thead th {\n",
       "        text-align: right;\n",
       "    }\n",
       "</style>\n",
       "<table border=\"1\" class=\"dataframe\">\n",
       "  <thead>\n",
       "    <tr style=\"text-align: right;\">\n",
       "      <th></th>\n",
       "      <th>KIMBERA</th>\n",
       "      <th>GAPB</th>\n",
       "      <th>CEMEXCPO</th>\n",
       "      <th>ASURB</th>\n",
       "      <th>GFNORTEO</th>\n",
       "      <th>KOFUBL</th>\n",
       "      <th>AC*</th>\n",
       "      <th>LABB</th>\n",
       "      <th>FEMSAUBD</th>\n",
       "      <th>OMAB</th>\n",
       "      <th>...</th>\n",
       "      <th>MEGACPO</th>\n",
       "      <th>GCC*</th>\n",
       "      <th>BIMBOA</th>\n",
       "      <th>GMEXICOB</th>\n",
       "      <th>GCARSOA1</th>\n",
       "      <th>TLEVICPO</th>\n",
       "      <th>ALFAA</th>\n",
       "      <th>BSMXB</th>\n",
       "      <th>PINFRA*</th>\n",
       "      <th>MEXBOL INDEX</th>\n",
       "    </tr>\n",
       "    <tr>\n",
       "      <th>DATE</th>\n",
       "      <th></th>\n",
       "      <th></th>\n",
       "      <th></th>\n",
       "      <th></th>\n",
       "      <th></th>\n",
       "      <th></th>\n",
       "      <th></th>\n",
       "      <th></th>\n",
       "      <th></th>\n",
       "      <th></th>\n",
       "      <th></th>\n",
       "      <th></th>\n",
       "      <th></th>\n",
       "      <th></th>\n",
       "      <th></th>\n",
       "      <th></th>\n",
       "      <th></th>\n",
       "      <th></th>\n",
       "      <th></th>\n",
       "      <th></th>\n",
       "      <th></th>\n",
       "    </tr>\n",
       "  </thead>\n",
       "  <tbody>\n",
       "    <tr>\n",
       "      <td>2017-06-08</td>\n",
       "      <td>0.021310</td>\n",
       "      <td>-0.006157</td>\n",
       "      <td>0.015489</td>\n",
       "      <td>-0.010401</td>\n",
       "      <td>-0.013458</td>\n",
       "      <td>-0.008074</td>\n",
       "      <td>-0.042311</td>\n",
       "      <td>0.006852</td>\n",
       "      <td>-0.011419</td>\n",
       "      <td>-0.001199</td>\n",
       "      <td>...</td>\n",
       "      <td>-0.002221</td>\n",
       "      <td>0.004935</td>\n",
       "      <td>0.001732</td>\n",
       "      <td>-0.005342</td>\n",
       "      <td>0.008094</td>\n",
       "      <td>-0.007527</td>\n",
       "      <td>0.010765</td>\n",
       "      <td>-0.010177</td>\n",
       "      <td>-0.003959</td>\n",
       "      <td>-0.003805</td>\n",
       "    </tr>\n",
       "    <tr>\n",
       "      <td>2017-06-09</td>\n",
       "      <td>-0.009016</td>\n",
       "      <td>-0.010074</td>\n",
       "      <td>0.025015</td>\n",
       "      <td>0.007274</td>\n",
       "      <td>-0.003226</td>\n",
       "      <td>-0.006642</td>\n",
       "      <td>-0.005936</td>\n",
       "      <td>-0.008082</td>\n",
       "      <td>-0.010631</td>\n",
       "      <td>0.000100</td>\n",
       "      <td>...</td>\n",
       "      <td>0.000974</td>\n",
       "      <td>0.007143</td>\n",
       "      <td>-0.009726</td>\n",
       "      <td>0.006167</td>\n",
       "      <td>-0.012999</td>\n",
       "      <td>-0.002830</td>\n",
       "      <td>-0.004774</td>\n",
       "      <td>-0.002056</td>\n",
       "      <td>-0.004337</td>\n",
       "      <td>-0.000117</td>\n",
       "    </tr>\n",
       "    <tr>\n",
       "      <td>2017-06-12</td>\n",
       "      <td>0.018196</td>\n",
       "      <td>0.017088</td>\n",
       "      <td>0.002381</td>\n",
       "      <td>-0.018617</td>\n",
       "      <td>0.012391</td>\n",
       "      <td>-0.000656</td>\n",
       "      <td>0.001361</td>\n",
       "      <td>-0.011578</td>\n",
       "      <td>-0.004414</td>\n",
       "      <td>-0.001701</td>\n",
       "      <td>...</td>\n",
       "      <td>0.007228</td>\n",
       "      <td>-0.002660</td>\n",
       "      <td>0.024007</td>\n",
       "      <td>-0.013049</td>\n",
       "      <td>0.005939</td>\n",
       "      <td>0.007492</td>\n",
       "      <td>0.004797</td>\n",
       "      <td>0.008831</td>\n",
       "      <td>0.006326</td>\n",
       "      <td>0.000958</td>\n",
       "    </tr>\n",
       "    <tr>\n",
       "      <td>2017-06-13</td>\n",
       "      <td>-0.012254</td>\n",
       "      <td>0.019637</td>\n",
       "      <td>-0.006532</td>\n",
       "      <td>0.006407</td>\n",
       "      <td>0.007581</td>\n",
       "      <td>-0.016006</td>\n",
       "      <td>0.017286</td>\n",
       "      <td>-0.003905</td>\n",
       "      <td>-0.000292</td>\n",
       "      <td>0.013226</td>\n",
       "      <td>...</td>\n",
       "      <td>0.000552</td>\n",
       "      <td>-0.002222</td>\n",
       "      <td>-0.016837</td>\n",
       "      <td>-0.000200</td>\n",
       "      <td>-0.006546</td>\n",
       "      <td>0.003718</td>\n",
       "      <td>-0.005141</td>\n",
       "      <td>0.018675</td>\n",
       "      <td>0.020146</td>\n",
       "      <td>-0.002075</td>\n",
       "    </tr>\n",
       "    <tr>\n",
       "      <td>2017-06-14</td>\n",
       "      <td>0.013699</td>\n",
       "      <td>0.014903</td>\n",
       "      <td>0.000000</td>\n",
       "      <td>0.010676</td>\n",
       "      <td>0.001904</td>\n",
       "      <td>0.001133</td>\n",
       "      <td>-0.007568</td>\n",
       "      <td>0.001307</td>\n",
       "      <td>0.002918</td>\n",
       "      <td>0.024426</td>\n",
       "      <td>...</td>\n",
       "      <td>0.003862</td>\n",
       "      <td>-0.000668</td>\n",
       "      <td>0.013657</td>\n",
       "      <td>0.003005</td>\n",
       "      <td>0.012791</td>\n",
       "      <td>-0.001010</td>\n",
       "      <td>0.001477</td>\n",
       "      <td>0.006875</td>\n",
       "      <td>0.018132</td>\n",
       "      <td>0.005389</td>\n",
       "    </tr>\n",
       "  </tbody>\n",
       "</table>\n",
       "<p>5 rows × 36 columns</p>\n",
       "</div>"
      ],
      "text/plain": [
       "             KIMBERA      GAPB  CEMEXCPO     ASURB  GFNORTEO    KOFUBL  \\\n",
       "DATE                                                                     \n",
       "2017-06-08  0.021310 -0.006157  0.015489 -0.010401 -0.013458 -0.008074   \n",
       "2017-06-09 -0.009016 -0.010074  0.025015  0.007274 -0.003226 -0.006642   \n",
       "2017-06-12  0.018196  0.017088  0.002381 -0.018617  0.012391 -0.000656   \n",
       "2017-06-13 -0.012254  0.019637 -0.006532  0.006407  0.007581 -0.016006   \n",
       "2017-06-14  0.013699  0.014903  0.000000  0.010676  0.001904  0.001133   \n",
       "\n",
       "                 AC*      LABB  FEMSAUBD      OMAB  ...   MEGACPO      GCC*  \\\n",
       "DATE                                                ...                       \n",
       "2017-06-08 -0.042311  0.006852 -0.011419 -0.001199  ... -0.002221  0.004935   \n",
       "2017-06-09 -0.005936 -0.008082 -0.010631  0.000100  ...  0.000974  0.007143   \n",
       "2017-06-12  0.001361 -0.011578 -0.004414 -0.001701  ...  0.007228 -0.002660   \n",
       "2017-06-13  0.017286 -0.003905 -0.000292  0.013226  ...  0.000552 -0.002222   \n",
       "2017-06-14 -0.007568  0.001307  0.002918  0.024426  ...  0.003862 -0.000668   \n",
       "\n",
       "              BIMBOA  GMEXICOB  GCARSOA1  TLEVICPO     ALFAA     BSMXB  \\\n",
       "DATE                                                                     \n",
       "2017-06-08  0.001732 -0.005342  0.008094 -0.007527  0.010765 -0.010177   \n",
       "2017-06-09 -0.009726  0.006167 -0.012999 -0.002830 -0.004774 -0.002056   \n",
       "2017-06-12  0.024007 -0.013049  0.005939  0.007492  0.004797  0.008831   \n",
       "2017-06-13 -0.016837 -0.000200 -0.006546  0.003718 -0.005141  0.018675   \n",
       "2017-06-14  0.013657  0.003005  0.012791 -0.001010  0.001477  0.006875   \n",
       "\n",
       "             PINFRA*  MEXBOL INDEX  \n",
       "DATE                                \n",
       "2017-06-08 -0.003959     -0.003805  \n",
       "2017-06-09 -0.004337     -0.000117  \n",
       "2017-06-12  0.006326      0.000958  \n",
       "2017-06-13  0.020146     -0.002075  \n",
       "2017-06-14  0.018132      0.005389  \n",
       "\n",
       "[5 rows x 36 columns]"
      ]
     },
     "execution_count": 4,
     "metadata": {},
     "output_type": "execute_result"
    }
   ],
   "source": [
    "rets = market.pct_change().dropna(axis=0)\n",
    "rets.columns = [col.replace(\"MF Equity\", \"\").strip() for col in rets.columns]\n",
    "rets.head()"
   ]
  },
  {
   "cell_type": "code",
   "execution_count": 5,
   "metadata": {},
   "outputs": [
    {
     "data": {
      "text/html": [
       "<div>\n",
       "<style scoped>\n",
       "    .dataframe tbody tr th:only-of-type {\n",
       "        vertical-align: middle;\n",
       "    }\n",
       "\n",
       "    .dataframe tbody tr th {\n",
       "        vertical-align: top;\n",
       "    }\n",
       "\n",
       "    .dataframe thead th {\n",
       "        text-align: right;\n",
       "    }\n",
       "</style>\n",
       "<table border=\"1\" class=\"dataframe\">\n",
       "  <thead>\n",
       "    <tr style=\"text-align: right;\">\n",
       "      <th></th>\n",
       "      <th>KIMBERA</th>\n",
       "      <th>CEMEXCPO</th>\n",
       "    </tr>\n",
       "    <tr>\n",
       "      <th>DATE</th>\n",
       "      <th></th>\n",
       "      <th></th>\n",
       "    </tr>\n",
       "  </thead>\n",
       "  <tbody>\n",
       "    <tr>\n",
       "      <td>2017-06-08</td>\n",
       "      <td>0.021310</td>\n",
       "      <td>0.015489</td>\n",
       "    </tr>\n",
       "    <tr>\n",
       "      <td>2017-06-09</td>\n",
       "      <td>-0.009016</td>\n",
       "      <td>0.025015</td>\n",
       "    </tr>\n",
       "    <tr>\n",
       "      <td>2017-06-12</td>\n",
       "      <td>0.018196</td>\n",
       "      <td>0.002381</td>\n",
       "    </tr>\n",
       "    <tr>\n",
       "      <td>2017-06-13</td>\n",
       "      <td>-0.012254</td>\n",
       "      <td>-0.006532</td>\n",
       "    </tr>\n",
       "    <tr>\n",
       "      <td>2017-06-14</td>\n",
       "      <td>0.013699</td>\n",
       "      <td>0.000000</td>\n",
       "    </tr>\n",
       "    <tr>\n",
       "      <td>...</td>\n",
       "      <td>...</td>\n",
       "      <td>...</td>\n",
       "    </tr>\n",
       "    <tr>\n",
       "      <td>2019-12-30</td>\n",
       "      <td>-0.006964</td>\n",
       "      <td>-0.009682</td>\n",
       "    </tr>\n",
       "    <tr>\n",
       "      <td>2019-12-31</td>\n",
       "      <td>-0.025974</td>\n",
       "      <td>-0.011173</td>\n",
       "    </tr>\n",
       "    <tr>\n",
       "      <td>2020-01-01</td>\n",
       "      <td>0.000000</td>\n",
       "      <td>0.000000</td>\n",
       "    </tr>\n",
       "    <tr>\n",
       "      <td>2020-01-02</td>\n",
       "      <td>0.015733</td>\n",
       "      <td>0.011299</td>\n",
       "    </tr>\n",
       "    <tr>\n",
       "      <td>2020-01-03</td>\n",
       "      <td>-0.000525</td>\n",
       "      <td>0.004190</td>\n",
       "    </tr>\n",
       "  </tbody>\n",
       "</table>\n",
       "<p>672 rows × 2 columns</p>\n",
       "</div>"
      ],
      "text/plain": [
       "             KIMBERA  CEMEXCPO\n",
       "DATE                          \n",
       "2017-06-08  0.021310  0.015489\n",
       "2017-06-09 -0.009016  0.025015\n",
       "2017-06-12  0.018196  0.002381\n",
       "2017-06-13 -0.012254 -0.006532\n",
       "2017-06-14  0.013699  0.000000\n",
       "...              ...       ...\n",
       "2019-12-30 -0.006964 -0.009682\n",
       "2019-12-31 -0.025974 -0.011173\n",
       "2020-01-01  0.000000  0.000000\n",
       "2020-01-02  0.015733  0.011299\n",
       "2020-01-03 -0.000525  0.004190\n",
       "\n",
       "[672 rows x 2 columns]"
      ]
     },
     "execution_count": 5,
     "metadata": {},
     "output_type": "execute_result"
    }
   ],
   "source": [
    "rets[[\"KIMBERA\",\"CEMEXCPO\"]]"
   ]
  },
  {
   "cell_type": "code",
   "execution_count": 6,
   "metadata": {},
   "outputs": [
    {
     "data": {
      "text/plain": [
       "672"
      ]
     },
     "execution_count": 6,
     "metadata": {},
     "output_type": "execute_result"
    }
   ],
   "source": [
    "N = len(rets)\n",
    "N"
   ]
  },
  {
   "cell_type": "code",
   "execution_count": 7,
   "metadata": {},
   "outputs": [
    {
     "data": {
      "text/plain": [
       "array([[ 1.49370257e-03, -2.43496372e-03,  5.12664698e-03],\n",
       "       [-2.43496372e-03,  6.44407128e+00, -1.56013724e+00],\n",
       "       [ 5.12664698e-03, -1.56013724e+00,  4.76953709e+00]])"
      ]
     },
     "execution_count": 7,
     "metadata": {},
     "output_type": "execute_result"
    }
   ],
   "source": [
    "Phi = np.c_[np.ones(N), rets[[\"KIMBERA\",\"CEMEXCPO\"]].values]\n",
    "np.linalg.inv(Phi.T @ Phi)"
   ]
  },
  {
   "cell_type": "code",
   "execution_count": 8,
   "metadata": {},
   "outputs": [
    {
     "data": {
      "text/plain": [
       "array([[1., 0., 1., 0.],\n",
       "       [0., 1., 0., 1.],\n",
       "       [1., 0., 1., 0.],\n",
       "       [0., 1., 0., 1.]])"
      ]
     },
     "execution_count": 8,
     "metadata": {},
     "output_type": "execute_result"
    }
   ],
   "source": [
    "I = np.concatenate([np.identity(2)]*2,axis=1)\n",
    "I = np.concatenate([I]*2, axis=0)\n",
    "I"
   ]
  },
  {
   "cell_type": "code",
   "execution_count": 9,
   "metadata": {},
   "outputs": [
    {
     "data": {
      "text/plain": [
       "(70, 70)"
      ]
     },
     "execution_count": 9,
     "metadata": {},
     "output_type": "execute_result"
    }
   ],
   "source": [
    "Phi = rets.iloc[:,:-1].values\n",
    "t = rets.iloc[:,[-1]]\n",
    "N, M = Phi.shape\n",
    "I = np.concatenate([np.identity(M)]*2,axis=1)\n",
    "I = np.concatenate([I]*2,axis=0)\n",
    "I.shape"
   ]
  },
  {
   "cell_type": "code",
   "execution_count": 10,
   "metadata": {},
   "outputs": [],
   "source": [
    "P = np.ones((N,M))\n",
    "P = np.c_[P, Phi]"
   ]
  },
  {
   "cell_type": "code",
   "execution_count": 11,
   "metadata": {},
   "outputs": [],
   "source": [
    "W = np.linalg.inv((P.T@P)*I)@P.T@t\n",
    "W[\"security\"] = np.concatenate([rets.columns[:-1]]*2)\n",
    "W[\"param\"] = [\"alpha\"]*M + [\"beta\"]*M\n",
    "B = W.pivot_table(index=\"security\", columns = \"param\", values=\"MEXBOL INDEX\")"
   ]
  },
  {
   "cell_type": "code",
   "execution_count": 12,
   "metadata": {},
   "outputs": [
    {
     "data": {
      "text/html": [
       "<div>\n",
       "<style scoped>\n",
       "    .dataframe tbody tr th:only-of-type {\n",
       "        vertical-align: middle;\n",
       "    }\n",
       "\n",
       "    .dataframe tbody tr th {\n",
       "        vertical-align: top;\n",
       "    }\n",
       "\n",
       "    .dataframe thead th {\n",
       "        text-align: right;\n",
       "    }\n",
       "</style>\n",
       "<table border=\"1\" class=\"dataframe\">\n",
       "  <thead>\n",
       "    <tr style=\"text-align: right;\">\n",
       "      <th>param</th>\n",
       "      <th>alpha</th>\n",
       "      <th>beta</th>\n",
       "    </tr>\n",
       "    <tr>\n",
       "      <th>security</th>\n",
       "      <th></th>\n",
       "      <th></th>\n",
       "    </tr>\n",
       "  </thead>\n",
       "  <tbody>\n",
       "    <tr>\n",
       "      <td>FEMSAUBD</td>\n",
       "      <td>-0.000168</td>\n",
       "      <td>0.460590</td>\n",
       "    </tr>\n",
       "    <tr>\n",
       "      <td>AMXL</td>\n",
       "      <td>-0.000176</td>\n",
       "      <td>0.432599</td>\n",
       "    </tr>\n",
       "    <tr>\n",
       "      <td>KOFUBL</td>\n",
       "      <td>0.000011</td>\n",
       "      <td>0.348460</td>\n",
       "    </tr>\n",
       "    <tr>\n",
       "      <td>GFNORTEO</td>\n",
       "      <td>-0.000170</td>\n",
       "      <td>0.305996</td>\n",
       "    </tr>\n",
       "    <tr>\n",
       "      <td>ASURB</td>\n",
       "      <td>-0.000141</td>\n",
       "      <td>0.300818</td>\n",
       "    </tr>\n",
       "    <tr>\n",
       "      <td>WALMEX*</td>\n",
       "      <td>-0.000256</td>\n",
       "      <td>0.294421</td>\n",
       "    </tr>\n",
       "    <tr>\n",
       "      <td>BBAJIOO</td>\n",
       "      <td>-0.000183</td>\n",
       "      <td>0.289782</td>\n",
       "    </tr>\n",
       "    <tr>\n",
       "      <td>AC*</td>\n",
       "      <td>-0.000002</td>\n",
       "      <td>0.288872</td>\n",
       "    </tr>\n",
       "    <tr>\n",
       "      <td>GAPB</td>\n",
       "      <td>-0.000232</td>\n",
       "      <td>0.287803</td>\n",
       "    </tr>\n",
       "    <tr>\n",
       "      <td>CEMEXCPO</td>\n",
       "      <td>0.000177</td>\n",
       "      <td>0.278361</td>\n",
       "    </tr>\n",
       "    <tr>\n",
       "      <td>BIMBOA</td>\n",
       "      <td>-0.000033</td>\n",
       "      <td>0.276433</td>\n",
       "    </tr>\n",
       "    <tr>\n",
       "      <td>OMAB</td>\n",
       "      <td>-0.000287</td>\n",
       "      <td>0.272023</td>\n",
       "    </tr>\n",
       "    <tr>\n",
       "      <td>PINFRA*</td>\n",
       "      <td>-0.000145</td>\n",
       "      <td>0.270899</td>\n",
       "    </tr>\n",
       "    <tr>\n",
       "      <td>GFINBURO</td>\n",
       "      <td>-0.000038</td>\n",
       "      <td>0.266586</td>\n",
       "    </tr>\n",
       "    <tr>\n",
       "      <td>LIVEPOLC</td>\n",
       "      <td>-0.000006</td>\n",
       "      <td>0.266119</td>\n",
       "    </tr>\n",
       "    <tr>\n",
       "      <td>GMEXICOB</td>\n",
       "      <td>-0.000180</td>\n",
       "      <td>0.265880</td>\n",
       "    </tr>\n",
       "    <tr>\n",
       "      <td>ALFAA</td>\n",
       "      <td>0.000044</td>\n",
       "      <td>0.260412</td>\n",
       "    </tr>\n",
       "    <tr>\n",
       "      <td>BSMXB</td>\n",
       "      <td>-0.000047</td>\n",
       "      <td>0.259398</td>\n",
       "    </tr>\n",
       "    <tr>\n",
       "      <td>GRUMAB</td>\n",
       "      <td>-0.000056</td>\n",
       "      <td>0.258783</td>\n",
       "    </tr>\n",
       "    <tr>\n",
       "      <td>ORBIA*</td>\n",
       "      <td>-0.000088</td>\n",
       "      <td>0.252258</td>\n",
       "    </tr>\n",
       "    <tr>\n",
       "      <td>IENOVA*</td>\n",
       "      <td>-0.000148</td>\n",
       "      <td>0.243723</td>\n",
       "    </tr>\n",
       "    <tr>\n",
       "      <td>KIMBERA</td>\n",
       "      <td>-0.000142</td>\n",
       "      <td>0.242539</td>\n",
       "    </tr>\n",
       "    <tr>\n",
       "      <td>ALSEA*</td>\n",
       "      <td>-0.000039</td>\n",
       "      <td>0.240180</td>\n",
       "    </tr>\n",
       "    <tr>\n",
       "      <td>RA</td>\n",
       "      <td>-0.000150</td>\n",
       "      <td>0.230952</td>\n",
       "    </tr>\n",
       "    <tr>\n",
       "      <td>GCC*</td>\n",
       "      <td>-0.000167</td>\n",
       "      <td>0.213326</td>\n",
       "    </tr>\n",
       "    <tr>\n",
       "      <td>GCARSOA1</td>\n",
       "      <td>-0.000134</td>\n",
       "      <td>0.205247</td>\n",
       "    </tr>\n",
       "    <tr>\n",
       "      <td>PE&amp;OLES*</td>\n",
       "      <td>0.000036</td>\n",
       "      <td>0.191601</td>\n",
       "    </tr>\n",
       "    <tr>\n",
       "      <td>TLEVICPO</td>\n",
       "      <td>0.000042</td>\n",
       "      <td>0.184326</td>\n",
       "    </tr>\n",
       "    <tr>\n",
       "      <td>ALPEKA</td>\n",
       "      <td>-0.000119</td>\n",
       "      <td>0.177056</td>\n",
       "    </tr>\n",
       "    <tr>\n",
       "      <td>BOLSAA</td>\n",
       "      <td>-0.000210</td>\n",
       "      <td>0.171829</td>\n",
       "    </tr>\n",
       "    <tr>\n",
       "      <td>MEGACPO</td>\n",
       "      <td>-0.000146</td>\n",
       "      <td>0.169574</td>\n",
       "    </tr>\n",
       "    <tr>\n",
       "      <td>GENTERA*</td>\n",
       "      <td>-0.000051</td>\n",
       "      <td>0.159698</td>\n",
       "    </tr>\n",
       "    <tr>\n",
       "      <td>LABB</td>\n",
       "      <td>-0.000095</td>\n",
       "      <td>0.145939</td>\n",
       "    </tr>\n",
       "    <tr>\n",
       "      <td>CUERVO*</td>\n",
       "      <td>-0.000134</td>\n",
       "      <td>0.117393</td>\n",
       "    </tr>\n",
       "    <tr>\n",
       "      <td>ELEKTRA*</td>\n",
       "      <td>-0.000203</td>\n",
       "      <td>0.093265</td>\n",
       "    </tr>\n",
       "  </tbody>\n",
       "</table>\n",
       "</div>"
      ],
      "text/plain": [
       "param        alpha      beta\n",
       "security                    \n",
       "FEMSAUBD -0.000168  0.460590\n",
       "AMXL     -0.000176  0.432599\n",
       "KOFUBL    0.000011  0.348460\n",
       "GFNORTEO -0.000170  0.305996\n",
       "ASURB    -0.000141  0.300818\n",
       "WALMEX*  -0.000256  0.294421\n",
       "BBAJIOO  -0.000183  0.289782\n",
       "AC*      -0.000002  0.288872\n",
       "GAPB     -0.000232  0.287803\n",
       "CEMEXCPO  0.000177  0.278361\n",
       "BIMBOA   -0.000033  0.276433\n",
       "OMAB     -0.000287  0.272023\n",
       "PINFRA*  -0.000145  0.270899\n",
       "GFINBURO -0.000038  0.266586\n",
       "LIVEPOLC -0.000006  0.266119\n",
       "GMEXICOB -0.000180  0.265880\n",
       "ALFAA     0.000044  0.260412\n",
       "BSMXB    -0.000047  0.259398\n",
       "GRUMAB   -0.000056  0.258783\n",
       "ORBIA*   -0.000088  0.252258\n",
       "IENOVA*  -0.000148  0.243723\n",
       "KIMBERA  -0.000142  0.242539\n",
       "ALSEA*   -0.000039  0.240180\n",
       "RA       -0.000150  0.230952\n",
       "GCC*     -0.000167  0.213326\n",
       "GCARSOA1 -0.000134  0.205247\n",
       "PE&OLES*  0.000036  0.191601\n",
       "TLEVICPO  0.000042  0.184326\n",
       "ALPEKA   -0.000119  0.177056\n",
       "BOLSAA   -0.000210  0.171829\n",
       "MEGACPO  -0.000146  0.169574\n",
       "GENTERA* -0.000051  0.159698\n",
       "LABB     -0.000095  0.145939\n",
       "CUERVO*  -0.000134  0.117393\n",
       "ELEKTRA* -0.000203  0.093265"
      ]
     },
     "execution_count": 12,
     "metadata": {},
     "output_type": "execute_result"
    }
   ],
   "source": [
    "B.sort_values(\"beta\",ascending=False)"
   ]
  },
  {
   "cell_type": "code",
   "execution_count": 13,
   "metadata": {},
   "outputs": [
    {
     "data": {
      "application/vnd.jupyter.widget-view+json": {
       "model_id": "17f95e1d1749499dbe470c8905d05ad7",
       "version_major": 2,
       "version_minor": 0
      },
      "text/plain": [
       "interactive(children=(Dropdown(description='security', options=('KIMBERA', 'GAPB', 'CEMEXCPO', 'ASURB', 'GFNOR…"
      ]
     },
     "metadata": {},
     "output_type": "display_data"
    }
   ],
   "source": [
    "from ipywidgets import interact\n",
    "\n",
    "@interact(security=rets.columns[:-1])\n",
    "def plot_capm(security):\n",
    "    rets.plot.scatter(x=security, y =\"MEXBOL INDEX\")\n",
    "    sec = rets[security]\n",
    "    x = np.linspace(sec.min(), sec.max(), 100)\n",
    "    alpha, beta = B.loc[security]\n",
    "    plt.plot(x, alpha + beta*x, c=\"tab:orange\", linewidth=4)\n",
    "    plt.title(rf\"$\\alpha={alpha:0.4f}$ | $\\beta={beta:0.3f}$\")"
   ]
  },
  {
   "cell_type": "markdown",
   "metadata": {},
   "source": [
    "## Optimización de los pesos"
   ]
  },
  {
   "cell_type": "code",
   "execution_count": 14,
   "metadata": {},
   "outputs": [
    {
     "data": {
      "text/html": [
       "<div>\n",
       "<style scoped>\n",
       "    .dataframe tbody tr th:only-of-type {\n",
       "        vertical-align: middle;\n",
       "    }\n",
       "\n",
       "    .dataframe tbody tr th {\n",
       "        vertical-align: top;\n",
       "    }\n",
       "\n",
       "    .dataframe thead th {\n",
       "        text-align: right;\n",
       "    }\n",
       "</style>\n",
       "<table border=\"1\" class=\"dataframe\">\n",
       "  <thead>\n",
       "    <tr style=\"text-align: right;\">\n",
       "      <th></th>\n",
       "      <th>ASURB MF Equity</th>\n",
       "      <th>GFNORTEO MF Equity</th>\n",
       "      <th>PE&amp;OLES* MF Equity</th>\n",
       "      <th>WALMEX* MF Equity</th>\n",
       "      <th>IENOVA* MF Equity</th>\n",
       "    </tr>\n",
       "    <tr>\n",
       "      <th>DATE</th>\n",
       "      <th></th>\n",
       "      <th></th>\n",
       "      <th></th>\n",
       "      <th></th>\n",
       "      <th></th>\n",
       "    </tr>\n",
       "  </thead>\n",
       "  <tbody>\n",
       "    <tr>\n",
       "      <td>2016-01-01</td>\n",
       "      <td>243.89</td>\n",
       "      <td>94.99</td>\n",
       "      <td>177.22</td>\n",
       "      <td>43.49</td>\n",
       "      <td>72.34</td>\n",
       "    </tr>\n",
       "    <tr>\n",
       "      <td>2016-01-04</td>\n",
       "      <td>238.29</td>\n",
       "      <td>91.79</td>\n",
       "      <td>175.90</td>\n",
       "      <td>42.84</td>\n",
       "      <td>72.98</td>\n",
       "    </tr>\n",
       "    <tr>\n",
       "      <td>2016-01-05</td>\n",
       "      <td>233.03</td>\n",
       "      <td>91.72</td>\n",
       "      <td>176.45</td>\n",
       "      <td>42.66</td>\n",
       "      <td>71.48</td>\n",
       "    </tr>\n",
       "    <tr>\n",
       "      <td>2016-01-06</td>\n",
       "      <td>231.97</td>\n",
       "      <td>91.63</td>\n",
       "      <td>172.68</td>\n",
       "      <td>42.38</td>\n",
       "      <td>70.94</td>\n",
       "    </tr>\n",
       "    <tr>\n",
       "      <td>2016-01-07</td>\n",
       "      <td>230.71</td>\n",
       "      <td>89.54</td>\n",
       "      <td>172.94</td>\n",
       "      <td>39.99</td>\n",
       "      <td>72.31</td>\n",
       "    </tr>\n",
       "  </tbody>\n",
       "</table>\n",
       "</div>"
      ],
      "text/plain": [
       "            ASURB MF Equity  GFNORTEO MF Equity  PE&OLES* MF Equity  \\\n",
       "DATE                                                                  \n",
       "2016-01-01           243.89               94.99              177.22   \n",
       "2016-01-04           238.29               91.79              175.90   \n",
       "2016-01-05           233.03               91.72              176.45   \n",
       "2016-01-06           231.97               91.63              172.68   \n",
       "2016-01-07           230.71               89.54              172.94   \n",
       "\n",
       "            WALMEX* MF Equity  IENOVA* MF Equity  \n",
       "DATE                                              \n",
       "2016-01-01              43.49              72.34  \n",
       "2016-01-04              42.84              72.98  \n",
       "2016-01-05              42.66              71.48  \n",
       "2016-01-06              42.38              70.94  \n",
       "2016-01-07              39.99              72.31  "
      ]
     },
     "execution_count": 14,
     "metadata": {},
     "output_type": "execute_result"
    }
   ],
   "source": [
    "data = pd.read_excel(\"./PreciosPortf.xlsx\", index_col=0)\n",
    "data.head()"
   ]
  },
  {
   "cell_type": "code",
   "execution_count": 15,
   "metadata": {},
   "outputs": [
    {
     "data": {
      "text/plain": [
       "ASURB MF Equity       0.123539\n",
       "GFNORTEO MF Equity    0.078811\n",
       "PE&OLES* MF Equity    0.111053\n",
       "WALMEX* MF Equity     0.082426\n",
       "IENOVA* MF Equity     0.078997\n",
       "dtype: float64"
      ]
     },
     "execution_count": 15,
     "metadata": {},
     "output_type": "execute_result"
    }
   ],
   "source": [
    "rend = data.pct_change().dropna()\n",
    "rend_ports = rend.mean() * 252\n",
    "rend_ports"
   ]
  },
  {
   "cell_type": "code",
   "execution_count": 16,
   "metadata": {},
   "outputs": [
    {
     "data": {
      "text/html": [
       "<div>\n",
       "<style scoped>\n",
       "    .dataframe tbody tr th:only-of-type {\n",
       "        vertical-align: middle;\n",
       "    }\n",
       "\n",
       "    .dataframe tbody tr th {\n",
       "        vertical-align: top;\n",
       "    }\n",
       "\n",
       "    .dataframe thead th {\n",
       "        text-align: right;\n",
       "    }\n",
       "</style>\n",
       "<table border=\"1\" class=\"dataframe\">\n",
       "  <thead>\n",
       "    <tr style=\"text-align: right;\">\n",
       "      <th></th>\n",
       "      <th>ASURB MF Equity</th>\n",
       "      <th>GFNORTEO MF Equity</th>\n",
       "      <th>PE&amp;OLES* MF Equity</th>\n",
       "      <th>WALMEX* MF Equity</th>\n",
       "      <th>IENOVA* MF Equity</th>\n",
       "    </tr>\n",
       "  </thead>\n",
       "  <tbody>\n",
       "    <tr>\n",
       "      <td>ASURB MF Equity</td>\n",
       "      <td>0.000224</td>\n",
       "      <td>0.000086</td>\n",
       "      <td>0.000061</td>\n",
       "      <td>0.000036</td>\n",
       "      <td>0.000044</td>\n",
       "    </tr>\n",
       "    <tr>\n",
       "      <td>GFNORTEO MF Equity</td>\n",
       "      <td>0.000086</td>\n",
       "      <td>0.000341</td>\n",
       "      <td>0.000094</td>\n",
       "      <td>0.000082</td>\n",
       "      <td>0.000082</td>\n",
       "    </tr>\n",
       "    <tr>\n",
       "      <td>PE&amp;OLES* MF Equity</td>\n",
       "      <td>0.000061</td>\n",
       "      <td>0.000094</td>\n",
       "      <td>0.000548</td>\n",
       "      <td>0.000041</td>\n",
       "      <td>0.000045</td>\n",
       "    </tr>\n",
       "    <tr>\n",
       "      <td>WALMEX* MF Equity</td>\n",
       "      <td>0.000036</td>\n",
       "      <td>0.000082</td>\n",
       "      <td>0.000041</td>\n",
       "      <td>0.000215</td>\n",
       "      <td>0.000043</td>\n",
       "    </tr>\n",
       "    <tr>\n",
       "      <td>IENOVA* MF Equity</td>\n",
       "      <td>0.000044</td>\n",
       "      <td>0.000082</td>\n",
       "      <td>0.000045</td>\n",
       "      <td>0.000043</td>\n",
       "      <td>0.000226</td>\n",
       "    </tr>\n",
       "  </tbody>\n",
       "</table>\n",
       "</div>"
      ],
      "text/plain": [
       "                    ASURB MF Equity  GFNORTEO MF Equity  PE&OLES* MF Equity  \\\n",
       "ASURB MF Equity            0.000224            0.000086            0.000061   \n",
       "GFNORTEO MF Equity         0.000086            0.000341            0.000094   \n",
       "PE&OLES* MF Equity         0.000061            0.000094            0.000548   \n",
       "WALMEX* MF Equity          0.000036            0.000082            0.000041   \n",
       "IENOVA* MF Equity          0.000044            0.000082            0.000045   \n",
       "\n",
       "                    WALMEX* MF Equity  IENOVA* MF Equity  \n",
       "ASURB MF Equity              0.000036           0.000044  \n",
       "GFNORTEO MF Equity           0.000082           0.000082  \n",
       "PE&OLES* MF Equity           0.000041           0.000045  \n",
       "WALMEX* MF Equity            0.000215           0.000043  \n",
       "IENOVA* MF Equity            0.000043           0.000226  "
      ]
     },
     "execution_count": 16,
     "metadata": {},
     "output_type": "execute_result"
    }
   ],
   "source": [
    "rend.cov()"
   ]
  },
  {
   "cell_type": "code",
   "execution_count": 17,
   "metadata": {},
   "outputs": [
    {
     "data": {
      "text/plain": [
       "array([0.05951277, 0.49552463, 0.17777576, 0.03191026, 0.23527657])"
      ]
     },
     "execution_count": 17,
     "metadata": {},
     "output_type": "execute_result"
    }
   ],
   "source": [
    "weights = np.random.random(5)\n",
    "weights /= sum(weights)\n",
    "weights"
   ]
  },
  {
   "cell_type": "code",
   "execution_count": 18,
   "metadata": {},
   "outputs": [
    {
     "data": {
      "text/plain": [
       "1.0"
      ]
     },
     "execution_count": 18,
     "metadata": {},
     "output_type": "execute_result"
    }
   ],
   "source": [
    "sum(weights)"
   ]
  },
  {
   "cell_type": "code",
   "execution_count": 19,
   "metadata": {},
   "outputs": [],
   "source": [
    "E_p = (rend.mean() * weights).sum() *252 #rendimiento esperado anualizado del portafolio\n",
    "S_p = np.sqrt(weights.T @ (rend.cov() *252) @ weights)"
   ]
  },
  {
   "cell_type": "code",
   "execution_count": 20,
   "metadata": {},
   "outputs": [
    {
     "data": {
      "text/plain": [
       "(0.08736407242968518, 0.20417998992003972)"
      ]
     },
     "execution_count": 20,
     "metadata": {},
     "output_type": "execute_result"
    }
   ],
   "source": [
    "E_p, S_p"
   ]
  },
  {
   "cell_type": "code",
   "execution_count": 21,
   "metadata": {},
   "outputs": [],
   "source": [
    "def port_rend(weights, r):\n",
    "    E_p =(r.mean() @ weights) * 252\n",
    "    return E_p\n",
    "def port_vol(weights, r):\n",
    "    S_p = np.sqrt(weights.T @ (r.cov() *252) @ weights)\n",
    "    return S_p"
   ]
  },
  {
   "cell_type": "code",
   "execution_count": 22,
   "metadata": {},
   "outputs": [
    {
     "data": {
      "text/plain": [
       "(0.08736407242968515, 0.20417998992003972)"
      ]
     },
     "execution_count": 22,
     "metadata": {},
     "output_type": "execute_result"
    }
   ],
   "source": [
    "port_rend(weights, rend), port_vol(weights, rend)"
   ]
  },
  {
   "cell_type": "code",
   "execution_count": 23,
   "metadata": {},
   "outputs": [
    {
     "data": {
      "text/plain": [
       "array([1., 1., 1., ..., 1., 1., 1.])"
      ]
     },
     "execution_count": 23,
     "metadata": {},
     "output_type": "execute_result"
    }
   ],
   "source": [
    "weights_sim = np.random.random([5_000,5])\n",
    "weights_sim = weights_sim / weights_sim.sum(axis=1, keepdims=True)\n",
    "weights_sim.sum(axis=1)"
   ]
  },
  {
   "cell_type": "code",
   "execution_count": 24,
   "metadata": {},
   "outputs": [],
   "source": [
    "rend_sim = np.apply_along_axis(port_rend, 1, weights_sim, r=rend)\n",
    "col_sim = np.apply_along_axis(port_vol, 1, weights_sim, r=rend)"
   ]
  },
  {
   "cell_type": "code",
   "execution_count": 25,
   "metadata": {},
   "outputs": [
    {
     "data": {
      "image/png": "[encoded data removed]",
      "text/plain": [
       "<Figure size 432x288 with 2 Axes>"
      ]
     },
     "metadata": {
      "needs_background": "light"
     },
     "output_type": "display_data"
    }
   ],
   "source": [
    "sharpe_ratio = rend_sim / col_sim\n",
    "plt.scatter(col_sim, rend_sim, c = sharpe_ratio)\n",
    "plt.colorbar(label=\"Sharpe Ratio\")\n",
    "plt.xlabel(r\"$\\sigma^2_r$\", fontsize=13)\n",
    "plt.ylabel(\"E(r)\",fontsize=13);"
   ]
  },
  {
   "cell_type": "markdown",
   "metadata": {},
   "source": [
    "## Creando la frontera eficiente"
   ]
  },
  {
   "cell_type": "code",
   "execution_count": 26,
   "metadata": {},
   "outputs": [],
   "source": [
    "from scipy.optimize import minimize"
   ]
  },
  {
   "cell_type": "code",
   "execution_count": 27,
   "metadata": {},
   "outputs": [
    {
     "data": {
      "text/plain": [
       "     fun: 0.15516191478067046\n",
       "     jac: array([0.15519168, 0.15513111, 0.1553423 , 0.15509107, 0.15515656])\n",
       " message: 'Optimization terminated successfully.'\n",
       "    nfev: 78\n",
       "     nit: 11\n",
       "    njev: 11\n",
       "  status: 0\n",
       " success: True\n",
       "       x: array([0.28191878, 0.04410013, 0.09008816, 0.30779557, 0.27609736])"
      ]
     },
     "execution_count": 27,
     "metadata": {},
     "output_type": "execute_result"
    }
   ],
   "source": [
    "N, M  = rend.shape\n",
    "w0 = np.random.randn(M)\n",
    "\n",
    "def sum_weights(weights):\n",
    "    return weights.sum() -1\n",
    "\n",
    "constraints = [\n",
    "    {\"type\":\"eq\", \"fun\":sum_weights}\n",
    "]\n",
    "port0 = minimize(port_vol, w0, constraints=constraints, args=rend)\n",
    "port0"
   ]
  },
  {
   "cell_type": "code",
   "execution_count": 28,
   "metadata": {},
   "outputs": [
    {
     "data": {
      "text/plain": [
       "(0.09548938841275346, 0.15516191478067046)"
      ]
     },
     "execution_count": 28,
     "metadata": {},
     "output_type": "execute_result"
    }
   ],
   "source": [
    "wp0 = port0.x\n",
    "port_rend(wp0,rend),port_vol(wp0,rend)"
   ]
  },
  {
   "cell_type": "code",
   "execution_count": 29,
   "metadata": {},
   "outputs": [
    {
     "data": {
      "image/png": "[encoded data removed]",
      "text/plain": [
       "<Figure size 432x288 with 2 Axes>"
      ]
     },
     "metadata": {
      "needs_background": "light"
     },
     "output_type": "display_data"
    }
   ],
   "source": [
    "sharpe_ratio = rend_sim / col_sim\n",
    "plt.scatter(col_sim, rend_sim, c = sharpe_ratio)\n",
    "plt.scatter(port_vol(wp0,rend),port_rend(wp0,rend))\n",
    "plt.colorbar(label=\"Sharpe Ratio\")\n",
    "plt.xlabel(r\"$\\sigma^2_r$\", fontsize=13)\n",
    "plt.ylabel(\"E(r)\",fontsize=13);"
   ]
  },
  {
   "cell_type": "markdown",
   "metadata": {},
   "source": [
    "### Optimización sujeta a un rendimiento esperado"
   ]
  },
  {
   "cell_type": "code",
   "execution_count": 30,
   "metadata": {},
   "outputs": [
    {
     "data": {
      "text/plain": [
       "     fun: 0.15715171553277982\n",
       "     jac: array([0.17772326, 0.13868522, 0.16685049, 0.14195727, 0.13858067])\n",
       " message: 'Optimization terminated successfully.'\n",
       "    nfev: 50\n",
       "     nit: 7\n",
       "    njev: 7\n",
       "  status: 0\n",
       " success: True\n",
       "       x: array([0.37274378, 0.00690789, 0.10739565, 0.27960436, 0.23334832])"
      ]
     },
     "execution_count": 30,
     "metadata": {},
     "output_type": "execute_result"
    }
   ],
   "source": [
    "N, M  = rend.shape\n",
    "w0 = np.random.randn(M)\n",
    "\n",
    "def sum_weights(weights):\n",
    "    return weights.sum() -1 # == 0\n",
    "\n",
    "def rend_esperado(w, E):\n",
    "    return port_rend(w, rend) - E # == 0\n",
    "e0 = .1\n",
    "constraints = [\n",
    "    {\"type\":\"eq\", \"fun\":sum_weights},\n",
    "    {\"type\":\"eq\", \"fun\":lambda w: rend_esperado(w, e0)}\n",
    "]\n",
    "port1 = minimize(port_vol, w0, constraints=constraints, args=rend)\n",
    "port1"
   ]
  },
  {
   "cell_type": "code",
   "execution_count": 31,
   "metadata": {},
   "outputs": [
    {
     "data": {
      "text/plain": [
       "(0.09999999999932821, 0.15715171553277982)"
      ]
     },
     "execution_count": 31,
     "metadata": {},
     "output_type": "execute_result"
    }
   ],
   "source": [
    "wp1 = port1.x\n",
    "port_rend(wp1,rend),port_vol(wp1,rend)"
   ]
  },
  {
   "cell_type": "code",
   "execution_count": 32,
   "metadata": {},
   "outputs": [
    {
     "data": {
      "image/png": "[encoded data removed]",
      "text/plain": [
       "<Figure size 432x288 with 2 Axes>"
      ]
     },
     "metadata": {
      "needs_background": "light"
     },
     "output_type": "display_data"
    }
   ],
   "source": [
    "sharpe_ratio = rend_sim / col_sim\n",
    "plt.scatter(col_sim, rend_sim, c = sharpe_ratio)\n",
    "plt.scatter(port_vol(wp1,rend),port_rend(wp1,rend))\n",
    "plt.colorbar(label=\"Sharpe Ratio\")\n",
    "plt.xlabel(r\"$\\sigma^2_r$\", fontsize=13)\n",
    "plt.ylabel(\"E(r)\",fontsize=13);"
   ]
  },
  {
   "cell_type": "code",
   "execution_count": 33,
   "metadata": {},
   "outputs": [],
   "source": [
    "#rmin = port_rend(wp0,rend)\n",
    "rmin = rend_ports.min()\n",
    "rmax = rend_ports.max()"
   ]
  },
  {
   "cell_type": "code",
   "execution_count": 34,
   "metadata": {},
   "outputs": [
    {
     "data": {
      "text/plain": [
       "array([0.07881127, 0.07972409, 0.08063691, 0.08154972, 0.08246254,\n",
       "       0.08337536, 0.08428817, 0.08520099, 0.0861138 , 0.08702662,\n",
       "       0.08793944, 0.08885225, 0.08976507, 0.09067789, 0.0915907 ,\n",
       "       0.09250352, 0.09341633, 0.09432915, 0.09524197, 0.09615478,\n",
       "       0.0970676 , 0.09798041, 0.09889323, 0.09980605, 0.10071886,\n",
       "       0.10163168, 0.1025445 , 0.10345731, 0.10437013, 0.10528294,\n",
       "       0.10619576, 0.10710858, 0.10802139, 0.10893421, 0.10984702,\n",
       "       0.11075984, 0.11167266, 0.11258547, 0.11349829, 0.11441111,\n",
       "       0.11532392, 0.11623674, 0.11714955, 0.11806237, 0.11897519,\n",
       "       0.119888  , 0.12080082, 0.12171364, 0.12262645, 0.12353927])"
      ]
     },
     "execution_count": 34,
     "metadata": {},
     "output_type": "execute_result"
    }
   ],
   "source": [
    "rend_maxs = np.linspace(rmin,rmax)\n",
    "rend_maxs"
   ]
  },
  {
   "cell_type": "code",
   "execution_count": 36,
   "metadata": {},
   "outputs": [],
   "source": [
    "pesos_optimos = []\n",
    "for e in rend_maxs:\n",
    "    constraints = [\n",
    "        {\"type\":\"eq\", \"fun\":sum_weights},\n",
    "        {\"type\":\"eq\", \"fun\":lambda w: rend_esperado(w, e)}\n",
    "    ]\n",
    "    port1 = minimize(port_vol, w0, constraints=constraints, args=rend)\n",
    "    w_opt = port1.x\n",
    "    pesos_optimos.append(w_opt)"
   ]
  },
  {
   "cell_type": "code",
   "execution_count": 37,
   "metadata": {},
   "outputs": [
    {
     "data": {
      "text/plain": [
       "<matplotlib.colorbar.Colorbar at 0x1f1cc0fa408>"
      ]
     },
     "execution_count": 37,
     "metadata": {},
     "output_type": "execute_result"
    },
    {
     "data": {
      "image/png": "[encoded data removed]",
      "text/plain": [
       "<Figure size 432x288 with 2 Axes>"
      ]
     },
     "metadata": {
      "needs_background": "light"
     },
     "output_type": "display_data"
    }
   ],
   "source": [
    "r_opt = []\n",
    "v_opt = []\n",
    "for w in pesos_optimos:\n",
    "    r_opt.append(port_rend(w,rend))\n",
    "    v_opt.append(port_vol(w,rend))\n",
    "    \n",
    "r_opt = np.array(r_opt)\n",
    "v_opt = np.array(v_opt)\n",
    "\n",
    "\n",
    "plt.scatter(v_opt,r_opt, c=r_opt/v_opt)\n",
    "\n",
    "plt.scatter(col_sim,rend_sim, c=sharpe_ratio, alpha = 0.1, s=5)\n",
    "plt.colorbar()"
   ]
  },
  {
   "cell_type": "markdown",
   "metadata": {},
   "source": [
    "### Portafolio Tangencial"
   ]
  },
  {
   "cell_type": "code",
   "execution_count": 38,
   "metadata": {},
   "outputs": [],
   "source": [
    "rf = 0.06\n",
    "def min_func_sharpe(weights):\n",
    "        return - (port_rend(weights, rend) - rf)/ port_vol(weights,rend)\n",
    "\n",
    "constraints = [\n",
    "    {\"type\":\"eq\", \"fun\":sum_weights}\n",
    "]\n",
    "f_sharpe = minimize(min_func_sharpe,w0, constraints=constraints)\n"
   ]
  },
  {
   "cell_type": "code",
   "execution_count": 39,
   "metadata": {},
   "outputs": [],
   "source": [
    "w_sharpe = f_sharpe.x\n"
   ]
  },
  {
   "cell_type": "code",
   "execution_count": 40,
   "metadata": {},
   "outputs": [
    {
     "data": {
      "text/plain": [
       "array([ 0.73046752, -0.14040716,  0.17614353,  0.16533638,  0.06845974])"
      ]
     },
     "execution_count": 40,
     "metadata": {},
     "output_type": "execute_result"
    }
   ],
   "source": [
    "w_sharpe"
   ]
  },
  {
   "cell_type": "code",
   "execution_count": 41,
   "metadata": {},
   "outputs": [],
   "source": [
    "e_sharpe = port_rend(w_sharpe, rend)\n",
    "vol_sharpe = port_vol(w_sharpe, rend)"
   ]
  },
  {
   "cell_type": "code",
   "execution_count": 43,
   "metadata": {},
   "outputs": [
    {
     "data": {
      "text/plain": [
       "<matplotlib.legend.Legend at 0x1f1cc107508>"
      ]
     },
     "execution_count": 43,
     "metadata": {},
     "output_type": "execute_result"
    },
    {
     "data": {
      "image/png": "[encoded data removed]",
      "text/plain": [
       "<Figure size 432x288 with 1 Axes>"
      ]
     },
     "metadata": {
      "needs_background": "light"
     },
     "output_type": "display_data"
    }
   ],
   "source": [
    "sigma_c = np.linspace(0,0.25)\n",
    "sharpe = rf + sigma_c*(e_sharpe - rf)/vol_sharpe\n",
    "plt.plot(sigma_c, sharpe, linestyle=\"--\",c=\"tab:orange\", label=\"Capital Allocation Line\")\n",
    "plt.plot(v_opt, r_opt)\n",
    "#plt.plot(v_opt_c,r_opt_c)\n",
    "plt.legend(fontsize=12)"
   ]
  },
  {
   "cell_type": "markdown",
   "metadata": {},
   "source": [
    "## Tarea Añadir condiciones"
   ]
  },
  {
   "cell_type": "code",
   "execution_count": 44,
   "metadata": {},
   "outputs": [],
   "source": [
    "#Peso mínimo mayor o igual a .02\n",
    "def peso_min(w):\n",
    "    return w.min() - 0.02 # >= 0"
   ]
  },
  {
   "cell_type": "code",
   "execution_count": 45,
   "metadata": {},
   "outputs": [],
   "source": [
    "pesos_optimos_2 = []\n",
    "for e in rend_maxs:\n",
    "    constraints = [\n",
    "        {\"type\":\"eq\", \"fun\":sum_weights},\n",
    "        {\"type\":\"eq\", \"fun\":lambda w: rend_esperado(w, e)},\n",
    "        {\"type\":\"ineq\", \"fun\":lambda w: peso_min(w)},\n",
    "    ]\n",
    "    port2 = minimize(port_vol, w0, constraints=constraints, args=rend)\n",
    "    w_opt = port2.x\n",
    "    pesos_optimos_2.append(w_opt)"
   ]
  },
  {
   "cell_type": "code",
   "execution_count": 46,
   "metadata": {},
   "outputs": [
    {
     "data": {
      "text/plain": [
       "<matplotlib.colorbar.Colorbar at 0x1f1d1a9c548>"
      ]
     },
     "execution_count": 46,
     "metadata": {},
     "output_type": "execute_result"
    },
    {
     "data": {
      "image/png": "[encoded data removed]",
      "text/plain": [
       "<Figure size 432x288 with 2 Axes>"
      ]
     },
     "metadata": {
      "needs_background": "light"
     },
     "output_type": "display_data"
    }
   ],
   "source": [
    "r_opt_2 = []\n",
    "v_opt_2 = []\n",
    "for w in pesos_optimos_2:\n",
    "    r_opt_2.append(port_rend(w,rend))\n",
    "    v_opt_2.append(port_vol(w,rend))\n",
    "    \n",
    "r_opt_2 = np.array(r_opt_2)\n",
    "v_opt_2 = np.array(v_opt_2)\n",
    "\n",
    "\n",
    "plt.scatter(v_opt_2,r_opt_2, c=r_opt_2/v_opt_2)\n",
    "\n",
    "plt.scatter(col_sim,rend_sim, c=sharpe_ratio, alpha = 0.1, s=5)\n",
    "plt.colorbar()"
   ]
  },
  {
   "cell_type": "code",
   "execution_count": 48,
   "metadata": {},
   "outputs": [
    {
     "data": {
      "text/plain": [
       "<matplotlib.legend.Legend at 0x1f1cd30e348>"
      ]
     },
     "execution_count": 48,
     "metadata": {},
     "output_type": "execute_result"
    },
    {
     "data": {
      "image/png": "[encoded data removed]",
      "text/plain": [
       "<Figure size 432x288 with 1 Axes>"
      ]
     },
     "metadata": {
      "needs_background": "light"
     },
     "output_type": "display_data"
    }
   ],
   "source": [
    "sigma_c = np.linspace(0,0.25)\n",
    "sharpe = rf + sigma_c*(e_sharpe - rf)/vol_sharpe\n",
    "plt.plot(sigma_c, sharpe, linestyle=\"--\",c=\"tab:orange\", label=\"Capital Allocation Line\")\n",
    "plt.plot(v_opt, r_opt, label=\"2 restricciones\")\n",
    "plt.plot(v_opt_2,r_opt_2, label=\"3 restricciones\")\n",
    "plt.legend(fontsize=12)"
   ]
  }
 ],
 "metadata": {
  "kernelspec": {
   "display_name": "Python 3",
   "language": "python",
   "name": "python3"
  },
  "language_info": {
   "codemirror_mode": {
    "name": "ipython",
    "version": 3
   },
   "file_extension": ".py",
   "mimetype": "text/x-python",
   "name": "python",
   "nbconvert_exporter": "python",
   "pygments_lexer": "ipython3",
   "version": "3.7.4"
  }
 },
 "nbformat": 4,
 "nbformat_minor": 2
}
