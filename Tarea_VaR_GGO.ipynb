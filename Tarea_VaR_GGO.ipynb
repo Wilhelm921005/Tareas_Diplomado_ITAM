{
 "cells": [
  {
   "cell_type": "code",
   "execution_count": 1,
   "metadata": {},
   "outputs": [],
   "source": [
    "import pandas as pd\n",
    "import numpy as np\n",
    "import matplotlib.pyplot as plt\n",
    "import seaborn as sn\n",
    "from numpy.random import randn, seed\n",
    "import scipy.stats\n",
    "from scipy.optimize import minimize"
   ]
  },
  {
   "cell_type": "code",
   "execution_count": 2,
   "metadata": {},
   "outputs": [
    {
     "data": {
      "text/html": [
       "<div>\n",
       "<style scoped>\n",
       "    .dataframe tbody tr th:only-of-type {\n",
       "        vertical-align: middle;\n",
       "    }\n",
       "\n",
       "    .dataframe tbody tr th {\n",
       "        vertical-align: top;\n",
       "    }\n",
       "\n",
       "    .dataframe thead th {\n",
       "        text-align: right;\n",
       "    }\n",
       "</style>\n",
       "<table border=\"1\" class=\"dataframe\">\n",
       "  <thead>\n",
       "    <tr style=\"text-align: right;\">\n",
       "      <th></th>\n",
       "      <th>ASURB MF Equity</th>\n",
       "      <th>GFNORTEO MF Equity</th>\n",
       "      <th>PE&amp;OLES* MF Equity</th>\n",
       "      <th>WALMEX* MF Equity</th>\n",
       "      <th>IENOVA* MF Equity</th>\n",
       "    </tr>\n",
       "    <tr>\n",
       "      <th>DATE</th>\n",
       "      <th></th>\n",
       "      <th></th>\n",
       "      <th></th>\n",
       "      <th></th>\n",
       "      <th></th>\n",
       "    </tr>\n",
       "  </thead>\n",
       "  <tbody>\n",
       "    <tr>\n",
       "      <th>2016-01-04</th>\n",
       "      <td>-0.022961</td>\n",
       "      <td>-0.033688</td>\n",
       "      <td>-0.007448</td>\n",
       "      <td>-0.014946</td>\n",
       "      <td>0.008847</td>\n",
       "    </tr>\n",
       "    <tr>\n",
       "      <th>2016-01-05</th>\n",
       "      <td>-0.022074</td>\n",
       "      <td>-0.000763</td>\n",
       "      <td>0.003127</td>\n",
       "      <td>-0.004202</td>\n",
       "      <td>-0.020554</td>\n",
       "    </tr>\n",
       "    <tr>\n",
       "      <th>2016-01-06</th>\n",
       "      <td>-0.004549</td>\n",
       "      <td>-0.000981</td>\n",
       "      <td>-0.021366</td>\n",
       "      <td>-0.006564</td>\n",
       "      <td>-0.007555</td>\n",
       "    </tr>\n",
       "    <tr>\n",
       "      <th>2016-01-07</th>\n",
       "      <td>-0.005432</td>\n",
       "      <td>-0.022809</td>\n",
       "      <td>0.001506</td>\n",
       "      <td>-0.056395</td>\n",
       "      <td>0.019312</td>\n",
       "    </tr>\n",
       "    <tr>\n",
       "      <th>2016-01-08</th>\n",
       "      <td>-0.004118</td>\n",
       "      <td>-0.007706</td>\n",
       "      <td>-0.003180</td>\n",
       "      <td>0.026007</td>\n",
       "      <td>-0.017148</td>\n",
       "    </tr>\n",
       "  </tbody>\n",
       "</table>\n",
       "</div>"
      ],
      "text/plain": [
       "            ASURB MF Equity  GFNORTEO MF Equity  PE&OLES* MF Equity  \\\n",
       "DATE                                                                  \n",
       "2016-01-04        -0.022961           -0.033688           -0.007448   \n",
       "2016-01-05        -0.022074           -0.000763            0.003127   \n",
       "2016-01-06        -0.004549           -0.000981           -0.021366   \n",
       "2016-01-07        -0.005432           -0.022809            0.001506   \n",
       "2016-01-08        -0.004118           -0.007706           -0.003180   \n",
       "\n",
       "            WALMEX* MF Equity  IENOVA* MF Equity  \n",
       "DATE                                              \n",
       "2016-01-04          -0.014946           0.008847  \n",
       "2016-01-05          -0.004202          -0.020554  \n",
       "2016-01-06          -0.006564          -0.007555  \n",
       "2016-01-07          -0.056395           0.019312  \n",
       "2016-01-08           0.026007          -0.017148  "
      ]
     },
     "execution_count": 2,
     "metadata": {},
     "output_type": "execute_result"
    }
   ],
   "source": [
    "data = pd.read_excel(\"./PreciosPortf.xlsx\", index_col=0)\n",
    "rend = data.pct_change().dropna()\n",
    "\n",
    "rend.head()"
   ]
  },
  {
   "cell_type": "code",
   "execution_count": 3,
   "metadata": {},
   "outputs": [],
   "source": [
    "def port_rend(weights, r):\n",
    "    E_p =(r.mean() @ weights) *252\n",
    "    return E_p\n",
    "def port_vol(weights, r):\n",
    "    S_p = np.sqrt(weights.T @ (r.cov() *252) @ weights)\n",
    "    return S_p"
   ]
  },
  {
   "cell_type": "code",
   "execution_count": 4,
   "metadata": {},
   "outputs": [],
   "source": [
    "def sum_weights(weights):\n",
    "    return weights.sum() -1 # == 0"
   ]
  },
  {
   "cell_type": "code",
   "execution_count": 5,
   "metadata": {},
   "outputs": [],
   "source": [
    "rf = 0.06\n",
    "N, M  = rend.shape\n",
    "np.random.seed(5)\n",
    "w0 = np.random.randn(M)\n",
    "def min_func_sharpe(weights):\n",
    "        return - (port_rend(weights, rend) - rf)/ port_vol(weights,rend)\n",
    "\n",
    "constraints = [\n",
    "    {\"type\":\"eq\", \"fun\":sum_weights}\n",
    "]\n",
    "f_sharpe = minimize(min_func_sharpe,w0, constraints=constraints)\n"
   ]
  },
  {
   "cell_type": "code",
   "execution_count": 6,
   "metadata": {},
   "outputs": [
    {
     "data": {
      "text/plain": [
       "array([ 0.73100198, -0.14073714,  0.17604817,  0.16495151,  0.06873549])"
      ]
     },
     "execution_count": 6,
     "metadata": {},
     "output_type": "execute_result"
    }
   ],
   "source": [
    "w_sharpe = f_sharpe.x\n",
    "w_sharpe"
   ]
  },
  {
   "cell_type": "code",
   "execution_count": 7,
   "metadata": {},
   "outputs": [],
   "source": [
    "Nocional = 10_000_000"
   ]
  },
  {
   "cell_type": "code",
   "execution_count": 8,
   "metadata": {},
   "outputs": [
    {
     "data": {
      "text/plain": [
       "array([ 7310019.76031335, -1407371.40209152,  1760481.71748185,\n",
       "        1649515.05054508,   687354.87375123])"
      ]
     },
     "execution_count": 8,
     "metadata": {},
     "output_type": "execute_result"
    }
   ],
   "source": [
    "vector_posiciones = w_sharpe*Nocional\n",
    "vector_posiciones"
   ]
  },
  {
   "cell_type": "code",
   "execution_count": 9,
   "metadata": {},
   "outputs": [
    {
     "data": {
      "text/plain": [
       "array([0.01495963, 0.01847597, 0.02340559, 0.01466858, 0.01501933])"
      ]
     },
     "execution_count": 9,
     "metadata": {},
     "output_type": "execute_result"
    }
   ],
   "source": [
    "volatilidad_diaria = np.sqrt(np.diagonal(rend.cov()))\n",
    "volatilidad_diaria"
   ]
  },
  {
   "cell_type": "code",
   "execution_count": 10,
   "metadata": {},
   "outputs": [
    {
     "data": {
      "text/plain": [
       "array([0.23747683, 0.29329688, 0.37155226, 0.23285656, 0.23842444])"
      ]
     },
     "execution_count": 10,
     "metadata": {},
     "output_type": "execute_result"
    }
   ],
   "source": [
    "volatilidad_anual = volatilidad_diaria*np.sqrt(252)\n",
    "volatilidad_anual"
   ]
  },
  {
   "cell_type": "code",
   "execution_count": 11,
   "metadata": {},
   "outputs": [
    {
     "data": {
      "text/plain": [
       "(1.6448536269514722, 2.3263478740408408)"
      ]
     },
     "execution_count": 11,
     "metadata": {},
     "output_type": "execute_result"
    }
   ],
   "source": [
    "q_95 = scipy.stats.norm.ppf(0.95)\n",
    "q_99 = scipy.stats.norm.ppf(0.99)\n",
    "q_95, q_99"
   ]
  },
  {
   "cell_type": "code",
   "execution_count": 12,
   "metadata": {},
   "outputs": [
    {
     "data": {
      "text/plain": [
       "array([ 7310019.76031335, -1407371.40209152,  1760481.71748185,\n",
       "        1649515.05054508,   687354.87375123])"
      ]
     },
     "execution_count": 12,
     "metadata": {},
     "output_type": "execute_result"
    }
   ],
   "source": [
    "vector_posiciones"
   ]
  },
  {
   "cell_type": "code",
   "execution_count": 13,
   "metadata": {},
   "outputs": [
    {
     "data": {
      "text/plain": [
       "(261659.12261559494, 370069.4904678832)"
      ]
     },
     "execution_count": 13,
     "metadata": {},
     "output_type": "execute_result"
    }
   ],
   "source": [
    "var_individual_diario_95 = (q_95*vector_posiciones*volatilidad_diaria).sum()\n",
    "var_individual_diario_99 = (q_99*vector_posiciones*volatilidad_diaria).sum()\n",
    "var_individual_diario_95, var_individual_diario_99"
   ]
  },
  {
   "cell_type": "code",
   "execution_count": 14,
   "metadata": {},
   "outputs": [
    {
     "data": {
      "text/plain": [
       "(4153709.800273325, 5874671.037542442)"
      ]
     },
     "execution_count": 14,
     "metadata": {},
     "output_type": "execute_result"
    }
   ],
   "source": [
    "var_individual_anual_95 = (q_95*vector_posiciones*volatilidad_anual).sum()\n",
    "var_individual_anual_99 = (q_99*vector_posiciones*volatilidad_anual).sum()\n",
    "var_individual_anual_95, var_individual_anual_99"
   ]
  },
  {
   "cell_type": "code",
   "execution_count": 15,
   "metadata": {},
   "outputs": [
    {
     "data": {
      "text/plain": [
       "(3257144.4803131097, 4606641.59598428)"
      ]
     },
     "execution_count": 15,
     "metadata": {},
     "output_type": "execute_result"
    }
   ],
   "source": [
    "VaR_anual_95 = q_95*Nocional*port_vol(w_sharpe, rend)\n",
    "VaR_anual_99 = q_99*Nocional*port_vol(w_sharpe, rend)\n",
    "VaR_anual_95,VaR_anual_99"
   ]
  },
  {
   "cell_type": "code",
   "execution_count": 16,
   "metadata": {},
   "outputs": [
    {
     "data": {
      "text/plain": [
       "0.19802032393300636"
      ]
     },
     "execution_count": 16,
     "metadata": {},
     "output_type": "execute_result"
    }
   ],
   "source": [
    "port_vol(w_sharpe, rend)"
   ]
  },
  {
   "cell_type": "code",
   "execution_count": 17,
   "metadata": {},
   "outputs": [
    {
     "data": {
      "text/plain": [
       "(205180.81616940963, 290191.14386143064)"
      ]
     },
     "execution_count": 17,
     "metadata": {},
     "output_type": "execute_result"
    }
   ],
   "source": [
    "VaR_diario_95 = q_95*Nocional*port_vol(w_sharpe, rend)/np.sqrt(252)\n",
    "VaR_diario_99 = q_99*Nocional*port_vol(w_sharpe, rend)/np.sqrt(252)\n",
    "VaR_diario_95, VaR_diario_99"
   ]
  },
  {
   "cell_type": "code",
   "execution_count": 18,
   "metadata": {},
   "outputs": [
    {
     "data": {
      "text/plain": [
       "(56478.30644618531, 79878.34660645254)"
      ]
     },
     "execution_count": 18,
     "metadata": {},
     "output_type": "execute_result"
    }
   ],
   "source": [
    "Efecto_Diversificacion_Diario_95 = var_individual_diario_95 - VaR_diario_95\n",
    "Efecto_Diversificacion_Diario_99 = var_individual_diario_99 - VaR_diario_99\n",
    "Efecto_Diversificacion_Diario_95, Efecto_Diversificacion_Diario_99"
   ]
  },
  {
   "cell_type": "code",
   "execution_count": 19,
   "metadata": {},
   "outputs": [
    {
     "data": {
      "text/plain": [
       "(896565.3199602151, 1268029.4415581618)"
      ]
     },
     "execution_count": 19,
     "metadata": {},
     "output_type": "execute_result"
    }
   ],
   "source": [
    "Efecto_Diversificacion_Anual_95 = var_individual_anual_95 - VaR_anual_95\n",
    "Efecto_Diversificacion_Anual_99 = var_individual_anual_99 - VaR_anual_99\n",
    "Efecto_Diversificacion_Anual_95, Efecto_Diversificacion_Anual_99"
   ]
  },
  {
   "cell_type": "code",
   "execution_count": 20,
   "metadata": {},
   "outputs": [
    {
     "name": "stdout",
     "output_type": "stream",
     "text": [
      " ## VaR del Portafolio ##\n",
      "VaR Anual al 95% : $3,257,144.48\n",
      "VaR Anual al 99% : $4,606,641.6\n",
      "VaR Diario al 95% : $205,180.82\n",
      "VaR Diario al 99% : $290,191.14\n",
      "\n",
      "## VaR Individual ##\n",
      "VaR Individual Anual al 95% : $4,153,709.8\n",
      "VaR Individual Anual al 99% : $5,874,671.04\n",
      "VaR Individual Diario al 95% : $261,659.12\n",
      "VaR Individual Diario al 99% : $370,069.49\n",
      "\n",
      "## Efecto de Diversificación ##\n",
      "VaR Individual Anual al 95% : $896,565.32\n",
      "VaR Individual Anual al 99% : $1,268,029.44\n",
      "VaR Individual Diario al 95% : $56,478.31\n",
      "VaR Individual Diario al 99% : $79,878.35\n",
      "\n"
     ]
    }
   ],
   "source": [
    "print(f\"\"\" ## VaR del Portafolio ##\n",
    "VaR Anual al 95% : ${round(VaR_anual_95,2):,}\n",
    "VaR Anual al 99% : ${round(VaR_anual_99,2):,}\n",
    "VaR Diario al 95% : ${round(VaR_diario_95,2):,}\n",
    "VaR Diario al 99% : ${round(VaR_diario_99,2):,}\n",
    "\n",
    "## VaR Individual ##\n",
    "VaR Individual Anual al 95% : ${round(var_individual_anual_95,2):,}\n",
    "VaR Individual Anual al 99% : ${round(var_individual_anual_99,2):,}\n",
    "VaR Individual Diario al 95% : ${round(var_individual_diario_95,2):,}\n",
    "VaR Individual Diario al 99% : ${round(var_individual_diario_99,2):,}\n",
    "\n",
    "## Efecto de Diversificación ##\n",
    "VaR Individual Anual al 95% : ${round(Efecto_Diversificacion_Anual_95,2):,}\n",
    "VaR Individual Anual al 99% : ${round(Efecto_Diversificacion_Anual_99,2):,}\n",
    "VaR Individual Diario al 95% : ${round(Efecto_Diversificacion_Diario_95,2):,}\n",
    "VaR Individual Diario al 99% : ${round(Efecto_Diversificacion_Diario_99,2):,}\n",
    "\"\"\")"
   ]
  }
 ],
 "metadata": {
  "kernelspec": {
   "display_name": "Python 3",
   "language": "python",
   "name": "python3"
  },
  "language_info": {
   "codemirror_mode": {
    "name": "ipython",
    "version": 3
   },
   "file_extension": ".py",
   "mimetype": "text/x-python",
   "name": "python",
   "nbconvert_exporter": "python",
   "pygments_lexer": "ipython3",
   "version": "3.7.3"
  }
 },
 "nbformat": 4,
 "nbformat_minor": 2
}
