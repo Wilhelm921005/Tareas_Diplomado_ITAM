{
 "cells": [
  {
   "cell_type": "markdown",
   "metadata": {},
   "source": [
    "## Ejercicio"
   ]
  },
  {
   "cell_type": "markdown",
   "metadata": {},
   "source": [
    "**Entrenando un modelo con PCA**\n",
    "\n",
    "Considerando `xtrain`, `ytrain` definido en las céldas de arriba, crea dos modelos:\n",
    "\n",
    "1. Un `pipeline` considerando PCA con `n_components=0.7` seguido de un modelo \n",
    "\n",
    "\n",
    "2. `KNeighborsClassifier` con `n_neighbors=5`\n",
    "\n",
    "\n",
    "Realiza un cross validation con `n_components=3`.\n",
    "* ¿Qué resultados arroja cada modelo?\n",
    "* ¿Que ventajas tiene cada modelo?\n",
    "* ¿Cuánto tarda en correr cada cross-validation?"
   ]
  },
  {
   "cell_type": "code",
   "execution_count": 11,
   "metadata": {},
   "outputs": [],
   "source": [
    "from tensorflow.keras import datasets\n",
    "from sklearn.model_selection import cross_validate\n",
    "from sklearn.decomposition import PCA\n",
    "from sklearn.pipeline import Pipeline\n",
    "import matplotlib.pyplot as plt\n",
    "from sklearn.neighbors import KNeighborsClassifier\n",
    "from sklearn.metrics import accuracy_score\n",
    "import numpy as np"
   ]
  },
  {
   "cell_type": "code",
   "execution_count": 18,
   "metadata": {},
   "outputs": [],
   "source": [
    "import pandas as pd\n",
    "import numpy as np\n",
    "import seaborn as sns\n",
    "from numpy.random import randn, seed\n",
    "from scipy.linalg import norm\n",
    "from sklearn.datasets import make_moons\n",
    "from ipywidgets import interact, FloatSlider, Dropdown, IntSlider\n",
    "from sklearn.datasets import make_biclusters, make_moons\n"
   ]
  },
  {
   "cell_type": "code",
   "execution_count": 4,
   "metadata": {},
   "outputs": [
    {
     "data": {
      "image/png": "[encoded data removed]",
      "text/plain": [
       "<Figure size 432x288 with 4 Axes>"
      ]
     },
     "metadata": {
      "needs_background": "light"
     },
     "output_type": "display_data"
    }
   ],
   "source": [
    "train, test = datasets.mnist.load_data()\n",
    "xtrain, ytrain = train\n",
    "\n",
    "np.random.seed(3141)\n",
    "indices = np.random.choice(np.arange(len(xtrain)), size=4)\n",
    "fig, ax = plt.subplots(2, 2)\n",
    "for axi, ix in zip(ax.ravel(), indices):\n",
    "    axi.imshow(xtrain[ix])\n",
    "    axi.axis(\"off\")"
   ]
  },
  {
   "cell_type": "code",
   "execution_count": 5,
   "metadata": {},
   "outputs": [],
   "source": [
    "N, M1, M2 = xtrain.shape\n",
    "X = xtrain.reshape(N, -1)"
   ]
  },
  {
   "cell_type": "code",
   "execution_count": 10,
   "metadata": {},
   "outputs": [],
   "source": [
    "xtest, ytest = test\n",
    "N_t, M1_t, M2_t = xtest.shape\n",
    "Xtest = xtrain.reshape(N_t, -1)"
   ]
  },
  {
   "cell_type": "code",
   "execution_count": 24,
   "metadata": {},
   "outputs": [
    {
     "name": "stdout",
     "output_type": "stream",
     "text": [
      "Wall time: 24.9 s\n"
     ]
    }
   ],
   "source": [
    "%%time\n",
    "pipe = Pipeline([\n",
    "    (\"PCA\", PCA(n_components=.7)),\n",
    "    (\"KNN\", KNeighborsClassifier(n_neighbors=5,n_jobs=-1))\n",
    "])\n",
    "cv_1=cross_validate(pipe, X, ytrain, cv=3, scoring=[\"accuracy\"],n_jobs=-1)\n"
   ]
  },
  {
   "cell_type": "code",
   "execution_count": 25,
   "metadata": {},
   "outputs": [
    {
     "data": {
      "text/plain": [
       "0.9711666666666666"
      ]
     },
     "execution_count": 25,
     "metadata": {},
     "output_type": "execute_result"
    }
   ],
   "source": [
    "#Presición cross-validation train set\n",
    "cv_1[\"test_accuracy\"].mean()"
   ]
  },
  {
   "cell_type": "code",
   "execution_count": 18,
   "metadata": {},
   "outputs": [
    {
     "name": "stdout",
     "output_type": "stream",
     "text": [
      "Wall time: 15min 26s\n"
     ]
    }
   ],
   "source": [
    "%%time\n",
    "knn = KNeighborsClassifier(n_neighbors=5,n_jobs=-1)\n",
    "cv=cross_validate(knn, X, ytrain, cv=3, scoring=[\"accuracy\"], n_jobs=-1)"
   ]
  },
  {
   "cell_type": "code",
   "execution_count": 19,
   "metadata": {},
   "outputs": [
    {
     "data": {
      "text/plain": [
       "0.9674166666666667"
      ]
     },
     "execution_count": 19,
     "metadata": {},
     "output_type": "execute_result"
    }
   ],
   "source": [
    "cv[\"test_accuracy\"].mean()"
   ]
  },
  {
   "cell_type": "code",
   "execution_count": 32,
   "metadata": {},
   "outputs": [
    {
     "name": "stdout",
     "output_type": "stream",
     "text": [
      "1. ¿Qué resultados arroja cada modelo? usando accuracy\n",
      "El primer modelo tiene un accuracy de 0.9712\n",
      "El segundo modelo tiene un accuracy de 0.9674\n"
     ]
    }
   ],
   "source": [
    "print(f\"\"\"1. ¿Qué resultados arroja cada modelo? usando accuracy\n",
    "El primer modelo tiene un accuracy de {cv_1['test_accuracy'].mean():.4f}\n",
    "El segundo modelo tiene un accuracy de {cv['test_accuracy'].mean():.4f}\"\"\")"
   ]
  },
  {
   "cell_type": "markdown",
   "metadata": {},
   "source": [
    "2. ¿Qué ventajas tiene cada modelo?\n",
    "\n",
    "El primer modelo tiene una clara ventaja en cuanto al tiempo que tomo su ejecución, pues fue 29 veces más rápido que le segundo modelo, además de que tuvo un mejor accuracy con cv.  \n",
    "\n",
    "Por otro lado, el segundo modelo contiene toda la información, lo cual, puede ser ventajozo."
   ]
  },
  {
   "cell_type": "code",
   "execution_count": 35,
   "metadata": {},
   "outputs": [
    {
     "name": "stdout",
     "output_type": "stream",
     "text": [
      "3. ¿Cuánto tarda en correr cada cross-validation?\n",
      "El primer modelo tardó 24.9s\n",
      "El segundo modelo tardó 15 min 26s\n"
     ]
    }
   ],
   "source": [
    "print(f\"\"\"3. ¿Cuánto tarda en correr cada cross-validation?\n",
    "El primer modelo tardó {24.9}s\n",
    "El segundo modelo tardó {15} min {26}s\"\"\")"
   ]
  }
 ],
 "metadata": {
  "kernelspec": {
   "display_name": "Python 3",
   "language": "python",
   "name": "python3"
  },
  "language_info": {
   "codemirror_mode": {
    "name": "ipython",
    "version": 3
   },
   "file_extension": ".py",
   "mimetype": "text/x-python",
   "name": "python",
   "nbconvert_exporter": "python",
   "pygments_lexer": "ipython3",
   "version": "3.7.3"
  }
 },
 "nbformat": 4,
 "nbformat_minor": 2
}
