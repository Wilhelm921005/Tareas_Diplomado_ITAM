{
 "cells": [
  {
   "cell_type": "code",
   "execution_count": 3,
   "metadata": {},
   "outputs": [],
   "source": [
    "import pandas as pd \n",
    "import numpy as np\n",
    "import seaborn as sns\n",
    "import matplotlib.pyplot as plt\n",
    "from sklearn.linear_model import Lasso, Ridge, LassoCV\n",
    "from sklearn.decomposition import PCA\n",
    "from sklearn.model_selection import train_test_split, GridSearchCV\n",
    "from sklearn.preprocessing import OneHotEncoder, StandardScaler\n",
    "from sklearn.metrics import r2_score, mean_absolute_error\n",
    "from sklearn.ensemble import RandomForestRegressor, GradientBoostingRegressor ,VotingRegressor, BaggingRegressor\n",
    "from sklearn.feature_selection import RFE\n",
    "from sklearn.tree import DecisionTreeRegressor\n",
    "from sklearn.svm import SVR\n",
    "import pickle"
   ]
  },
  {
   "cell_type": "code",
   "execution_count": 3,
   "metadata": {},
   "outputs": [
    {
     "data": {
      "text/html": [
       "<div>\n",
       "<style scoped>\n",
       "    .dataframe tbody tr th:only-of-type {\n",
       "        vertical-align: middle;\n",
       "    }\n",
       "\n",
       "    .dataframe tbody tr th {\n",
       "        vertical-align: top;\n",
       "    }\n",
       "\n",
       "    .dataframe thead th {\n",
       "        text-align: right;\n",
       "    }\n",
       "</style>\n",
       "<table border=\"1\" class=\"dataframe\">\n",
       "  <thead>\n",
       "    <tr style=\"text-align: right;\">\n",
       "      <th></th>\n",
       "      <th>0</th>\n",
       "      <th>1</th>\n",
       "      <th>2</th>\n",
       "      <th>3</th>\n",
       "      <th>4</th>\n",
       "    </tr>\n",
       "  </thead>\n",
       "  <tbody>\n",
       "    <tr>\n",
       "      <th>Id</th>\n",
       "      <td>1</td>\n",
       "      <td>2</td>\n",
       "      <td>3</td>\n",
       "      <td>4</td>\n",
       "      <td>5</td>\n",
       "    </tr>\n",
       "    <tr>\n",
       "      <th>MSSubClass</th>\n",
       "      <td>60</td>\n",
       "      <td>20</td>\n",
       "      <td>60</td>\n",
       "      <td>70</td>\n",
       "      <td>60</td>\n",
       "    </tr>\n",
       "    <tr>\n",
       "      <th>MSZoning</th>\n",
       "      <td>RL</td>\n",
       "      <td>RL</td>\n",
       "      <td>RL</td>\n",
       "      <td>RL</td>\n",
       "      <td>RL</td>\n",
       "    </tr>\n",
       "    <tr>\n",
       "      <th>LotFrontage</th>\n",
       "      <td>65</td>\n",
       "      <td>80</td>\n",
       "      <td>68</td>\n",
       "      <td>60</td>\n",
       "      <td>84</td>\n",
       "    </tr>\n",
       "    <tr>\n",
       "      <th>LotArea</th>\n",
       "      <td>8450</td>\n",
       "      <td>9600</td>\n",
       "      <td>11250</td>\n",
       "      <td>9550</td>\n",
       "      <td>14260</td>\n",
       "    </tr>\n",
       "    <tr>\n",
       "      <th>...</th>\n",
       "      <td>...</td>\n",
       "      <td>...</td>\n",
       "      <td>...</td>\n",
       "      <td>...</td>\n",
       "      <td>...</td>\n",
       "    </tr>\n",
       "    <tr>\n",
       "      <th>MoSold</th>\n",
       "      <td>2</td>\n",
       "      <td>5</td>\n",
       "      <td>9</td>\n",
       "      <td>2</td>\n",
       "      <td>12</td>\n",
       "    </tr>\n",
       "    <tr>\n",
       "      <th>YrSold</th>\n",
       "      <td>2008</td>\n",
       "      <td>2007</td>\n",
       "      <td>2008</td>\n",
       "      <td>2006</td>\n",
       "      <td>2008</td>\n",
       "    </tr>\n",
       "    <tr>\n",
       "      <th>SaleType</th>\n",
       "      <td>WD</td>\n",
       "      <td>WD</td>\n",
       "      <td>WD</td>\n",
       "      <td>WD</td>\n",
       "      <td>WD</td>\n",
       "    </tr>\n",
       "    <tr>\n",
       "      <th>SaleCondition</th>\n",
       "      <td>Normal</td>\n",
       "      <td>Normal</td>\n",
       "      <td>Normal</td>\n",
       "      <td>Abnorml</td>\n",
       "      <td>Normal</td>\n",
       "    </tr>\n",
       "    <tr>\n",
       "      <th>SalePrice</th>\n",
       "      <td>208500</td>\n",
       "      <td>181500</td>\n",
       "      <td>223500</td>\n",
       "      <td>140000</td>\n",
       "      <td>250000</td>\n",
       "    </tr>\n",
       "  </tbody>\n",
       "</table>\n",
       "<p>81 rows × 5 columns</p>\n",
       "</div>"
      ],
      "text/plain": [
       "                    0       1       2        3       4\n",
       "Id                  1       2       3        4       5\n",
       "MSSubClass         60      20      60       70      60\n",
       "MSZoning           RL      RL      RL       RL      RL\n",
       "LotFrontage        65      80      68       60      84\n",
       "LotArea          8450    9600   11250     9550   14260\n",
       "...               ...     ...     ...      ...     ...\n",
       "MoSold              2       5       9        2      12\n",
       "YrSold           2008    2007    2008     2006    2008\n",
       "SaleType           WD      WD      WD       WD      WD\n",
       "SaleCondition  Normal  Normal  Normal  Abnorml  Normal\n",
       "SalePrice      208500  181500  223500   140000  250000\n",
       "\n",
       "[81 rows x 5 columns]"
      ]
     },
     "execution_count": 3,
     "metadata": {},
     "output_type": "execute_result"
    }
   ],
   "source": [
    "housing = pd.read_csv(\"./train.csv\")\n",
    "housing.head().T"
   ]
  },
  {
   "cell_type": "code",
   "execution_count": 4,
   "metadata": {},
   "outputs": [
    {
     "data": {
      "text/plain": [
       "Index(['LotFrontage', 'Alley', 'MasVnrType', 'MasVnrArea', 'BsmtQual',\n",
       "       'BsmtCond', 'BsmtExposure', 'BsmtFinType1', 'BsmtFinType2',\n",
       "       'Electrical', 'FireplaceQu', 'GarageType', 'GarageYrBlt',\n",
       "       'GarageFinish', 'GarageQual', 'GarageCond', 'PoolQC', 'Fence',\n",
       "       'MiscFeature'],\n",
       "      dtype='object')"
      ]
     },
     "execution_count": 4,
     "metadata": {},
     "output_type": "execute_result"
    }
   ],
   "source": [
    "#Variables con valores nulos\n",
    "housing.columns[housing.isna().sum() > 0]"
   ]
  },
  {
   "cell_type": "markdown",
   "metadata": {},
   "source": [
    "Se eliminarán todas las variables que tengan más del 10% de valores nulos."
   ]
  },
  {
   "cell_type": "code",
   "execution_count": 5,
   "metadata": {},
   "outputs": [
    {
     "data": {
      "text/plain": [
       "LotFrontage    0.177397\n",
       "Alley          0.937671\n",
       "FireplaceQu    0.472603\n",
       "PoolQC         0.995205\n",
       "Fence          0.807534\n",
       "MiscFeature    0.963014\n",
       "dtype: float64"
      ]
     },
     "execution_count": 5,
     "metadata": {},
     "output_type": "execute_result"
    }
   ],
   "source": [
    "porcentaje_nulos = housing[housing.columns[housing.isna().sum() > 0]].isna().sum()/housing.shape[0]\n",
    "eliminar_variables = porcentaje_nulos[porcentaje_nulos>=.1]\n",
    "eliminar_variables"
   ]
  },
  {
   "cell_type": "code",
   "execution_count": 6,
   "metadata": {},
   "outputs": [],
   "source": [
    "housing.drop(columns = eliminar_variables.index.values,inplace=True)\n",
    "housing.drop(columns = \"Id\", inplace = True)"
   ]
  },
  {
   "cell_type": "code",
   "execution_count": 7,
   "metadata": {},
   "outputs": [
    {
     "data": {
      "text/plain": [
       "Index(['MasVnrType', 'MasVnrArea', 'BsmtQual', 'BsmtCond', 'BsmtExposure',\n",
       "       'BsmtFinType1', 'BsmtFinType2', 'Electrical'],\n",
       "      dtype='object')"
      ]
     },
     "execution_count": 7,
     "metadata": {},
     "output_type": "execute_result"
    }
   ],
   "source": [
    "#Vemos cuales son las variables con valores nulos restantes\n",
    "(housing.columns)[housing[housing.GarageCond.notna()].isna().sum()>0]"
   ]
  },
  {
   "cell_type": "code",
   "execution_count": 8,
   "metadata": {},
   "outputs": [],
   "source": [
    "#Total de observaciones de la base\n",
    "n_original = housing.shape[0]"
   ]
  },
  {
   "cell_type": "code",
   "execution_count": 9,
   "metadata": {},
   "outputs": [
    {
     "data": {
      "text/plain": [
       "0.9164383561643835"
      ]
     },
     "execution_count": 9,
     "metadata": {},
     "output_type": "execute_result"
    }
   ],
   "source": [
    "#Se decidió no imputar valores (por posible riesgo de sesgo), ya que al quitar\n",
    "#todas las observaciones con valores nulos, se pierde menos del 10% de la base\n",
    "#original.\n",
    "\n",
    "#Una alternativa de modelado, sería imputar los valores de una manera cuidadosa\n",
    "#(intentando entender el por qué faltan valores)\n",
    "housing  = housing[housing.GarageCond.notna()]\n",
    "housing = housing[housing.BsmtExposure.notna()]\n",
    "housing  = housing[housing.MasVnrType.notna()]\n",
    "housing  = housing[housing.BsmtFinType2.notna()]\n",
    "housing  = housing[housing.Electrical.notna()]\n",
    "housing.shape[0]/n_original"
   ]
  },
  {
   "cell_type": "code",
   "execution_count": 10,
   "metadata": {},
   "outputs": [
    {
     "data": {
      "text/plain": [
       "Index(['MSSubClass', 'LotArea', 'OverallQual', 'OverallCond', 'YearBuilt',\n",
       "       'YearRemodAdd', 'MasVnrArea', 'BsmtFinSF1', 'BsmtFinSF2', 'BsmtUnfSF',\n",
       "       'TotalBsmtSF', '1stFlrSF', '2ndFlrSF', 'LowQualFinSF', 'GrLivArea',\n",
       "       'BsmtFullBath', 'BsmtHalfBath', 'FullBath', 'HalfBath', 'BedroomAbvGr',\n",
       "       'KitchenAbvGr', 'TotRmsAbvGrd', 'Fireplaces', 'GarageYrBlt',\n",
       "       'GarageCars', 'GarageArea', 'WoodDeckSF', 'OpenPorchSF',\n",
       "       'EnclosedPorch', '3SsnPorch', 'ScreenPorch', 'PoolArea', 'MiscVal',\n",
       "       'MoSold', 'YrSold'],\n",
       "      dtype='object')"
      ]
     },
     "execution_count": 10,
     "metadata": {},
     "output_type": "execute_result"
    }
   ],
   "source": [
    "#Guardamos todas las variables numéricas\n",
    "variables_num = housing.drop(columns=\"SalePrice\").columns[housing.drop(columns=\"SalePrice\").dtypes != \"object\"]\n",
    "variables_num"
   ]
  },
  {
   "cell_type": "code",
   "execution_count": 11,
   "metadata": {},
   "outputs": [
    {
     "data": {
      "text/plain": [
       "Index(['MSZoning', 'Street', 'LotShape', 'LandContour', 'Utilities',\n",
       "       'LotConfig', 'LandSlope', 'Neighborhood', 'Condition1', 'Condition2',\n",
       "       'BldgType', 'HouseStyle', 'RoofStyle', 'RoofMatl', 'Exterior1st',\n",
       "       'Exterior2nd', 'MasVnrType', 'ExterQual', 'ExterCond', 'Foundation',\n",
       "       'BsmtQual', 'BsmtCond', 'BsmtExposure', 'BsmtFinType1', 'BsmtFinType2',\n",
       "       'Heating', 'HeatingQC', 'CentralAir', 'Electrical', 'KitchenQual',\n",
       "       'Functional', 'GarageType', 'GarageFinish', 'GarageQual', 'GarageCond',\n",
       "       'PavedDrive', 'SaleType', 'SaleCondition'],\n",
       "      dtype='object')"
      ]
     },
     "execution_count": 11,
     "metadata": {},
     "output_type": "execute_result"
    }
   ],
   "source": [
    "#Hacemos lo propio con las categóricas\n",
    "variables_cat = housing.columns[housing.dtypes == \"object\"]\n",
    "variables_cat"
   ]
  },
  {
   "cell_type": "code",
   "execution_count": 12,
   "metadata": {},
   "outputs": [
    {
     "data": {
      "text/plain": [
       "<matplotlib.axes._subplots.AxesSubplot at 0x1faa785e978>"
      ]
     },
     "execution_count": 12,
     "metadata": {},
     "output_type": "execute_result"
    },
    {
     "data": {
      "image/png": "[encoded data removed]",
      "text/plain": [
       "<Figure size 1800x1080 with 2 Axes>"
      ]
     },
     "metadata": {
      "needs_background": "light"
     },
     "output_type": "display_data"
    }
   ],
   "source": [
    "plt.figure(figsize=(25,15))\n",
    "cmap = sns.diverging_palette(h_neg=10,\n",
    "                            h_pos = 240,\n",
    "                            as_cmap=True)\n",
    "sns.heatmap(housing[variables_num].corr(), center = 0,\n",
    "           cmap = cmap, linewidths=1, annot = False, fmt = \".2f\")"
   ]
  },
  {
   "cell_type": "code",
   "execution_count": 13,
   "metadata": {},
   "outputs": [
    {
     "data": {
      "text/html": [
       "<div>\n",
       "<style scoped>\n",
       "    .dataframe tbody tr th:only-of-type {\n",
       "        vertical-align: middle;\n",
       "    }\n",
       "\n",
       "    .dataframe tbody tr th {\n",
       "        vertical-align: top;\n",
       "    }\n",
       "\n",
       "    .dataframe thead th {\n",
       "        text-align: right;\n",
       "    }\n",
       "</style>\n",
       "<table border=\"1\" class=\"dataframe\">\n",
       "  <thead>\n",
       "    <tr style=\"text-align: right;\">\n",
       "      <th></th>\n",
       "      <th>MSSubClass</th>\n",
       "      <th>LotArea</th>\n",
       "      <th>OverallQual</th>\n",
       "      <th>OverallCond</th>\n",
       "      <th>YearBuilt</th>\n",
       "      <th>YearRemodAdd</th>\n",
       "      <th>MasVnrArea</th>\n",
       "      <th>BsmtFinSF1</th>\n",
       "      <th>BsmtFinSF2</th>\n",
       "      <th>BsmtUnfSF</th>\n",
       "      <th>...</th>\n",
       "      <th>GarageArea</th>\n",
       "      <th>WoodDeckSF</th>\n",
       "      <th>OpenPorchSF</th>\n",
       "      <th>EnclosedPorch</th>\n",
       "      <th>3SsnPorch</th>\n",
       "      <th>ScreenPorch</th>\n",
       "      <th>PoolArea</th>\n",
       "      <th>MiscVal</th>\n",
       "      <th>MoSold</th>\n",
       "      <th>YrSold</th>\n",
       "    </tr>\n",
       "  </thead>\n",
       "  <tbody>\n",
       "    <tr>\n",
       "      <th>0</th>\n",
       "      <td>0.093701</td>\n",
       "      <td>-0.218363</td>\n",
       "      <td>0.589337</td>\n",
       "      <td>-0.553402</td>\n",
       "      <td>1.014157</td>\n",
       "      <td>0.854216</td>\n",
       "      <td>0.461582</td>\n",
       "      <td>0.527157</td>\n",
       "      <td>-0.296255</td>\n",
       "      <td>-0.983421</td>\n",
       "      <td>...</td>\n",
       "      <td>0.249341</td>\n",
       "      <td>-0.779554</td>\n",
       "      <td>0.202294</td>\n",
       "      <td>-0.349612</td>\n",
       "      <td>-0.118688</td>\n",
       "      <td>-0.283203</td>\n",
       "      <td>-0.071771</td>\n",
       "      <td>-0.084535</td>\n",
       "      <td>-1.605319</td>\n",
       "      <td>0.146084</td>\n",
       "    </tr>\n",
       "    <tr>\n",
       "      <th>1</th>\n",
       "      <td>-0.876298</td>\n",
       "      <td>-0.107067</td>\n",
       "      <td>-0.165963</td>\n",
       "      <td>2.230251</td>\n",
       "      <td>0.100528</td>\n",
       "      <td>-0.476562</td>\n",
       "      <td>-0.594820</td>\n",
       "      <td>1.120240</td>\n",
       "      <td>-0.296255</td>\n",
       "      <td>-0.678727</td>\n",
       "      <td>...</td>\n",
       "      <td>-0.222023</td>\n",
       "      <td>1.557895</td>\n",
       "      <td>-0.731311</td>\n",
       "      <td>-0.349612</td>\n",
       "      <td>-0.118688</td>\n",
       "      <td>-0.283203</td>\n",
       "      <td>-0.071771</td>\n",
       "      <td>-0.084535</td>\n",
       "      <td>-0.493561</td>\n",
       "      <td>-0.605686</td>\n",
       "    </tr>\n",
       "    <tr>\n",
       "      <th>2</th>\n",
       "      <td>0.093701</td>\n",
       "      <td>0.052620</td>\n",
       "      <td>0.589337</td>\n",
       "      <td>-0.553402</td>\n",
       "      <td>0.946480</td>\n",
       "      <td>0.804928</td>\n",
       "      <td>0.278328</td>\n",
       "      <td>0.047458</td>\n",
       "      <td>-0.296255</td>\n",
       "      <td>-0.337652</td>\n",
       "      <td>...</td>\n",
       "      <td>0.570726</td>\n",
       "      <td>-0.779554</td>\n",
       "      <td>-0.088501</td>\n",
       "      <td>-0.349612</td>\n",
       "      <td>-0.118688</td>\n",
       "      <td>-0.283203</td>\n",
       "      <td>-0.071771</td>\n",
       "      <td>-0.084535</td>\n",
       "      <td>0.988784</td>\n",
       "      <td>0.146084</td>\n",
       "    </tr>\n",
       "    <tr>\n",
       "      <th>3</th>\n",
       "      <td>0.336201</td>\n",
       "      <td>-0.111906</td>\n",
       "      <td>0.589337</td>\n",
       "      <td>-0.553402</td>\n",
       "      <td>-1.963596</td>\n",
       "      <td>-0.772291</td>\n",
       "      <td>-0.594820</td>\n",
       "      <td>-0.541263</td>\n",
       "      <td>-0.296255</td>\n",
       "      <td>-0.096626</td>\n",
       "      <td>...</td>\n",
       "      <td>0.752844</td>\n",
       "      <td>-0.779554</td>\n",
       "      <td>-0.195636</td>\n",
       "      <td>4.122511</td>\n",
       "      <td>-0.118688</td>\n",
       "      <td>-0.283203</td>\n",
       "      <td>-0.071771</td>\n",
       "      <td>-0.084535</td>\n",
       "      <td>-1.605319</td>\n",
       "      <td>-1.357457</td>\n",
       "    </tr>\n",
       "    <tr>\n",
       "      <th>4</th>\n",
       "      <td>0.093701</td>\n",
       "      <td>0.343926</td>\n",
       "      <td>1.344638</td>\n",
       "      <td>-0.553402</td>\n",
       "      <td>0.912642</td>\n",
       "      <td>0.706352</td>\n",
       "      <td>1.291612</td>\n",
       "      <td>0.415954</td>\n",
       "      <td>-0.296255</td>\n",
       "      <td>-0.210318</td>\n",
       "      <td>...</td>\n",
       "      <td>1.791989</td>\n",
       "      <td>0.726453</td>\n",
       "      <td>0.554309</td>\n",
       "      <td>-0.349612</td>\n",
       "      <td>-0.118688</td>\n",
       "      <td>-0.283203</td>\n",
       "      <td>-0.071771</td>\n",
       "      <td>-0.084535</td>\n",
       "      <td>2.100542</td>\n",
       "      <td>0.146084</td>\n",
       "    </tr>\n",
       "  </tbody>\n",
       "</table>\n",
       "<p>5 rows × 35 columns</p>\n",
       "</div>"
      ],
      "text/plain": [
       "   MSSubClass   LotArea  OverallQual  OverallCond  YearBuilt  YearRemodAdd  \\\n",
       "0    0.093701 -0.218363     0.589337    -0.553402   1.014157      0.854216   \n",
       "1   -0.876298 -0.107067    -0.165963     2.230251   0.100528     -0.476562   \n",
       "2    0.093701  0.052620     0.589337    -0.553402   0.946480      0.804928   \n",
       "3    0.336201 -0.111906     0.589337    -0.553402  -1.963596     -0.772291   \n",
       "4    0.093701  0.343926     1.344638    -0.553402   0.912642      0.706352   \n",
       "\n",
       "   MasVnrArea  BsmtFinSF1  BsmtFinSF2  BsmtUnfSF  ...  GarageArea  WoodDeckSF  \\\n",
       "0    0.461582    0.527157   -0.296255  -0.983421  ...    0.249341   -0.779554   \n",
       "1   -0.594820    1.120240   -0.296255  -0.678727  ...   -0.222023    1.557895   \n",
       "2    0.278328    0.047458   -0.296255  -0.337652  ...    0.570726   -0.779554   \n",
       "3   -0.594820   -0.541263   -0.296255  -0.096626  ...    0.752844   -0.779554   \n",
       "4    1.291612    0.415954   -0.296255  -0.210318  ...    1.791989    0.726453   \n",
       "\n",
       "   OpenPorchSF  EnclosedPorch  3SsnPorch  ScreenPorch  PoolArea   MiscVal  \\\n",
       "0     0.202294      -0.349612  -0.118688    -0.283203 -0.071771 -0.084535   \n",
       "1    -0.731311      -0.349612  -0.118688    -0.283203 -0.071771 -0.084535   \n",
       "2    -0.088501      -0.349612  -0.118688    -0.283203 -0.071771 -0.084535   \n",
       "3    -0.195636       4.122511  -0.118688    -0.283203 -0.071771 -0.084535   \n",
       "4     0.554309      -0.349612  -0.118688    -0.283203 -0.071771 -0.084535   \n",
       "\n",
       "     MoSold    YrSold  \n",
       "0 -1.605319  0.146084  \n",
       "1 -0.493561 -0.605686  \n",
       "2  0.988784  0.146084  \n",
       "3 -1.605319 -1.357457  \n",
       "4  2.100542  0.146084  \n",
       "\n",
       "[5 rows x 35 columns]"
      ]
     },
     "execution_count": 13,
     "metadata": {},
     "output_type": "execute_result"
    }
   ],
   "source": [
    "scaler = StandardScaler()\n",
    "df_std = pd.DataFrame(scaler.fit_transform(housing[variables_num]),\n",
    "                     columns=housing[variables_num].columns)\n",
    "df_std.head()"
   ]
  },
  {
   "cell_type": "code",
   "execution_count": 14,
   "metadata": {},
   "outputs": [],
   "source": [
    "## Calculamos todas las componentes principales del modelo, esto con la \n",
    "## finalidad de quitar las correlaciones lineales entre las variables"
   ]
  },
  {
   "cell_type": "code",
   "execution_count": 15,
   "metadata": {},
   "outputs": [
    {
     "name": "stdout",
     "output_type": "stream",
     "text": [
      "[0.1993644  0.29152397 0.3649239  0.42385415 0.46435805 0.49823285\n",
      " 0.53148404 0.56359753 0.59485093 0.6253014  0.65502063 0.68377288\n",
      " 0.71147747 0.73861123 0.76503643 0.7909284  0.81477508 0.83712051\n",
      " 0.85910893 0.88005311 0.89883812 0.91639109 0.93168345 0.94393595\n",
      " 0.95496767 0.96424802 0.97223793 0.97897776 0.98522704 0.9900295\n",
      " 0.99392026 0.99722201 1.         1.         1.        ]\n"
     ]
    }
   ],
   "source": [
    "pca = PCA()\n",
    "pca_df = pd.DataFrame(pca.fit_transform(df_std))\n",
    "print(pca.explained_variance_ratio_.cumsum())"
   ]
  },
  {
   "cell_type": "code",
   "execution_count": 16,
   "metadata": {},
   "outputs": [
    {
     "data": {
      "text/html": [
       "<div>\n",
       "<style scoped>\n",
       "    .dataframe tbody tr th:only-of-type {\n",
       "        vertical-align: middle;\n",
       "    }\n",
       "\n",
       "    .dataframe tbody tr th {\n",
       "        vertical-align: top;\n",
       "    }\n",
       "\n",
       "    .dataframe thead th {\n",
       "        text-align: right;\n",
       "    }\n",
       "</style>\n",
       "<table border=\"1\" class=\"dataframe\">\n",
       "  <thead>\n",
       "    <tr style=\"text-align: right;\">\n",
       "      <th></th>\n",
       "      <th>PC_1</th>\n",
       "      <th>PC_2</th>\n",
       "      <th>PC_3</th>\n",
       "      <th>PC_4</th>\n",
       "      <th>PC_5</th>\n",
       "      <th>PC_6</th>\n",
       "      <th>PC_7</th>\n",
       "      <th>PC_8</th>\n",
       "      <th>PC_9</th>\n",
       "      <th>PC_10</th>\n",
       "      <th>...</th>\n",
       "      <th>PC_26</th>\n",
       "      <th>PC_27</th>\n",
       "      <th>PC_28</th>\n",
       "      <th>PC_29</th>\n",
       "      <th>PC_30</th>\n",
       "      <th>PC_31</th>\n",
       "      <th>PC_32</th>\n",
       "      <th>PC_33</th>\n",
       "      <th>PC_34</th>\n",
       "      <th>PC_35</th>\n",
       "    </tr>\n",
       "  </thead>\n",
       "  <tbody>\n",
       "    <tr>\n",
       "      <th>0</th>\n",
       "      <td>1.384645</td>\n",
       "      <td>0.462851</td>\n",
       "      <td>-1.406892</td>\n",
       "      <td>-2.199623</td>\n",
       "      <td>0.621474</td>\n",
       "      <td>-1.160401</td>\n",
       "      <td>0.501163</td>\n",
       "      <td>-0.199081</td>\n",
       "      <td>0.074760</td>\n",
       "      <td>0.005071</td>\n",
       "      <td>...</td>\n",
       "      <td>-0.725915</td>\n",
       "      <td>-0.108428</td>\n",
       "      <td>0.077301</td>\n",
       "      <td>0.217119</td>\n",
       "      <td>-0.344874</td>\n",
       "      <td>-0.192083</td>\n",
       "      <td>-0.114906</td>\n",
       "      <td>-0.151047</td>\n",
       "      <td>2.733659e-14</td>\n",
       "      <td>2.661624e-15</td>\n",
       "    </tr>\n",
       "    <tr>\n",
       "      <th>1</th>\n",
       "      <td>-0.451928</td>\n",
       "      <td>-0.909259</td>\n",
       "      <td>1.185096</td>\n",
       "      <td>0.139168</td>\n",
       "      <td>-1.854718</td>\n",
       "      <td>0.412218</td>\n",
       "      <td>-3.384122</td>\n",
       "      <td>0.132334</td>\n",
       "      <td>0.338899</td>\n",
       "      <td>0.668450</td>\n",
       "      <td>...</td>\n",
       "      <td>0.642558</td>\n",
       "      <td>-0.869965</td>\n",
       "      <td>0.915566</td>\n",
       "      <td>0.239288</td>\n",
       "      <td>-0.230919</td>\n",
       "      <td>0.332925</td>\n",
       "      <td>-0.052100</td>\n",
       "      <td>-0.181033</td>\n",
       "      <td>2.149037e-16</td>\n",
       "      <td>1.926842e-16</td>\n",
       "    </tr>\n",
       "    <tr>\n",
       "      <th>2</th>\n",
       "      <td>1.520565</td>\n",
       "      <td>0.382892</td>\n",
       "      <td>-1.244287</td>\n",
       "      <td>-1.609073</td>\n",
       "      <td>0.086383</td>\n",
       "      <td>0.453161</td>\n",
       "      <td>0.281041</td>\n",
       "      <td>-0.063671</td>\n",
       "      <td>0.120210</td>\n",
       "      <td>-0.530879</td>\n",
       "      <td>...</td>\n",
       "      <td>-0.412842</td>\n",
       "      <td>0.110313</td>\n",
       "      <td>0.678212</td>\n",
       "      <td>0.288103</td>\n",
       "      <td>0.699458</td>\n",
       "      <td>-0.332117</td>\n",
       "      <td>0.055758</td>\n",
       "      <td>0.043159</td>\n",
       "      <td>-3.948858e-15</td>\n",
       "      <td>-9.233767e-16</td>\n",
       "    </tr>\n",
       "    <tr>\n",
       "      <th>3</th>\n",
       "      <td>-0.432584</td>\n",
       "      <td>1.122079</td>\n",
       "      <td>0.817990</td>\n",
       "      <td>0.114317</td>\n",
       "      <td>1.482649</td>\n",
       "      <td>-0.973224</td>\n",
       "      <td>1.499589</td>\n",
       "      <td>1.721926</td>\n",
       "      <td>1.084006</td>\n",
       "      <td>-1.410302</td>\n",
       "      <td>...</td>\n",
       "      <td>-0.915255</td>\n",
       "      <td>-0.365573</td>\n",
       "      <td>-0.831899</td>\n",
       "      <td>0.553974</td>\n",
       "      <td>0.060557</td>\n",
       "      <td>0.407771</td>\n",
       "      <td>1.432616</td>\n",
       "      <td>-0.426924</td>\n",
       "      <td>6.175779e-17</td>\n",
       "      <td>2.721425e-17</td>\n",
       "    </tr>\n",
       "    <tr>\n",
       "      <th>4</th>\n",
       "      <td>4.308443</td>\n",
       "      <td>1.268680</td>\n",
       "      <td>-0.214027</td>\n",
       "      <td>-1.459262</td>\n",
       "      <td>0.294188</td>\n",
       "      <td>0.722659</td>\n",
       "      <td>-0.582702</td>\n",
       "      <td>0.132037</td>\n",
       "      <td>-0.052863</td>\n",
       "      <td>-0.936708</td>\n",
       "      <td>...</td>\n",
       "      <td>-0.498996</td>\n",
       "      <td>-0.134952</td>\n",
       "      <td>-0.088849</td>\n",
       "      <td>-0.177375</td>\n",
       "      <td>0.067372</td>\n",
       "      <td>-0.018650</td>\n",
       "      <td>-0.204443</td>\n",
       "      <td>-0.134388</td>\n",
       "      <td>-1.297053e-15</td>\n",
       "      <td>6.148240e-16</td>\n",
       "    </tr>\n",
       "  </tbody>\n",
       "</table>\n",
       "<p>5 rows × 35 columns</p>\n",
       "</div>"
      ],
      "text/plain": [
       "       PC_1      PC_2      PC_3      PC_4      PC_5      PC_6      PC_7  \\\n",
       "0  1.384645  0.462851 -1.406892 -2.199623  0.621474 -1.160401  0.501163   \n",
       "1 -0.451928 -0.909259  1.185096  0.139168 -1.854718  0.412218 -3.384122   \n",
       "2  1.520565  0.382892 -1.244287 -1.609073  0.086383  0.453161  0.281041   \n",
       "3 -0.432584  1.122079  0.817990  0.114317  1.482649 -0.973224  1.499589   \n",
       "4  4.308443  1.268680 -0.214027 -1.459262  0.294188  0.722659 -0.582702   \n",
       "\n",
       "       PC_8      PC_9     PC_10  ...     PC_26     PC_27     PC_28     PC_29  \\\n",
       "0 -0.199081  0.074760  0.005071  ... -0.725915 -0.108428  0.077301  0.217119   \n",
       "1  0.132334  0.338899  0.668450  ...  0.642558 -0.869965  0.915566  0.239288   \n",
       "2 -0.063671  0.120210 -0.530879  ... -0.412842  0.110313  0.678212  0.288103   \n",
       "3  1.721926  1.084006 -1.410302  ... -0.915255 -0.365573 -0.831899  0.553974   \n",
       "4  0.132037 -0.052863 -0.936708  ... -0.498996 -0.134952 -0.088849 -0.177375   \n",
       "\n",
       "      PC_30     PC_31     PC_32     PC_33         PC_34         PC_35  \n",
       "0 -0.344874 -0.192083 -0.114906 -0.151047  2.733659e-14  2.661624e-15  \n",
       "1 -0.230919  0.332925 -0.052100 -0.181033  2.149037e-16  1.926842e-16  \n",
       "2  0.699458 -0.332117  0.055758  0.043159 -3.948858e-15 -9.233767e-16  \n",
       "3  0.060557  0.407771  1.432616 -0.426924  6.175779e-17  2.721425e-17  \n",
       "4  0.067372 -0.018650 -0.204443 -0.134388 -1.297053e-15  6.148240e-16  \n",
       "\n",
       "[5 rows x 35 columns]"
      ]
     },
     "execution_count": 16,
     "metadata": {},
     "output_type": "execute_result"
    }
   ],
   "source": [
    "pca_df.columns = [f\"PC_{i+1}\" for i in range(pca_df.shape[1])]\n",
    "pca_df.head()"
   ]
  },
  {
   "cell_type": "code",
   "execution_count": 17,
   "metadata": {},
   "outputs": [
    {
     "data": {
      "text/html": [
       "<div>\n",
       "<style scoped>\n",
       "    .dataframe tbody tr th:only-of-type {\n",
       "        vertical-align: middle;\n",
       "    }\n",
       "\n",
       "    .dataframe tbody tr th {\n",
       "        vertical-align: top;\n",
       "    }\n",
       "\n",
       "    .dataframe thead th {\n",
       "        text-align: right;\n",
       "    }\n",
       "</style>\n",
       "<table border=\"1\" class=\"dataframe\">\n",
       "  <thead>\n",
       "    <tr style=\"text-align: right;\">\n",
       "      <th></th>\n",
       "      <th>MSZoning</th>\n",
       "      <th>Street</th>\n",
       "      <th>LotShape</th>\n",
       "      <th>LandContour</th>\n",
       "      <th>Utilities</th>\n",
       "      <th>LotConfig</th>\n",
       "      <th>LandSlope</th>\n",
       "      <th>Neighborhood</th>\n",
       "      <th>Condition1</th>\n",
       "      <th>Condition2</th>\n",
       "      <th>...</th>\n",
       "      <th>Electrical</th>\n",
       "      <th>KitchenQual</th>\n",
       "      <th>Functional</th>\n",
       "      <th>GarageType</th>\n",
       "      <th>GarageFinish</th>\n",
       "      <th>GarageQual</th>\n",
       "      <th>GarageCond</th>\n",
       "      <th>PavedDrive</th>\n",
       "      <th>SaleType</th>\n",
       "      <th>SaleCondition</th>\n",
       "    </tr>\n",
       "  </thead>\n",
       "  <tbody>\n",
       "    <tr>\n",
       "      <th>0</th>\n",
       "      <td>RL</td>\n",
       "      <td>Pave</td>\n",
       "      <td>Reg</td>\n",
       "      <td>Lvl</td>\n",
       "      <td>AllPub</td>\n",
       "      <td>Inside</td>\n",
       "      <td>Gtl</td>\n",
       "      <td>CollgCr</td>\n",
       "      <td>Norm</td>\n",
       "      <td>Norm</td>\n",
       "      <td>...</td>\n",
       "      <td>SBrkr</td>\n",
       "      <td>Gd</td>\n",
       "      <td>Typ</td>\n",
       "      <td>Attchd</td>\n",
       "      <td>RFn</td>\n",
       "      <td>TA</td>\n",
       "      <td>TA</td>\n",
       "      <td>Y</td>\n",
       "      <td>WD</td>\n",
       "      <td>Normal</td>\n",
       "    </tr>\n",
       "    <tr>\n",
       "      <th>1</th>\n",
       "      <td>RL</td>\n",
       "      <td>Pave</td>\n",
       "      <td>Reg</td>\n",
       "      <td>Lvl</td>\n",
       "      <td>AllPub</td>\n",
       "      <td>FR2</td>\n",
       "      <td>Gtl</td>\n",
       "      <td>Veenker</td>\n",
       "      <td>Feedr</td>\n",
       "      <td>Norm</td>\n",
       "      <td>...</td>\n",
       "      <td>SBrkr</td>\n",
       "      <td>TA</td>\n",
       "      <td>Typ</td>\n",
       "      <td>Attchd</td>\n",
       "      <td>RFn</td>\n",
       "      <td>TA</td>\n",
       "      <td>TA</td>\n",
       "      <td>Y</td>\n",
       "      <td>WD</td>\n",
       "      <td>Normal</td>\n",
       "    </tr>\n",
       "    <tr>\n",
       "      <th>2</th>\n",
       "      <td>RL</td>\n",
       "      <td>Pave</td>\n",
       "      <td>IR1</td>\n",
       "      <td>Lvl</td>\n",
       "      <td>AllPub</td>\n",
       "      <td>Inside</td>\n",
       "      <td>Gtl</td>\n",
       "      <td>CollgCr</td>\n",
       "      <td>Norm</td>\n",
       "      <td>Norm</td>\n",
       "      <td>...</td>\n",
       "      <td>SBrkr</td>\n",
       "      <td>Gd</td>\n",
       "      <td>Typ</td>\n",
       "      <td>Attchd</td>\n",
       "      <td>RFn</td>\n",
       "      <td>TA</td>\n",
       "      <td>TA</td>\n",
       "      <td>Y</td>\n",
       "      <td>WD</td>\n",
       "      <td>Normal</td>\n",
       "    </tr>\n",
       "    <tr>\n",
       "      <th>3</th>\n",
       "      <td>RL</td>\n",
       "      <td>Pave</td>\n",
       "      <td>IR1</td>\n",
       "      <td>Lvl</td>\n",
       "      <td>AllPub</td>\n",
       "      <td>Corner</td>\n",
       "      <td>Gtl</td>\n",
       "      <td>Crawfor</td>\n",
       "      <td>Norm</td>\n",
       "      <td>Norm</td>\n",
       "      <td>...</td>\n",
       "      <td>SBrkr</td>\n",
       "      <td>Gd</td>\n",
       "      <td>Typ</td>\n",
       "      <td>Detchd</td>\n",
       "      <td>Unf</td>\n",
       "      <td>TA</td>\n",
       "      <td>TA</td>\n",
       "      <td>Y</td>\n",
       "      <td>WD</td>\n",
       "      <td>Abnorml</td>\n",
       "    </tr>\n",
       "    <tr>\n",
       "      <th>4</th>\n",
       "      <td>RL</td>\n",
       "      <td>Pave</td>\n",
       "      <td>IR1</td>\n",
       "      <td>Lvl</td>\n",
       "      <td>AllPub</td>\n",
       "      <td>FR2</td>\n",
       "      <td>Gtl</td>\n",
       "      <td>NoRidge</td>\n",
       "      <td>Norm</td>\n",
       "      <td>Norm</td>\n",
       "      <td>...</td>\n",
       "      <td>SBrkr</td>\n",
       "      <td>Gd</td>\n",
       "      <td>Typ</td>\n",
       "      <td>Attchd</td>\n",
       "      <td>RFn</td>\n",
       "      <td>TA</td>\n",
       "      <td>TA</td>\n",
       "      <td>Y</td>\n",
       "      <td>WD</td>\n",
       "      <td>Normal</td>\n",
       "    </tr>\n",
       "  </tbody>\n",
       "</table>\n",
       "<p>5 rows × 38 columns</p>\n",
       "</div>"
      ],
      "text/plain": [
       "  MSZoning Street LotShape LandContour Utilities LotConfig LandSlope  \\\n",
       "0       RL   Pave      Reg         Lvl    AllPub    Inside       Gtl   \n",
       "1       RL   Pave      Reg         Lvl    AllPub       FR2       Gtl   \n",
       "2       RL   Pave      IR1         Lvl    AllPub    Inside       Gtl   \n",
       "3       RL   Pave      IR1         Lvl    AllPub    Corner       Gtl   \n",
       "4       RL   Pave      IR1         Lvl    AllPub       FR2       Gtl   \n",
       "\n",
       "  Neighborhood Condition1 Condition2  ... Electrical KitchenQual Functional  \\\n",
       "0      CollgCr       Norm       Norm  ...      SBrkr          Gd        Typ   \n",
       "1      Veenker      Feedr       Norm  ...      SBrkr          TA        Typ   \n",
       "2      CollgCr       Norm       Norm  ...      SBrkr          Gd        Typ   \n",
       "3      Crawfor       Norm       Norm  ...      SBrkr          Gd        Typ   \n",
       "4      NoRidge       Norm       Norm  ...      SBrkr          Gd        Typ   \n",
       "\n",
       "  GarageType GarageFinish GarageQual GarageCond PavedDrive SaleType  \\\n",
       "0     Attchd          RFn         TA         TA          Y       WD   \n",
       "1     Attchd          RFn         TA         TA          Y       WD   \n",
       "2     Attchd          RFn         TA         TA          Y       WD   \n",
       "3     Detchd          Unf         TA         TA          Y       WD   \n",
       "4     Attchd          RFn         TA         TA          Y       WD   \n",
       "\n",
       "  SaleCondition  \n",
       "0        Normal  \n",
       "1        Normal  \n",
       "2        Normal  \n",
       "3       Abnorml  \n",
       "4        Normal  \n",
       "\n",
       "[5 rows x 38 columns]"
      ]
     },
     "execution_count": 17,
     "metadata": {},
     "output_type": "execute_result"
    }
   ],
   "source": [
    "#Variables categóricas, las cuales vamos a codificar\n",
    "housing[variables_cat].head()"
   ]
  },
  {
   "cell_type": "code",
   "execution_count": 18,
   "metadata": {},
   "outputs": [],
   "source": [
    "ohe = OneHotEncoder(sparse=False)"
   ]
  },
  {
   "cell_type": "code",
   "execution_count": 19,
   "metadata": {},
   "outputs": [
    {
     "data": {
      "text/html": [
       "<div>\n",
       "<style scoped>\n",
       "    .dataframe tbody tr th:only-of-type {\n",
       "        vertical-align: middle;\n",
       "    }\n",
       "\n",
       "    .dataframe tbody tr th {\n",
       "        vertical-align: top;\n",
       "    }\n",
       "\n",
       "    .dataframe thead th {\n",
       "        text-align: right;\n",
       "    }\n",
       "</style>\n",
       "<table border=\"1\" class=\"dataframe\">\n",
       "  <thead>\n",
       "    <tr style=\"text-align: right;\">\n",
       "      <th></th>\n",
       "      <th>MSZoning_C (all)</th>\n",
       "      <th>MSZoning_FV</th>\n",
       "      <th>MSZoning_RH</th>\n",
       "      <th>MSZoning_RL</th>\n",
       "      <th>MSZoning_RM</th>\n",
       "      <th>Street_Grvl</th>\n",
       "      <th>Street_Pave</th>\n",
       "      <th>LotShape_IR1</th>\n",
       "      <th>LotShape_IR2</th>\n",
       "      <th>LotShape_IR3</th>\n",
       "      <th>...</th>\n",
       "      <th>SaleType_ConLw</th>\n",
       "      <th>SaleType_New</th>\n",
       "      <th>SaleType_Oth</th>\n",
       "      <th>SaleType_WD</th>\n",
       "      <th>SaleCondition_Abnorml</th>\n",
       "      <th>SaleCondition_AdjLand</th>\n",
       "      <th>SaleCondition_Alloca</th>\n",
       "      <th>SaleCondition_Family</th>\n",
       "      <th>SaleCondition_Normal</th>\n",
       "      <th>SaleCondition_Partial</th>\n",
       "    </tr>\n",
       "  </thead>\n",
       "  <tbody>\n",
       "    <tr>\n",
       "      <th>0</th>\n",
       "      <td>0.0</td>\n",
       "      <td>0.0</td>\n",
       "      <td>0.0</td>\n",
       "      <td>1.0</td>\n",
       "      <td>0.0</td>\n",
       "      <td>0.0</td>\n",
       "      <td>1.0</td>\n",
       "      <td>0.0</td>\n",
       "      <td>0.0</td>\n",
       "      <td>0.0</td>\n",
       "      <td>...</td>\n",
       "      <td>0.0</td>\n",
       "      <td>0.0</td>\n",
       "      <td>0.0</td>\n",
       "      <td>1.0</td>\n",
       "      <td>0.0</td>\n",
       "      <td>0.0</td>\n",
       "      <td>0.0</td>\n",
       "      <td>0.0</td>\n",
       "      <td>1.0</td>\n",
       "      <td>0.0</td>\n",
       "    </tr>\n",
       "    <tr>\n",
       "      <th>1</th>\n",
       "      <td>0.0</td>\n",
       "      <td>0.0</td>\n",
       "      <td>0.0</td>\n",
       "      <td>1.0</td>\n",
       "      <td>0.0</td>\n",
       "      <td>0.0</td>\n",
       "      <td>1.0</td>\n",
       "      <td>0.0</td>\n",
       "      <td>0.0</td>\n",
       "      <td>0.0</td>\n",
       "      <td>...</td>\n",
       "      <td>0.0</td>\n",
       "      <td>0.0</td>\n",
       "      <td>0.0</td>\n",
       "      <td>1.0</td>\n",
       "      <td>0.0</td>\n",
       "      <td>0.0</td>\n",
       "      <td>0.0</td>\n",
       "      <td>0.0</td>\n",
       "      <td>1.0</td>\n",
       "      <td>0.0</td>\n",
       "    </tr>\n",
       "    <tr>\n",
       "      <th>2</th>\n",
       "      <td>0.0</td>\n",
       "      <td>0.0</td>\n",
       "      <td>0.0</td>\n",
       "      <td>1.0</td>\n",
       "      <td>0.0</td>\n",
       "      <td>0.0</td>\n",
       "      <td>1.0</td>\n",
       "      <td>1.0</td>\n",
       "      <td>0.0</td>\n",
       "      <td>0.0</td>\n",
       "      <td>...</td>\n",
       "      <td>0.0</td>\n",
       "      <td>0.0</td>\n",
       "      <td>0.0</td>\n",
       "      <td>1.0</td>\n",
       "      <td>0.0</td>\n",
       "      <td>0.0</td>\n",
       "      <td>0.0</td>\n",
       "      <td>0.0</td>\n",
       "      <td>1.0</td>\n",
       "      <td>0.0</td>\n",
       "    </tr>\n",
       "    <tr>\n",
       "      <th>3</th>\n",
       "      <td>0.0</td>\n",
       "      <td>0.0</td>\n",
       "      <td>0.0</td>\n",
       "      <td>1.0</td>\n",
       "      <td>0.0</td>\n",
       "      <td>0.0</td>\n",
       "      <td>1.0</td>\n",
       "      <td>1.0</td>\n",
       "      <td>0.0</td>\n",
       "      <td>0.0</td>\n",
       "      <td>...</td>\n",
       "      <td>0.0</td>\n",
       "      <td>0.0</td>\n",
       "      <td>0.0</td>\n",
       "      <td>1.0</td>\n",
       "      <td>1.0</td>\n",
       "      <td>0.0</td>\n",
       "      <td>0.0</td>\n",
       "      <td>0.0</td>\n",
       "      <td>0.0</td>\n",
       "      <td>0.0</td>\n",
       "    </tr>\n",
       "    <tr>\n",
       "      <th>4</th>\n",
       "      <td>0.0</td>\n",
       "      <td>0.0</td>\n",
       "      <td>0.0</td>\n",
       "      <td>1.0</td>\n",
       "      <td>0.0</td>\n",
       "      <td>0.0</td>\n",
       "      <td>1.0</td>\n",
       "      <td>1.0</td>\n",
       "      <td>0.0</td>\n",
       "      <td>0.0</td>\n",
       "      <td>...</td>\n",
       "      <td>0.0</td>\n",
       "      <td>0.0</td>\n",
       "      <td>0.0</td>\n",
       "      <td>1.0</td>\n",
       "      <td>0.0</td>\n",
       "      <td>0.0</td>\n",
       "      <td>0.0</td>\n",
       "      <td>0.0</td>\n",
       "      <td>1.0</td>\n",
       "      <td>0.0</td>\n",
       "    </tr>\n",
       "  </tbody>\n",
       "</table>\n",
       "<p>5 rows × 229 columns</p>\n",
       "</div>"
      ],
      "text/plain": [
       "   MSZoning_C (all)  MSZoning_FV  MSZoning_RH  MSZoning_RL  MSZoning_RM  \\\n",
       "0               0.0          0.0          0.0          1.0          0.0   \n",
       "1               0.0          0.0          0.0          1.0          0.0   \n",
       "2               0.0          0.0          0.0          1.0          0.0   \n",
       "3               0.0          0.0          0.0          1.0          0.0   \n",
       "4               0.0          0.0          0.0          1.0          0.0   \n",
       "\n",
       "   Street_Grvl  Street_Pave  LotShape_IR1  LotShape_IR2  LotShape_IR3  ...  \\\n",
       "0          0.0          1.0           0.0           0.0           0.0  ...   \n",
       "1          0.0          1.0           0.0           0.0           0.0  ...   \n",
       "2          0.0          1.0           1.0           0.0           0.0  ...   \n",
       "3          0.0          1.0           1.0           0.0           0.0  ...   \n",
       "4          0.0          1.0           1.0           0.0           0.0  ...   \n",
       "\n",
       "   SaleType_ConLw  SaleType_New  SaleType_Oth  SaleType_WD  \\\n",
       "0             0.0           0.0           0.0          1.0   \n",
       "1             0.0           0.0           0.0          1.0   \n",
       "2             0.0           0.0           0.0          1.0   \n",
       "3             0.0           0.0           0.0          1.0   \n",
       "4             0.0           0.0           0.0          1.0   \n",
       "\n",
       "   SaleCondition_Abnorml  SaleCondition_AdjLand  SaleCondition_Alloca  \\\n",
       "0                    0.0                    0.0                   0.0   \n",
       "1                    0.0                    0.0                   0.0   \n",
       "2                    0.0                    0.0                   0.0   \n",
       "3                    1.0                    0.0                   0.0   \n",
       "4                    0.0                    0.0                   0.0   \n",
       "\n",
       "   SaleCondition_Family  SaleCondition_Normal  SaleCondition_Partial  \n",
       "0                   0.0                   1.0                    0.0  \n",
       "1                   0.0                   1.0                    0.0  \n",
       "2                   0.0                   1.0                    0.0  \n",
       "3                   0.0                   0.0                    0.0  \n",
       "4                   0.0                   1.0                    0.0  \n",
       "\n",
       "[5 rows x 229 columns]"
      ]
     },
     "execution_count": 19,
     "metadata": {},
     "output_type": "execute_result"
    }
   ],
   "source": [
    "ohe_df = pd.DataFrame(ohe.fit_transform(housing[variables_cat]),\n",
    "                      columns=ohe.get_feature_names(variables_cat))\n",
    "ohe_df.head()"
   ]
  },
  {
   "cell_type": "code",
   "execution_count": 21,
   "metadata": {},
   "outputs": [
    {
     "data": {
      "text/plain": [
       "(1338, 265)"
      ]
     },
     "execution_count": 21,
     "metadata": {},
     "output_type": "execute_result"
    }
   ],
   "source": [
    "#Juntamos las componentes principales y las variables codificadas\n",
    "df_c = pd.concat([pca_df.reset_index(drop=True), ohe_df], axis=1)\n",
    "df_c = pd.concat([df_c.reset_index(drop=True), \n",
    "                  housing[[\"SalePrice\"]].reset_index(drop=True)], axis=1)\n",
    "df_c.shape"
   ]
  },
  {
   "cell_type": "markdown",
   "metadata": {},
   "source": [
    "## Selección de variables\n",
    "Se crearán cuatro modelos básicos, los cuales, tienen la caracterísitca de dar importancia a las variables predictoras. Con los resultados de estos modelos simples, se hará un proceso de botos, y las variables que sean representativas en al menos 3 de los 4 modelos, serán las elegidas como **variables finales predictoras**."
   ]
  },
  {
   "cell_type": "code",
   "execution_count": 22,
   "metadata": {},
   "outputs": [
    {
     "data": {
      "text/plain": [
       "LassoCV(alphas=None, copy_X=True, cv=None, eps=0.001, fit_intercept=True,\n",
       "        max_iter=1000, n_alphas=100, n_jobs=None, normalize=False,\n",
       "        positive=False, precompute='auto', random_state=None,\n",
       "        selection='cyclic', tol=0.0001, verbose=False)"
      ]
     },
     "execution_count": 22,
     "metadata": {},
     "output_type": "execute_result"
    }
   ],
   "source": [
    "#Primer modelo, una regresión lasso\n",
    "lcv = LassoCV()\n",
    "lcv.fit(df_c.drop(\"SalePrice\",axis=1),df_c[\"SalePrice\"])"
   ]
  },
  {
   "cell_type": "code",
   "execution_count": 150,
   "metadata": {},
   "outputs": [],
   "source": [
    "#with open(\"./LassoCV.pkl\",\"wb\") as fid:\n",
    " #   pickle.dump(lcv,fid)\n",
    "with open(\"./LassoCV.pkl\",\"rb\") as fid:\n",
    "    lcv = pickle.load(fid)"
   ]
  },
  {
   "cell_type": "code",
   "execution_count": 27,
   "metadata": {},
   "outputs": [
    {
     "data": {
      "text/plain": [
       "79"
      ]
     },
     "execution_count": 27,
     "metadata": {},
     "output_type": "execute_result"
    }
   ],
   "source": [
    "#Creamos un filtro para quedarnos con las variables con coeficiente\n",
    "#distinto de cero\n",
    "lcv_mask = lcv.coef_ != 0\n",
    "sum(lcv_mask)"
   ]
  },
  {
   "cell_type": "code",
   "execution_count": 30,
   "metadata": {},
   "outputs": [],
   "source": [
    "#Segundo modelo, un bosque aleatorio\n",
    "rfe_rf = RFE(estimator=RandomForestRegressor(),n_features_to_select=79,step=5)\n",
    "rfe_rf.fit(df_c.drop(\"SalePrice\",axis=1),df_c[\"SalePrice\"])\n",
    "rf_mask = rfe_rf.support_"
   ]
  },
  {
   "cell_type": "code",
   "execution_count": 31,
   "metadata": {},
   "outputs": [],
   "source": [
    "#Guardamos el modelo de RandomForestRegressor creado para elegir las variables\n",
    "#with open(\"./rfe_rf.pkl\",\"wb\") as fid:\n",
    " #   pickle.dump(rfe_rf,fid)"
   ]
  },
  {
   "cell_type": "code",
   "execution_count": 32,
   "metadata": {},
   "outputs": [],
   "source": [
    "#Cargamos el modelo RF creado previamente\n",
    "#with open(\"./rfe_rf.pkl\",\"rb\") as fid:\n",
    " #   rfe_rf = pickle.load(fid)\n",
    "#rf_mask = rfe_rf.support_"
   ]
  },
  {
   "cell_type": "code",
   "execution_count": 28,
   "metadata": {},
   "outputs": [],
   "source": [
    "#Tercer modelo, un GBM\n",
    "rfe_gb = RFE(estimator=GradientBoostingRegressor(), n_features_to_select=79, step=5)\n",
    "rfe_gb.fit(df_c.drop(\"SalePrice\",axis=1),df_c[\"SalePrice\"])\n",
    "gb_mask = rfe_gb.support_"
   ]
  },
  {
   "cell_type": "code",
   "execution_count": 72,
   "metadata": {},
   "outputs": [],
   "source": [
    "#Guardamos el modelo de GBM creado para elegir las variables\n",
    "#with open(\"./rfe_gb.pkl\",\"wb\") as fid:\n",
    " #   pickle.dump(rfe_gb,fid)"
   ]
  },
  {
   "cell_type": "code",
   "execution_count": 35,
   "metadata": {},
   "outputs": [],
   "source": [
    "#Cargamos el modelo GBM previo\n",
    "#with open(\"./rfe_gb.pkl\",\"rb\") as fid:\n",
    " #   rfe_gb = pickle.load(fid)\n",
    "#gb_mask = rfe_gb.support_"
   ]
  },
  {
   "cell_type": "code",
   "execution_count": 30,
   "metadata": {},
   "outputs": [],
   "source": [
    "#Cuarto modelo, un SVR\n",
    "rfe_svr = RFE(estimator=SVR(kernel=\"linear\"), n_features_to_select=79, step=5)\n",
    "rfe_svr.fit(df_c.drop(\"SalePrice\",axis=1),df_c[\"SalePrice\"])\n",
    "svr_mask = rfe_svr.support_"
   ]
  },
  {
   "cell_type": "code",
   "execution_count": 73,
   "metadata": {},
   "outputs": [],
   "source": [
    "#Guardamos el modelo de SVR creado para elegir las variables\n",
    "#with open(\"./rfe_svr.pkl\",\"wb\") as fid:\n",
    " #   pickle.dump(rfe_svr,fid)"
   ]
  },
  {
   "cell_type": "code",
   "execution_count": 36,
   "metadata": {},
   "outputs": [],
   "source": [
    "#Cargamos el modelo de SVR previo\n",
    "#with open(\"./rfe_svr.pkl\",\"rb\") as fid:\n",
    " #   rfe_svr = pickle.load(fid)"
   ]
  },
  {
   "cell_type": "code",
   "execution_count": 42,
   "metadata": {},
   "outputs": [
    {
     "name": "stdout",
     "output_type": "stream",
     "text": [
      "[4 3 4 4 4 3 3 3 3 3 4 4 3 4 3 4 3 3 4 4 4 2 3 4 4 4 3 4 3 2 3 2 3 0 0 2 1\n",
      " 0 3 4 1 0 2 2 0 2 2 0 0 1 0 0 0 3 1 0 1 1 1 0 1 0 0 1 2 1 3 4 1 0 0 1 2 0\n",
      " 1 3 3 1 0 1 0 2 3 0 0 0 0 3 0 0 0 0 0 0 0 0 0 0 1 0 0 0 3 1 1 0 0 1 0 3 0\n",
      " 0 3 0 0 0 1 0 1 0 0 1 0 0 0 0 0 0 2 0 0 3 0 0 4 0 3 0 0 0 2 1 0 0 0 0 0 0\n",
      " 0 0 0 1 0 2 0 0 1 2 0 0 3 2 2 2 0 1 4 0 0 1 0 2 1 2 0 0 4 0 4 1 2 0 0 1 1\n",
      " 4 0 4 1 3 4 0 1 3 0 0 0 0 0 0 0 0 0 0 3 0 0 0 3 2 3 1 0 0 0 1 4 0 3 3 0 0\n",
      " 0 0 0 0 3 0 3 0 1 0 2 2 2 3 0 0 0 0 0 0 0 0 0 0 0 0 1 0 1 0 0 0 0 3 0 3 3\n",
      " 0 0 1 2 2]\n"
     ]
    }
   ],
   "source": [
    "#Creamos el vector de votos de importancia de variables\n",
    "votes = np.sum([lcv_mask, rf_mask, gb_mask,svr_mask], axis=0)\n",
    "print(votes)\n"
   ]
  },
  {
   "cell_type": "code",
   "execution_count": 43,
   "metadata": {},
   "outputs": [],
   "source": [
    "mask = votes >= 3\n",
    "mask = np.array(mask.tolist()+[True])"
   ]
  },
  {
   "cell_type": "code",
   "execution_count": 45,
   "metadata": {},
   "outputs": [
    {
     "data": {
      "text/html": [
       "<div>\n",
       "<style scoped>\n",
       "    .dataframe tbody tr th:only-of-type {\n",
       "        vertical-align: middle;\n",
       "    }\n",
       "\n",
       "    .dataframe tbody tr th {\n",
       "        vertical-align: top;\n",
       "    }\n",
       "\n",
       "    .dataframe thead th {\n",
       "        text-align: right;\n",
       "    }\n",
       "</style>\n",
       "<table border=\"1\" class=\"dataframe\">\n",
       "  <thead>\n",
       "    <tr style=\"text-align: right;\">\n",
       "      <th></th>\n",
       "      <th>PC_1</th>\n",
       "      <th>PC_2</th>\n",
       "      <th>PC_3</th>\n",
       "      <th>PC_4</th>\n",
       "      <th>PC_5</th>\n",
       "      <th>PC_6</th>\n",
       "      <th>PC_7</th>\n",
       "      <th>PC_8</th>\n",
       "      <th>PC_9</th>\n",
       "      <th>PC_10</th>\n",
       "      <th>...</th>\n",
       "      <th>KitchenQual_Ex</th>\n",
       "      <th>KitchenQual_Gd</th>\n",
       "      <th>KitchenQual_TA</th>\n",
       "      <th>Functional_Typ</th>\n",
       "      <th>GarageType_Attchd</th>\n",
       "      <th>GarageFinish_Unf</th>\n",
       "      <th>SaleType_New</th>\n",
       "      <th>SaleType_WD</th>\n",
       "      <th>SaleCondition_Abnorml</th>\n",
       "      <th>SalePrice</th>\n",
       "    </tr>\n",
       "  </thead>\n",
       "  <tbody>\n",
       "    <tr>\n",
       "      <th>0</th>\n",
       "      <td>1.384645</td>\n",
       "      <td>0.462851</td>\n",
       "      <td>-1.406892</td>\n",
       "      <td>-2.199623</td>\n",
       "      <td>0.621474</td>\n",
       "      <td>-1.160401</td>\n",
       "      <td>0.501163</td>\n",
       "      <td>-0.199081</td>\n",
       "      <td>0.074760</td>\n",
       "      <td>0.005071</td>\n",
       "      <td>...</td>\n",
       "      <td>0.0</td>\n",
       "      <td>1.0</td>\n",
       "      <td>0.0</td>\n",
       "      <td>1.0</td>\n",
       "      <td>1.0</td>\n",
       "      <td>0.0</td>\n",
       "      <td>0.0</td>\n",
       "      <td>1.0</td>\n",
       "      <td>0.0</td>\n",
       "      <td>208500</td>\n",
       "    </tr>\n",
       "    <tr>\n",
       "      <th>1</th>\n",
       "      <td>-0.451928</td>\n",
       "      <td>-0.909259</td>\n",
       "      <td>1.185096</td>\n",
       "      <td>0.139168</td>\n",
       "      <td>-1.854718</td>\n",
       "      <td>0.412218</td>\n",
       "      <td>-3.384122</td>\n",
       "      <td>0.132334</td>\n",
       "      <td>0.338899</td>\n",
       "      <td>0.668450</td>\n",
       "      <td>...</td>\n",
       "      <td>0.0</td>\n",
       "      <td>0.0</td>\n",
       "      <td>1.0</td>\n",
       "      <td>1.0</td>\n",
       "      <td>1.0</td>\n",
       "      <td>0.0</td>\n",
       "      <td>0.0</td>\n",
       "      <td>1.0</td>\n",
       "      <td>0.0</td>\n",
       "      <td>181500</td>\n",
       "    </tr>\n",
       "    <tr>\n",
       "      <th>2</th>\n",
       "      <td>1.520565</td>\n",
       "      <td>0.382892</td>\n",
       "      <td>-1.244287</td>\n",
       "      <td>-1.609073</td>\n",
       "      <td>0.086383</td>\n",
       "      <td>0.453161</td>\n",
       "      <td>0.281041</td>\n",
       "      <td>-0.063671</td>\n",
       "      <td>0.120210</td>\n",
       "      <td>-0.530879</td>\n",
       "      <td>...</td>\n",
       "      <td>0.0</td>\n",
       "      <td>1.0</td>\n",
       "      <td>0.0</td>\n",
       "      <td>1.0</td>\n",
       "      <td>1.0</td>\n",
       "      <td>0.0</td>\n",
       "      <td>0.0</td>\n",
       "      <td>1.0</td>\n",
       "      <td>0.0</td>\n",
       "      <td>223500</td>\n",
       "    </tr>\n",
       "    <tr>\n",
       "      <th>3</th>\n",
       "      <td>-0.432584</td>\n",
       "      <td>1.122079</td>\n",
       "      <td>0.817990</td>\n",
       "      <td>0.114317</td>\n",
       "      <td>1.482649</td>\n",
       "      <td>-0.973224</td>\n",
       "      <td>1.499589</td>\n",
       "      <td>1.721926</td>\n",
       "      <td>1.084006</td>\n",
       "      <td>-1.410302</td>\n",
       "      <td>...</td>\n",
       "      <td>0.0</td>\n",
       "      <td>1.0</td>\n",
       "      <td>0.0</td>\n",
       "      <td>1.0</td>\n",
       "      <td>0.0</td>\n",
       "      <td>1.0</td>\n",
       "      <td>0.0</td>\n",
       "      <td>1.0</td>\n",
       "      <td>1.0</td>\n",
       "      <td>140000</td>\n",
       "    </tr>\n",
       "    <tr>\n",
       "      <th>4</th>\n",
       "      <td>4.308443</td>\n",
       "      <td>1.268680</td>\n",
       "      <td>-0.214027</td>\n",
       "      <td>-1.459262</td>\n",
       "      <td>0.294188</td>\n",
       "      <td>0.722659</td>\n",
       "      <td>-0.582702</td>\n",
       "      <td>0.132037</td>\n",
       "      <td>-0.052863</td>\n",
       "      <td>-0.936708</td>\n",
       "      <td>...</td>\n",
       "      <td>0.0</td>\n",
       "      <td>1.0</td>\n",
       "      <td>0.0</td>\n",
       "      <td>1.0</td>\n",
       "      <td>1.0</td>\n",
       "      <td>0.0</td>\n",
       "      <td>0.0</td>\n",
       "      <td>1.0</td>\n",
       "      <td>0.0</td>\n",
       "      <td>250000</td>\n",
       "    </tr>\n",
       "  </tbody>\n",
       "</table>\n",
       "<p>5 rows × 67 columns</p>\n",
       "</div>"
      ],
      "text/plain": [
       "       PC_1      PC_2      PC_3      PC_4      PC_5      PC_6      PC_7  \\\n",
       "0  1.384645  0.462851 -1.406892 -2.199623  0.621474 -1.160401  0.501163   \n",
       "1 -0.451928 -0.909259  1.185096  0.139168 -1.854718  0.412218 -3.384122   \n",
       "2  1.520565  0.382892 -1.244287 -1.609073  0.086383  0.453161  0.281041   \n",
       "3 -0.432584  1.122079  0.817990  0.114317  1.482649 -0.973224  1.499589   \n",
       "4  4.308443  1.268680 -0.214027 -1.459262  0.294188  0.722659 -0.582702   \n",
       "\n",
       "       PC_8      PC_9     PC_10  ...  KitchenQual_Ex  KitchenQual_Gd  \\\n",
       "0 -0.199081  0.074760  0.005071  ...             0.0             1.0   \n",
       "1  0.132334  0.338899  0.668450  ...             0.0             0.0   \n",
       "2 -0.063671  0.120210 -0.530879  ...             0.0             1.0   \n",
       "3  1.721926  1.084006 -1.410302  ...             0.0             1.0   \n",
       "4  0.132037 -0.052863 -0.936708  ...             0.0             1.0   \n",
       "\n",
       "   KitchenQual_TA  Functional_Typ  GarageType_Attchd  GarageFinish_Unf  \\\n",
       "0             0.0             1.0                1.0               0.0   \n",
       "1             1.0             1.0                1.0               0.0   \n",
       "2             0.0             1.0                1.0               0.0   \n",
       "3             0.0             1.0                0.0               1.0   \n",
       "4             0.0             1.0                1.0               0.0   \n",
       "\n",
       "   SaleType_New  SaleType_WD  SaleCondition_Abnorml  SalePrice  \n",
       "0           0.0          1.0                    0.0     208500  \n",
       "1           0.0          1.0                    0.0     181500  \n",
       "2           0.0          1.0                    0.0     223500  \n",
       "3           0.0          1.0                    1.0     140000  \n",
       "4           0.0          1.0                    0.0     250000  \n",
       "\n",
       "[5 rows x 67 columns]"
      ]
     },
     "execution_count": 45,
     "metadata": {},
     "output_type": "execute_result"
    }
   ],
   "source": [
    "#Generamos nuestro conjunto de datos reducidos, pasamos de 265 variables, a 67\n",
    "reduced_df = df_c.loc[:,mask]\n",
    "reduced_df.head()"
   ]
  },
  {
   "cell_type": "markdown",
   "metadata": {},
   "source": [
    "## Proponer modelos"
   ]
  },
  {
   "cell_type": "code",
   "execution_count": 47,
   "metadata": {},
   "outputs": [
    {
     "name": "stderr",
     "output_type": "stream",
     "text": [
      "C:\\ProgramData\\Anaconda3\\lib\\site-packages\\pandas\\core\\frame.py:4117: SettingWithCopyWarning: \n",
      "A value is trying to be set on a copy of a slice from a DataFrame\n",
      "\n",
      "See the caveats in the documentation: http://pandas.pydata.org/pandas-docs/stable/user_guide/indexing.html#returning-a-view-versus-a-copy\n",
      "  errors=errors,\n"
     ]
    }
   ],
   "source": [
    "#Primero generamos conjuntos de entrenamiento y validación\n",
    "train, test = train_test_split(reduced_df, test_size=0.2, random_state=2718)\n",
    "train.reset_index(inplace=True)\n",
    "train.drop(columns=\"index\",inplace=True)\n",
    "xtrain, ytrain = train.drop(\"SalePrice\", axis=1), train[\"SalePrice\"]\n",
    "xtest, ytest = test.drop(\"SalePrice\", axis=1), test[\"SalePrice\"]"
   ]
  },
  {
   "cell_type": "markdown",
   "metadata": {},
   "source": [
    "#### Lasso"
   ]
  },
  {
   "cell_type": "code",
   "execution_count": 37,
   "metadata": {},
   "outputs": [],
   "source": [
    "#Optimizamos una regresión lasso\n",
    "lasso_grid = {\"alpha\":np.arange(0.01,1,.01)\n",
    "}\n",
    "lasso = Lasso()\n",
    "grid_cv = GridSearchCV(lasso,param_grid=lasso_grid,cv=5,\n",
    "                       scoring=\"r2\",n_jobs=-1)\n",
    "grid_search_lasso=grid_cv.fit(xtrain,ytrain)"
   ]
  },
  {
   "cell_type": "code",
   "execution_count": 38,
   "metadata": {},
   "outputs": [
    {
     "data": {
      "text/plain": [
       "0.7941342539817532"
      ]
     },
     "execution_count": 38,
     "metadata": {},
     "output_type": "execute_result"
    }
   ],
   "source": [
    "grid_search_lasso.best_score_"
   ]
  },
  {
   "cell_type": "code",
   "execution_count": 39,
   "metadata": {},
   "outputs": [
    {
     "data": {
      "text/plain": [
       "{'alpha': 0.01}"
      ]
     },
     "execution_count": 39,
     "metadata": {},
     "output_type": "execute_result"
    }
   ],
   "source": [
    "grid_search_lasso.best_params_"
   ]
  },
  {
   "cell_type": "code",
   "execution_count": 75,
   "metadata": {},
   "outputs": [],
   "source": [
    "#Guardamos el modelo obtenido\n",
    "#with open(\"./grid_lasso.pkl\",\"wb\") as fid:\n",
    " #   pickle.dump(grid_search_lasso,fid)"
   ]
  },
  {
   "cell_type": "markdown",
   "metadata": {},
   "source": [
    "#### Ridge"
   ]
  },
  {
   "cell_type": "code",
   "execution_count": 40,
   "metadata": {},
   "outputs": [],
   "source": [
    "#Optimizamos una regresión ridge\n",
    "ridge_grid = {\"alpha\":np.arange(0,100,1)\n",
    "}\n",
    "ridge = Ridge()\n",
    "grid_cv = GridSearchCV(ridge,param_grid=ridge_grid,cv=5,\n",
    "                       scoring=\"r2\",n_jobs=-1)\n",
    "grid_search_ridge=grid_cv.fit(xtrain,ytrain)"
   ]
  },
  {
   "cell_type": "code",
   "execution_count": 43,
   "metadata": {},
   "outputs": [
    {
     "data": {
      "text/plain": [
       "0.7941343198991917"
      ]
     },
     "execution_count": 43,
     "metadata": {},
     "output_type": "execute_result"
    }
   ],
   "source": [
    "grid_search_ridge.best_score_"
   ]
  },
  {
   "cell_type": "code",
   "execution_count": 44,
   "metadata": {},
   "outputs": [
    {
     "data": {
      "text/plain": [
       "{'alpha': 0}"
      ]
     },
     "execution_count": 44,
     "metadata": {},
     "output_type": "execute_result"
    }
   ],
   "source": [
    "grid_search_ridge.best_params_"
   ]
  },
  {
   "cell_type": "code",
   "execution_count": 74,
   "metadata": {},
   "outputs": [],
   "source": [
    "#Guardamos el modelo obtenido\n",
    "#with open(\"./grid_ridge.pkl\",\"wb\") as fid:\n",
    " #   pickle.dump(grid_search_ridge,fid)"
   ]
  },
  {
   "cell_type": "markdown",
   "metadata": {},
   "source": [
    "#### DecisionTreeRegressor"
   ]
  },
  {
   "cell_type": "code",
   "execution_count": 46,
   "metadata": {},
   "outputs": [],
   "source": [
    "#Optimizamos una arbol de decisión\n",
    "dt_grid = {\"min_samples_split\":np.arange(2,22,2),\n",
    "          \"min_samples_leaf\":np.arange(1,56,5),\n",
    "          \"max_features\":np.arange(2,xtrain.shape[1]+1,5)}\n",
    "dt = DecisionTreeRegressor()\n",
    "grid_cv = GridSearchCV(dt,param_grid=dt_grid,cv=5,\n",
    "                       scoring=\"r2\",n_jobs=-1)\n",
    "grid_search_dt =grid_cv.fit(xtrain,ytrain)"
   ]
  },
  {
   "cell_type": "code",
   "execution_count": 49,
   "metadata": {},
   "outputs": [
    {
     "data": {
      "text/plain": [
       "0.7899162335473559"
      ]
     },
     "execution_count": 49,
     "metadata": {},
     "output_type": "execute_result"
    }
   ],
   "source": [
    "grid_search_dt.best_score_"
   ]
  },
  {
   "cell_type": "code",
   "execution_count": 50,
   "metadata": {},
   "outputs": [
    {
     "data": {
      "text/plain": [
       "{'max_features': 47, 'min_samples_leaf': 11, 'min_samples_split': 8}"
      ]
     },
     "execution_count": 50,
     "metadata": {},
     "output_type": "execute_result"
    }
   ],
   "source": [
    "grid_search_dt.best_params_"
   ]
  },
  {
   "cell_type": "code",
   "execution_count": 76,
   "metadata": {},
   "outputs": [],
   "source": [
    "#Guardamos el modelo obtenido\n",
    "with open(\"./grid_dt.pkl\",\"wb\") as fid:\n",
    "    pickle.dump(grid_search_dt,fid)"
   ]
  },
  {
   "cell_type": "markdown",
   "metadata": {},
   "source": [
    "#### RandomForest"
   ]
  },
  {
   "cell_type": "code",
   "execution_count": 59,
   "metadata": {},
   "outputs": [],
   "source": [
    "#Optimizamos un bosque aleatorio\n",
    "rf = RandomForestRegressor(n_jobs=-1)\n",
    "grid_rf= {\"n_estimators\":[300,800,1200], \n",
    "          \"min_samples_split\":[2,10,15,20], \n",
    "          \"min_samples_leaf\":[2,10,15,20], \n",
    "          \"max_features\":np.arange(10,xtrain.shape[1],20), \n",
    "          \"max_depth\":np.arange(10,40,10)} \n",
    "grid_cv = GridSearchCV(estimator=rf,param_grid=grid_rf,cv=5,\n",
    "                       scoring=\"r2\",n_jobs=-1)\n",
    "grid_search_rf=grid_cv.fit(xtrain,ytrain)"
   ]
  },
  {
   "cell_type": "code",
   "execution_count": 64,
   "metadata": {},
   "outputs": [
    {
     "data": {
      "text/plain": [
       "0.8258452573140845"
      ]
     },
     "execution_count": 64,
     "metadata": {},
     "output_type": "execute_result"
    }
   ],
   "source": [
    "grid_search_rf.best_score_"
   ]
  },
  {
   "cell_type": "code",
   "execution_count": 65,
   "metadata": {},
   "outputs": [
    {
     "data": {
      "text/plain": [
       "{'max_depth': 20,\n",
       " 'max_features': 50,\n",
       " 'min_samples_leaf': 2,\n",
       " 'min_samples_split': 2,\n",
       " 'n_estimators': 800}"
      ]
     },
     "execution_count": 65,
     "metadata": {},
     "output_type": "execute_result"
    }
   ],
   "source": [
    "grid_search_rf.best_params_"
   ]
  },
  {
   "cell_type": "code",
   "execution_count": 66,
   "metadata": {},
   "outputs": [],
   "source": [
    "#Guardamos el modelo obtenido\n",
    "#with open(\"./grid_rf.pkl\",\"wb\") as fid:\n",
    " #   pickle.dump(grid_rf,fid)"
   ]
  },
  {
   "cell_type": "markdown",
   "metadata": {},
   "source": [
    "#### Bagging"
   ]
  },
  {
   "cell_type": "code",
   "execution_count": 123,
   "metadata": {},
   "outputs": [],
   "source": [
    "#Optimizamos un modelo bagging con base Lasso(.01)\n",
    "bagg = BaggingRegressor(base_estimator=Lasso(alpha=0.01),n_jobs=-1)\n",
    "grid_bagging= {\"n_estimators\":range(100,1100,100),\n",
    "          \"max_samples\":np.arange(.1,1.1,.1), \n",
    "          \"max_features\":np.arange(10,xtrain.shape[1],10)} \n",
    "grid_cv = GridSearchCV(estimator=bagg,param_grid=grid_bagging,cv=5,\n",
    "                       scoring=\"r2\",n_jobs=-1)\n",
    "grid_search_bagging=grid_cv.fit(xtrain,ytrain)"
   ]
  },
  {
   "cell_type": "code",
   "execution_count": 5,
   "metadata": {},
   "outputs": [
    {
     "data": {
      "text/plain": [
       "0.8222766027192232"
      ]
     },
     "execution_count": 5,
     "metadata": {},
     "output_type": "execute_result"
    }
   ],
   "source": [
    "grid_search_bagging.best_score_"
   ]
  },
  {
   "cell_type": "code",
   "execution_count": 6,
   "metadata": {},
   "outputs": [
    {
     "data": {
      "text/plain": [
       "{'max_features': 50, 'max_samples': 0.1, 'n_estimators': 200}"
      ]
     },
     "execution_count": 6,
     "metadata": {},
     "output_type": "execute_result"
    }
   ],
   "source": [
    "grid_search_bagging.best_params_"
   ]
  },
  {
   "cell_type": "code",
   "execution_count": 129,
   "metadata": {},
   "outputs": [],
   "source": [
    "#Guardamos el modelo\n",
    "#with open(\"./grid_bag.pkl\",\"wb\") as fid:\n",
    " #   pickle.dump(grid_search_bagging,fid)"
   ]
  },
  {
   "cell_type": "markdown",
   "metadata": {},
   "source": [
    "#### GradientBoosting"
   ]
  },
  {
   "cell_type": "code",
   "execution_count": 61,
   "metadata": {},
   "outputs": [],
   "source": [
    "#Optimizamos un gradiente boosting\n",
    "grid_gbm= {\"n_estimators\":[300,800,1200], \n",
    "           \"learning_rate\":[.01,.1,.5,1], \n",
    "          \"subsample\":[.7,.9], #\n",
    "          \"min_samples_split\":[2,10,15,20], \n",
    "          \"min_samples_leaf\":[2,10,15,20], #\n",
    "          \"max_features\":np.arange(10,xtrain.shape[1],20), \n",
    "          \"max_depth\":np.arange(10,40,10)} #\n",
    "gbm = GradientBoostingRegressor()\n",
    "grid_cv = GridSearchCV(estimator=gbm,param_grid=grid_gbm,cv=5,\n",
    "                       scoring=\"r2\",n_jobs=-1)\n",
    "grid_search_gbm=grid_cv.fit(xtrain,ytrain)"
   ]
  },
  {
   "cell_type": "code",
   "execution_count": 65,
   "metadata": {},
   "outputs": [
    {
     "data": {
      "text/plain": [
       "0.8449114819746416"
      ]
     },
     "execution_count": 65,
     "metadata": {},
     "output_type": "execute_result"
    }
   ],
   "source": [
    "grid_search_gbm.best_score_"
   ]
  },
  {
   "cell_type": "code",
   "execution_count": 66,
   "metadata": {},
   "outputs": [
    {
     "data": {
      "text/plain": [
       "{'learning_rate': 0.01,\n",
       " 'max_depth': 20,\n",
       " 'max_features': 30,\n",
       " 'min_samples_leaf': 10,\n",
       " 'min_samples_split': 15,\n",
       " 'n_estimators': 800,\n",
       " 'subsample': 0.7}"
      ]
     },
     "execution_count": 66,
     "metadata": {},
     "output_type": "execute_result"
    }
   ],
   "source": [
    "grid_search_gbm.best_params_"
   ]
  },
  {
   "cell_type": "code",
   "execution_count": 77,
   "metadata": {},
   "outputs": [],
   "source": [
    "#Guardamos el modelo\n",
    "#with open(\"./grid_gbm.pkl\",\"wb\") as fid:\n",
    " #   pickle.dump(grid_search_gbm,fid)"
   ]
  },
  {
   "cell_type": "markdown",
   "metadata": {},
   "source": [
    "Con los modelos optimizados, vamos a proponer tres modelos de votación, el primero, contendrá únicamente modelos simples, es decir, las regresiones lasso y ridge, así como el el arbol de decisión"
   ]
  },
  {
   "cell_type": "markdown",
   "metadata": {},
   "source": [
    "#### Modelo de votos simple"
   ]
  },
  {
   "cell_type": "code",
   "execution_count": 95,
   "metadata": {},
   "outputs": [
    {
     "data": {
      "text/plain": [
       "VotingRegressor(estimators=[('Lasso',\n",
       "                             Lasso(alpha=0.01, copy_X=True, fit_intercept=True,\n",
       "                                   max_iter=1000, normalize=False,\n",
       "                                   positive=False, precompute=False,\n",
       "                                   random_state=None, selection='cyclic',\n",
       "                                   tol=0.0001, warm_start=False)),\n",
       "                            ('Ridge',\n",
       "                             Ridge(alpha=0, copy_X=True, fit_intercept=True,\n",
       "                                   max_iter=None, normalize=False,\n",
       "                                   random_state=None, solver='auto',\n",
       "                                   tol=0.001)),\n",
       "                            ('Regression Tree',\n",
       "                             DecisionTreeRegressor(ccp_alpha=0.0,\n",
       "                                                   criterion='mse',\n",
       "                                                   max_depth=None,\n",
       "                                                   max_features=57,\n",
       "                                                   max_leaf_nodes=None,\n",
       "                                                   min_impurity_decrease=0.0,\n",
       "                                                   min_impurity_split=None,\n",
       "                                                   min_samples_leaf=16,\n",
       "                                                   min_samples_split=12,\n",
       "                                                   min_weight_fraction_leaf=0.0,\n",
       "                                                   presort='deprecated',\n",
       "                                                   random_state=None,\n",
       "                                                   splitter='best'))],\n",
       "                n_jobs=-1, weights=None)"
      ]
     },
     "execution_count": 95,
     "metadata": {},
     "output_type": "execute_result"
    }
   ],
   "source": [
    "classifiers1 = [(\"Lasso\",Lasso(alpha=.01)),\n",
    "              (\"Ridge\",Ridge(alpha=0) ),\n",
    "              (\"Regression Tree\",DecisionTreeRegressor(max_features=57,\n",
    "                                                      min_samples_leaf=16,\n",
    "                                                      min_samples_split=12))]\n",
    "vc1 = VotingRegressor(estimators=classifiers,n_jobs=-1)\n",
    "vc1.fit(xtrain,ytrain)\n"
   ]
  },
  {
   "cell_type": "code",
   "execution_count": 100,
   "metadata": {},
   "outputs": [
    {
     "name": "stdout",
     "output_type": "stream",
     "text": [
      "r^2 : 0.8942734008305064 \n",
      " MAE : 14,796.80921461558\n"
     ]
    }
   ],
   "source": [
    "y_pred_1 = vc.predict(xtest)\n",
    "print(f\"r^2 : {r2_score(ytest,y_pred_1)} \\n MAE : {mean_absolute_error(ytest,y_pred_1):,}\")"
   ]
  },
  {
   "cell_type": "markdown",
   "metadata": {},
   "source": [
    "Con este modelo de votación, nos equivocamos en predecir el verdadero valor de la casa, en promedio, en 14,797 unidades."
   ]
  },
  {
   "cell_type": "markdown",
   "metadata": {},
   "source": [
    "#### Modelo de votos complejo\n",
    "Es decir, este modelo de votos está compuesto por modelos más complejos, es decir, por el bosque aleatorio, el modelo de bagging, así como el gbm."
   ]
  },
  {
   "cell_type": "code",
   "execution_count": 146,
   "metadata": {},
   "outputs": [
    {
     "data": {
      "text/plain": [
       "VotingRegressor(estimators=[('RFR',\n",
       "                             RandomForestRegressor(bootstrap=True,\n",
       "                                                   ccp_alpha=0.0,\n",
       "                                                   criterion='mse',\n",
       "                                                   max_depth=20,\n",
       "                                                   max_features=50,\n",
       "                                                   max_leaf_nodes=None,\n",
       "                                                   max_samples=None,\n",
       "                                                   min_impurity_decrease=0.0,\n",
       "                                                   min_impurity_split=None,\n",
       "                                                   min_samples_leaf=2,\n",
       "                                                   min_samples_split=2,\n",
       "                                                   min_weight_fraction_leaf=0.0,\n",
       "                                                   n_estimators=800, n_jobs=-1,\n",
       "                                                   oob_score=False,\n",
       "                                                   random_state=None, ver...\n",
       "                                                       min_samples_split=15,\n",
       "                                                       min_weight_fraction_leaf=0.0,\n",
       "                                                       n_estimators=800,\n",
       "                                                       n_iter_no_change=None,\n",
       "                                                       presort='deprecated',\n",
       "                                                       random_state=None,\n",
       "                                                       subsample=0.7,\n",
       "                                                       tol=0.0001,\n",
       "                                                       validation_fraction=0.1,\n",
       "                                                       verbose=0,\n",
       "                                                       warm_start=False)),\n",
       "                            ('Ridge',\n",
       "                             Ridge(alpha=0, copy_X=True, fit_intercept=True,\n",
       "                                   max_iter=None, normalize=False,\n",
       "                                   random_state=None, solver='auto',\n",
       "                                   tol=0.001))],\n",
       "                n_jobs=-1, weights=None)"
      ]
     },
     "execution_count": 146,
     "metadata": {},
     "output_type": "execute_result"
    }
   ],
   "source": [
    "classifiers_2 = [(\"RFR\",RandomForestRegressor(max_depth = 20,\n",
    "                                             max_features = 50,\n",
    "                                             min_samples_leaf= 2,\n",
    "                                             min_samples_split= 2,\n",
    "                                             n_estimators= 800,\n",
    "                                             n_jobs=-1)),\n",
    "              (\"Bagging\",BaggingRegressor(base_estimator=Lasso(alpha = 0.01),\n",
    "                                         n_jobs=-1,\n",
    "                                         max_features=50,\n",
    "                                         max_samples=0.1,\n",
    "                                         n_estimators=200)),\n",
    "              (\"GBM\",GradientBoostingRegressor(learning_rate=0.01,\n",
    "                                              max_depth=20,\n",
    "                                              max_features=30,\n",
    "                                              min_samples_leaf=10,\n",
    "                                              min_samples_split=15,\n",
    "                                              n_estimators=800,\n",
    "                                              subsample=0.7)),\n",
    "                (\"Ridge\",Ridge(0))]\n",
    "vc_2 = VotingRegressor(estimators=classifiers_2,n_jobs=-1)\n",
    "vc_2.fit(xtrain,ytrain)\n"
   ]
  },
  {
   "cell_type": "code",
   "execution_count": 147,
   "metadata": {},
   "outputs": [
    {
     "name": "stdout",
     "output_type": "stream",
     "text": [
      "r^2 : 0.9111499940074194 \n",
      " MAE : 13,449.4847248157\n"
     ]
    }
   ],
   "source": [
    "y_pred_2 = vc_2.predict(xtest)\n",
    "print(f\"r^2 : {r2_score(ytest,y_pred_2)} \\n MAE : {mean_absolute_error(ytest,y_pred_2):,}\")"
   ]
  },
  {
   "cell_type": "markdown",
   "metadata": {},
   "source": [
    "Con este modelo, nos equivocamos en el valor de la casa, en promedio, por 13,449 unidades, una mejora de poco más de 1,300 unidades con respecto al primer modelo de votos."
   ]
  },
  {
   "cell_type": "markdown",
   "metadata": {},
   "source": [
    "#### Modelo de votoss medio,\n",
    "En esencia es el primer modelo, pero añadiendo un modelo complejo adicional, en este caso, el gbm"
   ]
  },
  {
   "cell_type": "code",
   "execution_count": 138,
   "metadata": {},
   "outputs": [],
   "source": [
    "classifiers_3 = [(\"Lasso\",Lasso(alpha=.01)),\n",
    "                 (\"Ridge\",Ridge(0)),\n",
    "              (\"Regression Tree\",DecisionTreeRegressor(max_features=57,\n",
    "                                                      min_samples_leaf=16,\n",
    "                                                      min_samples_split=12)),\n",
    "              (\"GBM\",GradientBoostingRegressor(learning_rate=0.01,\n",
    "                                              max_depth=20,\n",
    "                                              max_features=30,\n",
    "                                              min_samples_leaf=10,\n",
    "                                              min_samples_split=15,\n",
    "                                              n_estimators=800,\n",
    "                                              subsample=0.7))]\n",
    "vc_3 = VotingRegressor(estimators=classifiers_2,n_jobs=-1)\n",
    "vc_3.fit(xtrain,ytrain)\n",
    "y_pred_3 = vc_3.predict(xtest)\n"
   ]
  },
  {
   "cell_type": "code",
   "execution_count": 139,
   "metadata": {},
   "outputs": [
    {
     "name": "stdout",
     "output_type": "stream",
     "text": [
      "r^2 : 0.9025339923629111 \n",
      " MAE : 14,042.195722588785\n"
     ]
    }
   ],
   "source": [
    "y_pred_3 = vc_3.predict(xtest)\n",
    "print(f\"r^2 : {r2_score(ytest,y_pred_3)} \\n MAE : {mean_absolute_error(ytest,y_pred_3):,}\")"
   ]
  },
  {
   "cell_type": "markdown",
   "metadata": {},
   "source": [
    "Con este modelo, obtuvimos un punto intermedio entre el **modelo de votos simple y el complejo**, este modelo podría ser una buena opción, pues únicamente es computacionalmente costosa la optimización del modelo gbm, en comparación de los otros dos modelos complejos que se necesitaran optimizar para el **modelo de votos complejo**."
   ]
  },
  {
   "cell_type": "code",
   "execution_count": 148,
   "metadata": {},
   "outputs": [],
   "source": [
    "#Guardamos el modelo ganador\n",
    "#with open(\"./VotingRegressor_F.pkl\",\"wb\") as fid:\n",
    " #   pickle.dump(vc_2,fid)"
   ]
  },
  {
   "cell_type": "code",
   "execution_count": null,
   "metadata": {},
   "outputs": [],
   "source": [
    "##Modelo ganador\n",
    "##Voting Regressor con GBM, Bagging, RFR, Ridge,\n",
    "##logrando una r^2 de 0.9111 y un MAE de 13,449"
   ]
  }
 ],
 "metadata": {
  "kernelspec": {
   "display_name": "Python 3",
   "language": "python",
   "name": "python3"
  },
  "language_info": {
   "codemirror_mode": {
    "name": "ipython",
    "version": 3
   },
   "file_extension": ".py",
   "mimetype": "text/x-python",
   "name": "python",
   "nbconvert_exporter": "python",
   "pygments_lexer": "ipython3",
   "version": "3.7.3"
  }
 },
 "nbformat": 4,
 "nbformat_minor": 2
}
