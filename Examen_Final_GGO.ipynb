{
 "cells": [
  {
   "cell_type": "code",
   "execution_count": 1,
   "metadata": {},
   "outputs": [],
   "source": [
    "import pandas as pd\n",
    "import numpy as np\n",
    "import matplotlib.pyplot as plt\n",
    "import seaborn as sn\n",
    "from numpy.random import randn, seed\n",
    "from scipy.optimize import minimize\n"
   ]
  },
  {
   "cell_type": "markdown",
   "metadata": {},
   "source": [
    "El objetivo del examen final es construir un portafolio riesgoso con 7 acciones e invertir en un\n",
    "portafolio\n",
    "completo que maximice tu utilidad\n",
    ".\n",
    "Considera una tasa libre de riesgo de 5.0%\n",
    ",\n",
    "un premio\n",
    "por riesgo de mercado de 10.0%\n",
    "y un nivel de aversión al riesgo A=3"
   ]
  },
  {
   "cell_type": "code",
   "execution_count": 2,
   "metadata": {},
   "outputs": [
    {
     "data": {
      "text/html": [
       "<div>\n",
       "<style scoped>\n",
       "    .dataframe tbody tr th:only-of-type {\n",
       "        vertical-align: middle;\n",
       "    }\n",
       "\n",
       "    .dataframe tbody tr th {\n",
       "        vertical-align: top;\n",
       "    }\n",
       "\n",
       "    .dataframe thead th {\n",
       "        text-align: right;\n",
       "    }\n",
       "</style>\n",
       "<table border=\"1\" class=\"dataframe\">\n",
       "  <thead>\n",
       "    <tr style=\"text-align: right;\">\n",
       "      <th></th>\n",
       "      <th>KIMBERA MF Equity</th>\n",
       "      <th>GAPB MF Equity</th>\n",
       "      <th>CEMEXCPO MF Equity</th>\n",
       "      <th>ASURB MF Equity</th>\n",
       "      <th>GFNORTEO MF Equity</th>\n",
       "      <th>KOFUBL MF Equity</th>\n",
       "      <th>AC* MF Equity</th>\n",
       "      <th>LABB MF Equity</th>\n",
       "      <th>FEMSAUBD MF Equity</th>\n",
       "      <th>OMAB MF Equity</th>\n",
       "      <th>...</th>\n",
       "      <th>MEGACPO MF Equity</th>\n",
       "      <th>GCC* MF Equity</th>\n",
       "      <th>BIMBOA MF Equity</th>\n",
       "      <th>GMEXICOB MF Equity</th>\n",
       "      <th>GCARSOA1 MF Equity</th>\n",
       "      <th>TLEVICPO MF Equity</th>\n",
       "      <th>ALFAA MF Equity</th>\n",
       "      <th>BSMXB MF Equity</th>\n",
       "      <th>PINFRA* MF Equity</th>\n",
       "      <th>MEXBOL INDEX</th>\n",
       "    </tr>\n",
       "    <tr>\n",
       "      <th>DATE</th>\n",
       "      <th></th>\n",
       "      <th></th>\n",
       "      <th></th>\n",
       "      <th></th>\n",
       "      <th></th>\n",
       "      <th></th>\n",
       "      <th></th>\n",
       "      <th></th>\n",
       "      <th></th>\n",
       "      <th></th>\n",
       "      <th></th>\n",
       "      <th></th>\n",
       "      <th></th>\n",
       "      <th></th>\n",
       "      <th></th>\n",
       "      <th></th>\n",
       "      <th></th>\n",
       "      <th></th>\n",
       "      <th></th>\n",
       "      <th></th>\n",
       "      <th></th>\n",
       "    </tr>\n",
       "  </thead>\n",
       "  <tbody>\n",
       "    <tr>\n",
       "      <th>2016-01-01</th>\n",
       "      <td>40.37</td>\n",
       "      <td>152.05</td>\n",
       "      <td>8.72</td>\n",
       "      <td>243.89</td>\n",
       "      <td>94.99</td>\n",
       "      <td>123.90</td>\n",
       "      <td>104.68</td>\n",
       "      <td>13.85</td>\n",
       "      <td>161.63</td>\n",
       "      <td>83.61</td>\n",
       "      <td>...</td>\n",
       "      <td>64.19</td>\n",
       "      <td>44.81</td>\n",
       "      <td>45.95</td>\n",
       "      <td>36.79</td>\n",
       "      <td>70.98</td>\n",
       "      <td>94.34</td>\n",
       "      <td>34.10</td>\n",
       "      <td>30.25</td>\n",
       "      <td>202.73</td>\n",
       "      <td>42977.50</td>\n",
       "    </tr>\n",
       "    <tr>\n",
       "      <th>2016-01-04</th>\n",
       "      <td>39.16</td>\n",
       "      <td>148.57</td>\n",
       "      <td>8.43</td>\n",
       "      <td>238.29</td>\n",
       "      <td>91.79</td>\n",
       "      <td>120.29</td>\n",
       "      <td>102.09</td>\n",
       "      <td>14.41</td>\n",
       "      <td>157.62</td>\n",
       "      <td>81.77</td>\n",
       "      <td>...</td>\n",
       "      <td>64.45</td>\n",
       "      <td>43.51</td>\n",
       "      <td>45.02</td>\n",
       "      <td>35.71</td>\n",
       "      <td>69.83</td>\n",
       "      <td>92.62</td>\n",
       "      <td>33.74</td>\n",
       "      <td>29.46</td>\n",
       "      <td>202.93</td>\n",
       "      <td>42113.70</td>\n",
       "    </tr>\n",
       "    <tr>\n",
       "      <th>2016-01-05</th>\n",
       "      <td>38.89</td>\n",
       "      <td>147.93</td>\n",
       "      <td>8.31</td>\n",
       "      <td>233.03</td>\n",
       "      <td>91.72</td>\n",
       "      <td>118.82</td>\n",
       "      <td>101.12</td>\n",
       "      <td>13.77</td>\n",
       "      <td>157.80</td>\n",
       "      <td>81.58</td>\n",
       "      <td>...</td>\n",
       "      <td>63.16</td>\n",
       "      <td>43.51</td>\n",
       "      <td>45.77</td>\n",
       "      <td>36.45</td>\n",
       "      <td>70.70</td>\n",
       "      <td>91.89</td>\n",
       "      <td>33.99</td>\n",
       "      <td>29.72</td>\n",
       "      <td>203.56</td>\n",
       "      <td>42041.68</td>\n",
       "    </tr>\n",
       "    <tr>\n",
       "      <th>2016-01-06</th>\n",
       "      <td>39.13</td>\n",
       "      <td>146.99</td>\n",
       "      <td>8.29</td>\n",
       "      <td>231.97</td>\n",
       "      <td>91.63</td>\n",
       "      <td>120.32</td>\n",
       "      <td>102.50</td>\n",
       "      <td>13.65</td>\n",
       "      <td>156.37</td>\n",
       "      <td>82.03</td>\n",
       "      <td>...</td>\n",
       "      <td>63.27</td>\n",
       "      <td>43.51</td>\n",
       "      <td>45.97</td>\n",
       "      <td>35.57</td>\n",
       "      <td>70.47</td>\n",
       "      <td>90.41</td>\n",
       "      <td>33.65</td>\n",
       "      <td>29.67</td>\n",
       "      <td>199.80</td>\n",
       "      <td>41691.19</td>\n",
       "    </tr>\n",
       "    <tr>\n",
       "      <th>2016-01-07</th>\n",
       "      <td>39.16</td>\n",
       "      <td>141.32</td>\n",
       "      <td>7.64</td>\n",
       "      <td>230.71</td>\n",
       "      <td>89.54</td>\n",
       "      <td>120.20</td>\n",
       "      <td>101.16</td>\n",
       "      <td>13.25</td>\n",
       "      <td>155.14</td>\n",
       "      <td>80.94</td>\n",
       "      <td>...</td>\n",
       "      <td>62.78</td>\n",
       "      <td>42.76</td>\n",
       "      <td>46.18</td>\n",
       "      <td>35.01</td>\n",
       "      <td>68.15</td>\n",
       "      <td>90.23</td>\n",
       "      <td>31.46</td>\n",
       "      <td>28.50</td>\n",
       "      <td>196.75</td>\n",
       "      <td>40661.57</td>\n",
       "    </tr>\n",
       "  </tbody>\n",
       "</table>\n",
       "<p>5 rows × 36 columns</p>\n",
       "</div>"
      ],
      "text/plain": [
       "            KIMBERA MF Equity  GAPB MF Equity  CEMEXCPO MF Equity  \\\n",
       "DATE                                                                \n",
       "2016-01-01              40.37          152.05                8.72   \n",
       "2016-01-04              39.16          148.57                8.43   \n",
       "2016-01-05              38.89          147.93                8.31   \n",
       "2016-01-06              39.13          146.99                8.29   \n",
       "2016-01-07              39.16          141.32                7.64   \n",
       "\n",
       "            ASURB MF Equity  GFNORTEO MF Equity  KOFUBL MF Equity  \\\n",
       "DATE                                                                \n",
       "2016-01-01           243.89               94.99            123.90   \n",
       "2016-01-04           238.29               91.79            120.29   \n",
       "2016-01-05           233.03               91.72            118.82   \n",
       "2016-01-06           231.97               91.63            120.32   \n",
       "2016-01-07           230.71               89.54            120.20   \n",
       "\n",
       "            AC* MF Equity  LABB MF Equity  FEMSAUBD MF Equity  OMAB MF Equity  \\\n",
       "DATE                                                                            \n",
       "2016-01-01         104.68           13.85              161.63           83.61   \n",
       "2016-01-04         102.09           14.41              157.62           81.77   \n",
       "2016-01-05         101.12           13.77              157.80           81.58   \n",
       "2016-01-06         102.50           13.65              156.37           82.03   \n",
       "2016-01-07         101.16           13.25              155.14           80.94   \n",
       "\n",
       "            ...  MEGACPO MF Equity  GCC* MF Equity  BIMBOA MF Equity  \\\n",
       "DATE        ...                                                        \n",
       "2016-01-01  ...              64.19           44.81             45.95   \n",
       "2016-01-04  ...              64.45           43.51             45.02   \n",
       "2016-01-05  ...              63.16           43.51             45.77   \n",
       "2016-01-06  ...              63.27           43.51             45.97   \n",
       "2016-01-07  ...              62.78           42.76             46.18   \n",
       "\n",
       "            GMEXICOB MF Equity  GCARSOA1 MF Equity  TLEVICPO MF Equity  \\\n",
       "DATE                                                                     \n",
       "2016-01-01               36.79               70.98               94.34   \n",
       "2016-01-04               35.71               69.83               92.62   \n",
       "2016-01-05               36.45               70.70               91.89   \n",
       "2016-01-06               35.57               70.47               90.41   \n",
       "2016-01-07               35.01               68.15               90.23   \n",
       "\n",
       "            ALFAA MF Equity  BSMXB MF Equity  PINFRA* MF Equity  MEXBOL INDEX  \n",
       "DATE                                                                           \n",
       "2016-01-01            34.10            30.25             202.73      42977.50  \n",
       "2016-01-04            33.74            29.46             202.93      42113.70  \n",
       "2016-01-05            33.99            29.72             203.56      42041.68  \n",
       "2016-01-06            33.65            29.67             199.80      41691.19  \n",
       "2016-01-07            31.46            28.50             196.75      40661.57  \n",
       "\n",
       "[5 rows x 36 columns]"
      ]
     },
     "execution_count": 2,
     "metadata": {},
     "output_type": "execute_result"
    }
   ],
   "source": [
    "data = pd.read_excel(\"./Prueba.xlsx\", index_col=0)\n",
    "data.head()"
   ]
  },
  {
   "cell_type": "code",
   "execution_count": 3,
   "metadata": {},
   "outputs": [],
   "source": [
    "data.columns = [col.replace(\"MF Equity\", \"\").strip() for col in data.columns]\n"
   ]
  },
  {
   "cell_type": "code",
   "execution_count": 4,
   "metadata": {},
   "outputs": [
    {
     "data": {
      "text/plain": [
       "Index(['KIMBERA', 'GAPB', 'CEMEXCPO', 'ASURB', 'GFNORTEO', 'KOFUBL', 'AC*',\n",
       "       'LABB', 'FEMSAUBD', 'OMAB', 'GFINBURO', 'AMXL', 'ALSEA*', 'ORBIA*',\n",
       "       'PE&OLES*', 'GRUMAB', 'RA', 'WALMEX*', 'BOLSAA', 'LIVEPOLC', 'GENTERA*',\n",
       "       'IENOVA*', 'CUERVO*', 'ELEKTRA*', 'BBAJIOO', 'ALPEKA', 'MEGACPO',\n",
       "       'GCC*', 'BIMBOA', 'GMEXICOB', 'GCARSOA1', 'TLEVICPO', 'ALFAA', 'BSMXB',\n",
       "       'PINFRA*', 'MEXBOL INDEX'],\n",
       "      dtype='object')"
      ]
     },
     "execution_count": 4,
     "metadata": {},
     "output_type": "execute_result"
    }
   ],
   "source": [
    "data.columns"
   ]
  },
  {
   "cell_type": "code",
   "execution_count": 5,
   "metadata": {},
   "outputs": [],
   "source": [
    "acciones = [\"ASURB\",\"GFNORTEO\", \"PE&OLES*\", \"WALMEX*\", \"IENOVA*\",\n",
    "           \"ELEKTRA*\", \"PINFRA*\"]\n",
    "indice = [\"MEXBOL INDEX\"]\n",
    "rend = data[acciones+indice]\n",
    "rend = rend.pct_change().dropna()\n"
   ]
  },
  {
   "cell_type": "code",
   "execution_count": 6,
   "metadata": {},
   "outputs": [
    {
     "data": {
      "text/plain": [
       "Index(['ASURB', 'GFNORTEO', 'PE&OLES*', 'WALMEX*', 'IENOVA*', 'ELEKTRA*',\n",
       "       'PINFRA*', 'MEXBOL INDEX'],\n",
       "      dtype='object')"
      ]
     },
     "execution_count": 6,
     "metadata": {},
     "output_type": "execute_result"
    }
   ],
   "source": [
    "rend.columns"
   ]
  },
  {
   "cell_type": "code",
   "execution_count": 7,
   "metadata": {},
   "outputs": [
    {
     "data": {
      "text/html": [
       "<div>\n",
       "<style scoped>\n",
       "    .dataframe tbody tr th:only-of-type {\n",
       "        vertical-align: middle;\n",
       "    }\n",
       "\n",
       "    .dataframe tbody tr th {\n",
       "        vertical-align: top;\n",
       "    }\n",
       "\n",
       "    .dataframe thead th {\n",
       "        text-align: right;\n",
       "    }\n",
       "</style>\n",
       "<table border=\"1\" class=\"dataframe\">\n",
       "  <thead>\n",
       "    <tr style=\"text-align: right;\">\n",
       "      <th></th>\n",
       "      <th>ASURB</th>\n",
       "      <th>GFNORTEO</th>\n",
       "      <th>PE&amp;OLES*</th>\n",
       "      <th>WALMEX*</th>\n",
       "      <th>IENOVA*</th>\n",
       "      <th>ELEKTRA*</th>\n",
       "      <th>PINFRA*</th>\n",
       "      <th>MEXBOL INDEX</th>\n",
       "    </tr>\n",
       "    <tr>\n",
       "      <th>DATE</th>\n",
       "      <th></th>\n",
       "      <th></th>\n",
       "      <th></th>\n",
       "      <th></th>\n",
       "      <th></th>\n",
       "      <th></th>\n",
       "      <th></th>\n",
       "      <th></th>\n",
       "    </tr>\n",
       "  </thead>\n",
       "  <tbody>\n",
       "    <tr>\n",
       "      <th>2016-01-04</th>\n",
       "      <td>-0.022961</td>\n",
       "      <td>-0.033688</td>\n",
       "      <td>-0.007448</td>\n",
       "      <td>-0.014946</td>\n",
       "      <td>0.008847</td>\n",
       "      <td>-0.028018</td>\n",
       "      <td>0.000987</td>\n",
       "      <td>-0.020099</td>\n",
       "    </tr>\n",
       "    <tr>\n",
       "      <th>2016-01-05</th>\n",
       "      <td>-0.022074</td>\n",
       "      <td>-0.000763</td>\n",
       "      <td>0.003127</td>\n",
       "      <td>-0.004202</td>\n",
       "      <td>-0.020554</td>\n",
       "      <td>-0.030183</td>\n",
       "      <td>0.003105</td>\n",
       "      <td>-0.001710</td>\n",
       "    </tr>\n",
       "    <tr>\n",
       "      <th>2016-01-06</th>\n",
       "      <td>-0.004549</td>\n",
       "      <td>-0.000981</td>\n",
       "      <td>-0.021366</td>\n",
       "      <td>-0.006564</td>\n",
       "      <td>-0.007555</td>\n",
       "      <td>-0.040974</td>\n",
       "      <td>-0.018471</td>\n",
       "      <td>-0.008337</td>\n",
       "    </tr>\n",
       "    <tr>\n",
       "      <th>2016-01-07</th>\n",
       "      <td>-0.005432</td>\n",
       "      <td>-0.022809</td>\n",
       "      <td>0.001506</td>\n",
       "      <td>-0.056395</td>\n",
       "      <td>0.019312</td>\n",
       "      <td>-0.024835</td>\n",
       "      <td>-0.015265</td>\n",
       "      <td>-0.024696</td>\n",
       "    </tr>\n",
       "    <tr>\n",
       "      <th>2016-01-08</th>\n",
       "      <td>-0.004118</td>\n",
       "      <td>-0.007706</td>\n",
       "      <td>-0.003180</td>\n",
       "      <td>0.026007</td>\n",
       "      <td>-0.017148</td>\n",
       "      <td>-0.013617</td>\n",
       "      <td>-0.019416</td>\n",
       "      <td>-0.009744</td>\n",
       "    </tr>\n",
       "  </tbody>\n",
       "</table>\n",
       "</div>"
      ],
      "text/plain": [
       "               ASURB  GFNORTEO  PE&OLES*   WALMEX*   IENOVA*  ELEKTRA*  \\\n",
       "DATE                                                                     \n",
       "2016-01-04 -0.022961 -0.033688 -0.007448 -0.014946  0.008847 -0.028018   \n",
       "2016-01-05 -0.022074 -0.000763  0.003127 -0.004202 -0.020554 -0.030183   \n",
       "2016-01-06 -0.004549 -0.000981 -0.021366 -0.006564 -0.007555 -0.040974   \n",
       "2016-01-07 -0.005432 -0.022809  0.001506 -0.056395  0.019312 -0.024835   \n",
       "2016-01-08 -0.004118 -0.007706 -0.003180  0.026007 -0.017148 -0.013617   \n",
       "\n",
       "             PINFRA*  MEXBOL INDEX  \n",
       "DATE                                \n",
       "2016-01-04  0.000987     -0.020099  \n",
       "2016-01-05  0.003105     -0.001710  \n",
       "2016-01-06 -0.018471     -0.008337  \n",
       "2016-01-07 -0.015265     -0.024696  \n",
       "2016-01-08 -0.019416     -0.009744  "
      ]
     },
     "execution_count": 7,
     "metadata": {},
     "output_type": "execute_result"
    }
   ],
   "source": [
    "rend.head()"
   ]
  },
  {
   "cell_type": "code",
   "execution_count": 8,
   "metadata": {},
   "outputs": [
    {
     "data": {
      "text/html": [
       "<div>\n",
       "<style scoped>\n",
       "    .dataframe tbody tr th:only-of-type {\n",
       "        vertical-align: middle;\n",
       "    }\n",
       "\n",
       "    .dataframe tbody tr th {\n",
       "        vertical-align: top;\n",
       "    }\n",
       "\n",
       "    .dataframe thead th {\n",
       "        text-align: right;\n",
       "    }\n",
       "</style>\n",
       "<table border=\"1\" class=\"dataframe\">\n",
       "  <thead>\n",
       "    <tr style=\"text-align: right;\">\n",
       "      <th></th>\n",
       "      <th>ASURB</th>\n",
       "      <th>GFNORTEO</th>\n",
       "      <th>PE&amp;OLES*</th>\n",
       "      <th>WALMEX*</th>\n",
       "      <th>IENOVA*</th>\n",
       "      <th>ELEKTRA*</th>\n",
       "      <th>PINFRA*</th>\n",
       "      <th>MEXBOL INDEX</th>\n",
       "    </tr>\n",
       "    <tr>\n",
       "      <th>DATE</th>\n",
       "      <th></th>\n",
       "      <th></th>\n",
       "      <th></th>\n",
       "      <th></th>\n",
       "      <th></th>\n",
       "      <th></th>\n",
       "      <th></th>\n",
       "      <th></th>\n",
       "    </tr>\n",
       "  </thead>\n",
       "  <tbody>\n",
       "    <tr>\n",
       "      <th>2019-12-30</th>\n",
       "      <td>-0.005868</td>\n",
       "      <td>-0.035990</td>\n",
       "      <td>0.004562</td>\n",
       "      <td>-0.026240</td>\n",
       "      <td>-0.008777</td>\n",
       "      <td>0.003914</td>\n",
       "      <td>-0.017965</td>\n",
       "      <td>-0.013647</td>\n",
       "    </tr>\n",
       "    <tr>\n",
       "      <th>2019-12-31</th>\n",
       "      <td>-0.000056</td>\n",
       "      <td>0.006190</td>\n",
       "      <td>-0.010780</td>\n",
       "      <td>-0.000554</td>\n",
       "      <td>0.022654</td>\n",
       "      <td>-0.001438</td>\n",
       "      <td>0.000155</td>\n",
       "      <td>-0.002668</td>\n",
       "    </tr>\n",
       "    <tr>\n",
       "      <th>2020-01-01</th>\n",
       "      <td>0.000000</td>\n",
       "      <td>0.000000</td>\n",
       "      <td>0.000000</td>\n",
       "      <td>0.000000</td>\n",
       "      <td>0.000000</td>\n",
       "      <td>0.000000</td>\n",
       "      <td>0.000000</td>\n",
       "      <td>0.000000</td>\n",
       "    </tr>\n",
       "    <tr>\n",
       "      <th>2020-01-02</th>\n",
       "      <td>0.018190</td>\n",
       "      <td>0.037956</td>\n",
       "      <td>0.042480</td>\n",
       "      <td>0.017913</td>\n",
       "      <td>-0.013156</td>\n",
       "      <td>-0.000627</td>\n",
       "      <td>0.016947</td>\n",
       "      <td>0.020583</td>\n",
       "    </tr>\n",
       "    <tr>\n",
       "      <th>2020-01-03</th>\n",
       "      <td>0.004910</td>\n",
       "      <td>0.002736</td>\n",
       "      <td>0.020423</td>\n",
       "      <td>-0.007801</td>\n",
       "      <td>0.016636</td>\n",
       "      <td>-0.002681</td>\n",
       "      <td>0.017884</td>\n",
       "      <td>0.004222</td>\n",
       "    </tr>\n",
       "  </tbody>\n",
       "</table>\n",
       "</div>"
      ],
      "text/plain": [
       "               ASURB  GFNORTEO  PE&OLES*   WALMEX*   IENOVA*  ELEKTRA*  \\\n",
       "DATE                                                                     \n",
       "2019-12-30 -0.005868 -0.035990  0.004562 -0.026240 -0.008777  0.003914   \n",
       "2019-12-31 -0.000056  0.006190 -0.010780 -0.000554  0.022654 -0.001438   \n",
       "2020-01-01  0.000000  0.000000  0.000000  0.000000  0.000000  0.000000   \n",
       "2020-01-02  0.018190  0.037956  0.042480  0.017913 -0.013156 -0.000627   \n",
       "2020-01-03  0.004910  0.002736  0.020423 -0.007801  0.016636 -0.002681   \n",
       "\n",
       "             PINFRA*  MEXBOL INDEX  \n",
       "DATE                                \n",
       "2019-12-30 -0.017965     -0.013647  \n",
       "2019-12-31  0.000155     -0.002668  \n",
       "2020-01-01  0.000000      0.000000  \n",
       "2020-01-02  0.016947      0.020583  \n",
       "2020-01-03  0.017884      0.004222  "
      ]
     },
     "execution_count": 8,
     "metadata": {},
     "output_type": "execute_result"
    }
   ],
   "source": [
    "rend.tail()"
   ]
  },
  {
   "cell_type": "code",
   "execution_count": 9,
   "metadata": {},
   "outputs": [],
   "source": [
    "rend_diario_rpc = rend[acciones].mean() \n",
    "rend_anual_rpc = rend_diario_rpc*252"
   ]
  },
  {
   "cell_type": "markdown",
   "metadata": {},
   "source": [
    "#### Rendimiento esperado diario y anual bajo el *modelo de rendimiento promedio constante*"
   ]
  },
  {
   "cell_type": "code",
   "execution_count": 10,
   "metadata": {},
   "outputs": [
    {
     "data": {
      "text/plain": [
       "ASURB       0.000490\n",
       "GFNORTEO    0.000313\n",
       "PE&OLES*    0.000441\n",
       "WALMEX*     0.000327\n",
       "IENOVA*     0.000313\n",
       "ELEKTRA*    0.001455\n",
       "PINFRA*     0.000081\n",
       "dtype: float64"
      ]
     },
     "execution_count": 10,
     "metadata": {},
     "output_type": "execute_result"
    }
   ],
   "source": [
    "rend_diario_rpc"
   ]
  },
  {
   "cell_type": "code",
   "execution_count": 11,
   "metadata": {},
   "outputs": [
    {
     "data": {
      "text/plain": [
       "ASURB       0.123539\n",
       "GFNORTEO    0.078811\n",
       "PE&OLES*    0.111053\n",
       "WALMEX*     0.082426\n",
       "IENOVA*     0.078997\n",
       "ELEKTRA*    0.366774\n",
       "PINFRA*     0.020384\n",
       "dtype: float64"
      ]
     },
     "execution_count": 11,
     "metadata": {},
     "output_type": "execute_result"
    }
   ],
   "source": [
    "rend_anual_rpc"
   ]
  },
  {
   "cell_type": "markdown",
   "metadata": {},
   "source": [
    "### Modelo CAPM\n",
    "**Calculo de Betas**"
   ]
  },
  {
   "cell_type": "code",
   "execution_count": 12,
   "metadata": {},
   "outputs": [],
   "source": [
    "from sklearn.linear_model import LinearRegression\n"
   ]
  },
  {
   "cell_type": "code",
   "execution_count": 13,
   "metadata": {},
   "outputs": [
    {
     "data": {
      "text/plain": [
       "ASURB       0.916168\n",
       "GFNORTEO    1.522509\n",
       "PE&OLES*    1.028072\n",
       "WALMEX*     0.885452\n",
       "IENOVA*     0.724665\n",
       "ELEKTRA*    0.376368\n",
       "PINFRA*     0.726224\n",
       "dtype: float64"
      ]
     },
     "execution_count": 13,
     "metadata": {},
     "output_type": "execute_result"
    }
   ],
   "source": [
    "betas = []\n",
    "for accion in acciones:\n",
    "    lr = LinearRegression()\n",
    "    lr.fit(rend[indice], rend[accion])  \n",
    "    betas.append(lr.coef_[0])\n",
    "betas = pd.Series(betas,index=acciones)\n",
    "betas"
   ]
  },
  {
   "cell_type": "markdown",
   "metadata": {},
   "source": [
    "#### Rendimiento esperado diario y anual bajo el *modelo CAPM*"
   ]
  },
  {
   "cell_type": "code",
   "execution_count": 14,
   "metadata": {},
   "outputs": [
    {
     "data": {
      "text/plain": [
       "ASURB       0.141617\n",
       "GFNORTEO    0.202251\n",
       "PE&OLES*    0.152807\n",
       "WALMEX*     0.138545\n",
       "IENOVA*     0.122467\n",
       "ELEKTRA*    0.087637\n",
       "PINFRA*     0.122622\n",
       "dtype: float64"
      ]
     },
     "execution_count": 14,
     "metadata": {},
     "output_type": "execute_result"
    }
   ],
   "source": [
    "rend_anual_capm = 0.05+betas*.1\n",
    "rend_anual_capm"
   ]
  },
  {
   "cell_type": "code",
   "execution_count": 15,
   "metadata": {},
   "outputs": [
    {
     "data": {
      "text/plain": [
       "ASURB       0.000562\n",
       "GFNORTEO    0.000803\n",
       "PE&OLES*    0.000606\n",
       "WALMEX*     0.000550\n",
       "IENOVA*     0.000486\n",
       "ELEKTRA*    0.000348\n",
       "PINFRA*     0.000487\n",
       "dtype: float64"
      ]
     },
     "execution_count": 15,
     "metadata": {},
     "output_type": "execute_result"
    }
   ],
   "source": [
    "rend_diario_capm = rend_anual_capm/252\n",
    "rend_diario_capm"
   ]
  },
  {
   "cell_type": "markdown",
   "metadata": {},
   "source": [
    "#### Clasificación de acciones entre defensivas y agresivas"
   ]
  },
  {
   "cell_type": "code",
   "execution_count": 16,
   "metadata": {},
   "outputs": [
    {
     "data": {
      "text/plain": [
       "Index(['ASURB', 'WALMEX*', 'IENOVA*', 'ELEKTRA*', 'PINFRA*'], dtype='object')"
      ]
     },
     "execution_count": 16,
     "metadata": {},
     "output_type": "execute_result"
    }
   ],
   "source": [
    "Acciones_Defensivas = betas[betas < 1]\n",
    "Acciones_Defensivas.index"
   ]
  },
  {
   "cell_type": "code",
   "execution_count": 17,
   "metadata": {},
   "outputs": [
    {
     "data": {
      "text/plain": [
       "Index(['GFNORTEO', 'PE&OLES*'], dtype='object')"
      ]
     },
     "execution_count": 17,
     "metadata": {},
     "output_type": "execute_result"
    }
   ],
   "source": [
    "Acciones_Ofensivas = betas[betas > 1]\n",
    "Acciones_Ofensivas.index"
   ]
  },
  {
   "cell_type": "markdown",
   "metadata": {},
   "source": [
    "#### Calculo de matriz varianza-covarianza"
   ]
  },
  {
   "cell_type": "code",
   "execution_count": 18,
   "metadata": {},
   "outputs": [
    {
     "data": {
      "text/html": [
       "<div>\n",
       "<style scoped>\n",
       "    .dataframe tbody tr th:only-of-type {\n",
       "        vertical-align: middle;\n",
       "    }\n",
       "\n",
       "    .dataframe tbody tr th {\n",
       "        vertical-align: top;\n",
       "    }\n",
       "\n",
       "    .dataframe thead th {\n",
       "        text-align: right;\n",
       "    }\n",
       "</style>\n",
       "<table border=\"1\" class=\"dataframe\">\n",
       "  <thead>\n",
       "    <tr style=\"text-align: right;\">\n",
       "      <th></th>\n",
       "      <th>ASURB</th>\n",
       "      <th>GFNORTEO</th>\n",
       "      <th>PE&amp;OLES*</th>\n",
       "      <th>WALMEX*</th>\n",
       "      <th>IENOVA*</th>\n",
       "      <th>ELEKTRA*</th>\n",
       "      <th>PINFRA*</th>\n",
       "    </tr>\n",
       "  </thead>\n",
       "  <tbody>\n",
       "    <tr>\n",
       "      <th>ASURB</th>\n",
       "      <td>0.056395</td>\n",
       "      <td>0.021719</td>\n",
       "      <td>0.015274</td>\n",
       "      <td>0.009059</td>\n",
       "      <td>0.011079</td>\n",
       "      <td>0.006141</td>\n",
       "      <td>0.015996</td>\n",
       "    </tr>\n",
       "    <tr>\n",
       "      <th>GFNORTEO</th>\n",
       "      <td>0.021719</td>\n",
       "      <td>0.086023</td>\n",
       "      <td>0.023718</td>\n",
       "      <td>0.020604</td>\n",
       "      <td>0.020555</td>\n",
       "      <td>0.005846</td>\n",
       "      <td>0.019874</td>\n",
       "    </tr>\n",
       "    <tr>\n",
       "      <th>PE&amp;OLES*</th>\n",
       "      <td>0.015274</td>\n",
       "      <td>0.023718</td>\n",
       "      <td>0.138051</td>\n",
       "      <td>0.010318</td>\n",
       "      <td>0.011368</td>\n",
       "      <td>0.005504</td>\n",
       "      <td>0.012246</td>\n",
       "    </tr>\n",
       "    <tr>\n",
       "      <th>WALMEX*</th>\n",
       "      <td>0.009059</td>\n",
       "      <td>0.020604</td>\n",
       "      <td>0.010318</td>\n",
       "      <td>0.054222</td>\n",
       "      <td>0.010804</td>\n",
       "      <td>0.007108</td>\n",
       "      <td>0.008645</td>\n",
       "    </tr>\n",
       "    <tr>\n",
       "      <th>IENOVA*</th>\n",
       "      <td>0.011079</td>\n",
       "      <td>0.020555</td>\n",
       "      <td>0.011368</td>\n",
       "      <td>0.010804</td>\n",
       "      <td>0.056846</td>\n",
       "      <td>0.006021</td>\n",
       "      <td>0.011107</td>\n",
       "    </tr>\n",
       "    <tr>\n",
       "      <th>ELEKTRA*</th>\n",
       "      <td>0.006141</td>\n",
       "      <td>0.005846</td>\n",
       "      <td>0.005504</td>\n",
       "      <td>0.007108</td>\n",
       "      <td>0.006021</td>\n",
       "      <td>0.107935</td>\n",
       "      <td>0.006549</td>\n",
       "    </tr>\n",
       "    <tr>\n",
       "      <th>PINFRA*</th>\n",
       "      <td>0.015996</td>\n",
       "      <td>0.019874</td>\n",
       "      <td>0.012246</td>\n",
       "      <td>0.008645</td>\n",
       "      <td>0.011107</td>\n",
       "      <td>0.006549</td>\n",
       "      <td>0.046491</td>\n",
       "    </tr>\n",
       "  </tbody>\n",
       "</table>\n",
       "</div>"
      ],
      "text/plain": [
       "             ASURB  GFNORTEO  PE&OLES*   WALMEX*   IENOVA*  ELEKTRA*   PINFRA*\n",
       "ASURB     0.056395  0.021719  0.015274  0.009059  0.011079  0.006141  0.015996\n",
       "GFNORTEO  0.021719  0.086023  0.023718  0.020604  0.020555  0.005846  0.019874\n",
       "PE&OLES*  0.015274  0.023718  0.138051  0.010318  0.011368  0.005504  0.012246\n",
       "WALMEX*   0.009059  0.020604  0.010318  0.054222  0.010804  0.007108  0.008645\n",
       "IENOVA*   0.011079  0.020555  0.011368  0.010804  0.056846  0.006021  0.011107\n",
       "ELEKTRA*  0.006141  0.005846  0.005504  0.007108  0.006021  0.107935  0.006549\n",
       "PINFRA*   0.015996  0.019874  0.012246  0.008645  0.011107  0.006549  0.046491"
      ]
     },
     "execution_count": 18,
     "metadata": {},
     "output_type": "execute_result"
    }
   ],
   "source": [
    "var_cov_anual = rend[acciones].cov()*252\n",
    "var_cov_anual"
   ]
  },
  {
   "cell_type": "markdown",
   "metadata": {},
   "source": [
    "### Utilizando los rendimientos esperados bajo el modelo CAPM, construye**"
   ]
  },
  {
   "cell_type": "code",
   "execution_count": 19,
   "metadata": {},
   "outputs": [],
   "source": [
    "def port_rend(weights):\n",
    "    E_p =(rend_anual_capm @ weights) \n",
    "    return E_p\n",
    "def port_vol(weights):\n",
    "    S_p = np.sqrt(weights.T @ (var_cov_anual) @ weights)\n",
    "    return S_p"
   ]
  },
  {
   "cell_type": "code",
   "execution_count": 20,
   "metadata": {},
   "outputs": [],
   "source": [
    "def sum_weights(weights):\n",
    "    return weights.sum() -1 # == 0\n",
    "def rend_esperado(w, E):\n",
    "    return port_rend(w) - E # == 0"
   ]
  },
  {
   "cell_type": "markdown",
   "metadata": {},
   "source": [
    "### Cálculo de cartera de mínima varianza y frontera eficiente"
   ]
  },
  {
   "cell_type": "code",
   "execution_count": 21,
   "metadata": {},
   "outputs": [],
   "source": [
    "rmin = rend_anual_capm.min()\n",
    "rmax = rend_anual_capm.max()"
   ]
  },
  {
   "cell_type": "code",
   "execution_count": 22,
   "metadata": {},
   "outputs": [
    {
     "data": {
      "text/plain": [
       "array([0.08763682, 0.08997588, 0.09231494, 0.094654  , 0.09699307,\n",
       "       0.09933213, 0.10167119, 0.10401025, 0.10634931, 0.10868838,\n",
       "       0.11102744, 0.1133665 , 0.11570556, 0.11804462, 0.12038368,\n",
       "       0.12272275, 0.12506181, 0.12740087, 0.12973993, 0.13207899,\n",
       "       0.13441806, 0.13675712, 0.13909618, 0.14143524, 0.1437743 ,\n",
       "       0.14611337, 0.14845243, 0.15079149, 0.15313055, 0.15546961,\n",
       "       0.15780868, 0.16014774, 0.1624868 , 0.16482586, 0.16716492,\n",
       "       0.16950399, 0.17184305, 0.17418211, 0.17652117, 0.17886023,\n",
       "       0.1811993 , 0.18353836, 0.18587742, 0.18821648, 0.19055554,\n",
       "       0.19289461, 0.19523367, 0.19757273, 0.19991179, 0.20225085])"
      ]
     },
     "execution_count": 22,
     "metadata": {},
     "output_type": "execute_result"
    }
   ],
   "source": [
    "rend_maxs = np.linspace(rmin,rmax)\n",
    "rend_maxs"
   ]
  },
  {
   "cell_type": "code",
   "execution_count": 23,
   "metadata": {},
   "outputs": [],
   "source": [
    "pesos_optimos = []\n",
    "N, M  = rend[acciones].shape\n",
    "np.random.seed(5)\n",
    "w0 = np.random.randn(M)\n",
    "for e in rend_maxs:\n",
    "    constraints = [\n",
    "        {\"type\":\"eq\", \"fun\":sum_weights},\n",
    "        {\"type\":\"eq\", \"fun\":lambda w: rend_esperado(w, e)}\n",
    "    ]\n",
    "    port1 = minimize(port_vol, w0, constraints=constraints)\n",
    "    w_opt = port1.x\n",
    "    pesos_optimos.append(w_opt)"
   ]
  },
  {
   "cell_type": "code",
   "execution_count": 24,
   "metadata": {},
   "outputs": [
    {
     "data": {
      "image/png": "[encoded data removed]",
      "text/plain": [
       "<Figure size 864x504 with 1 Axes>"
      ]
     },
     "metadata": {
      "needs_background": "light"
     },
     "output_type": "display_data"
    }
   ],
   "source": [
    "r_opt = []\n",
    "v_opt = []\n",
    "for w in pesos_optimos:\n",
    "    r_opt.append(port_rend(w))\n",
    "    v_opt.append(port_vol(w))\n",
    "    \n",
    "r_opt = np.array(r_opt)\n",
    "v_opt = np.array(v_opt)\n",
    "\n",
    "plt.figure(figsize=(12,7))\n",
    "plt.plot(v_opt,r_opt)\n",
    "plt.scatter(v_opt[np.argmin(v_opt)],r_opt[np.argmin(v_opt)],)\n",
    "plt.xlabel(r\"$\\sigma^2_r$\", fontsize=13)\n",
    "plt.ylabel(\"E(r)\",fontsize=13);\n",
    "plt.title(\"Frontera eficiente y cartera de mínima varianza\");"
   ]
  },
  {
   "cell_type": "markdown",
   "metadata": {},
   "source": [
    "### Cálculo de portafolio riesgoso óptimo, aquel que maximiza el coeficiente de *Sharpe*"
   ]
  },
  {
   "cell_type": "code",
   "execution_count": 25,
   "metadata": {},
   "outputs": [
    {
     "data": {
      "text/plain": [
       "array([0.18756757, 0.26390329, 0.08257847, 0.21485191, 0.10035608,\n",
       "       0.0303042 , 0.12043848])"
      ]
     },
     "execution_count": 25,
     "metadata": {},
     "output_type": "execute_result"
    }
   ],
   "source": [
    "N, M  = rend[acciones].shape\n",
    "w0 = np.random.randn(M)\n",
    "rf = .05\n",
    "def min_func_sharpe(weights):\n",
    "        return - (port_rend(weights) - rf)/ port_vol(weights)\n",
    "\n",
    "constraints = [\n",
    "    {\"type\":\"eq\", \"fun\":sum_weights}\n",
    "]\n",
    "f_sharpe = minimize(min_func_sharpe,w0, constraints=constraints)\n",
    "w_sharpe = f_sharpe.x\n",
    "w_sharpe"
   ]
  },
  {
   "cell_type": "code",
   "execution_count": 26,
   "metadata": {},
   "outputs": [
    {
     "data": {
      "text/plain": [
       "(0.15203716115815094, 0.15915070024326172)"
      ]
     },
     "execution_count": 26,
     "metadata": {},
     "output_type": "execute_result"
    }
   ],
   "source": [
    "e_sharpe = port_rend(w_sharpe)\n",
    "vol_sharpe = port_vol(w_sharpe)\n",
    "e_sharpe, vol_sharpe"
   ]
  },
  {
   "cell_type": "markdown",
   "metadata": {},
   "source": [
    "### Cálculo de porcentaje a invertir en el portafolio riesgoso óptimo y en el activo libre de riesgo"
   ]
  },
  {
   "cell_type": "code",
   "execution_count": 27,
   "metadata": {},
   "outputs": [
    {
     "data": {
      "text/plain": [
       "1.342826814610986"
      ]
     },
     "execution_count": 27,
     "metadata": {},
     "output_type": "execute_result"
    }
   ],
   "source": [
    "A = 3\n",
    "y_star = (e_sharpe - rf) / (A * vol_sharpe ** 2)\n",
    "y_star"
   ]
  },
  {
   "cell_type": "code",
   "execution_count": 28,
   "metadata": {},
   "outputs": [],
   "source": [
    "E_util = rf+y_star*(e_sharpe-rf)\n",
    "V_util = y_star*vol_sharpe"
   ]
  },
  {
   "cell_type": "code",
   "execution_count": 29,
   "metadata": {},
   "outputs": [
    {
     "name": "stdout",
     "output_type": "stream",
     "text": [
      "E[u]=0.187\n",
      "V[u]=0.214\n"
     ]
    }
   ],
   "source": [
    "print(f\"E[u]={E_util:0.3}\")\n",
    "print(f\"V[u]={V_util:0.3}\")"
   ]
  },
  {
   "cell_type": "code",
   "execution_count": 30,
   "metadata": {
    "scrolled": true
   },
   "outputs": [
    {
     "data": {
      "image/png": "[encoded data removed]",
      "text/plain": [
       "<Figure size 864x360 with 1 Axes>"
      ]
     },
     "metadata": {
      "needs_background": "light"
     },
     "output_type": "display_data"
    }
   ],
   "source": [
    "sigma_c = np.linspace(0,0.25)\n",
    "sharpe = rf+sigma_c*(e_sharpe-rf)/vol_sharpe\n",
    "plt.figure(figsize=(12,5))\n",
    "plt.plot(sigma_c, sharpe, linestyle=\"--\", c=\"tab:orange\", label = \"Capital Allocation Line\")\n",
    "plt.plot(v_opt,r_opt)\n",
    "plt.scatter(V_util,E_util,c=\"tab:red\")\n",
    "plt.legend(fontsize=12);"
   ]
  },
  {
   "cell_type": "markdown",
   "metadata": {},
   "source": [
    "**¿En qué escenarios ocuparías una red neuronal?**  \n",
    "\n",
    "*R.- Cuando se tiene una gran cantidad de datos, millones, pues sea ha comprobado que cuando se tienen \"pocos\" datos, las redes neuronales tienen un peor desempeño en comparación con modelos más simples. También es siempre recomendable, intentar ajustar previamente, modelos más simples* "
   ]
  },
  {
   "cell_type": "markdown",
   "metadata": {},
   "source": [
    "**¿En qué escenarios no ocuparías una red neuronal?**  \n",
    "\n",
    "*R.- Cuando se tienen muy pocos datos* "
   ]
  },
  {
   "cell_type": "markdown",
   "metadata": {},
   "source": [
    "**Menciona tres funciones de activación para una red neuronal feed-forward**  \n",
    "\n",
    "*R.- ReLu (Rectified Lineal Unit), Sigmoid, Tanh (Tangent Hyperbolic)* "
   ]
  },
  {
   "cell_type": "markdown",
   "metadata": {},
   "source": [
    "**¿Qué es el método de backpropagation?**  \n",
    "\n",
    "*R.- También conocido como backwar propagation errors, es un algoritmo, para el cual, dada una red neuronal y una función de costo, calcula el gradiente de la función de costo con respecto a los pesos de la red neuronal. El término backwards, proviene del hecho de que el calculo del gradiente, se obtiene de adelante hacia atrás, es decir, primero se calcula el gradiente asociado a la última capa de la red, y el gradiente de la primera capa de la red se calcula hasta el final*"
   ]
  },
  {
   "cell_type": "markdown",
   "metadata": {},
   "source": [
    "**¿En qué difiere una red neuronal feed-forward de una red neuronal convolucional?**  \n",
    "\n",
    "*R.- Una red neuronal convolucional, es un tipo de red neuronal que tiene alguna capa, o todas, convolucionadas (filtro). Por otro lado, las FFNN, son redes no recursivas, es decir, las neuronas en las distintas capas están conectadas únicamente con neuronas de la siguiente capa y además, no forman ciclos, en el caso de que formen ciclos, entonces se conocen como redes neuronales recurrentes. Se puede hacer, que cualquier CNN sea FFNN o RNN, depende de la arquitectura que se desea.*"
   ]
  }
 ],
 "metadata": {
  "kernelspec": {
   "display_name": "Python 3",
   "language": "python",
   "name": "python3"
  },
  "language_info": {
   "codemirror_mode": {
    "name": "ipython",
    "version": 3
   },
   "file_extension": ".py",
   "mimetype": "text/x-python",
   "name": "python",
   "nbconvert_exporter": "python",
   "pygments_lexer": "ipython3",
   "version": "3.7.3"
  }
 },
 "nbformat": 4,
 "nbformat_minor": 2
}
